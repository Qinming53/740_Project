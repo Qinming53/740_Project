{
  "cells": [
    {
      "cell_type": "markdown",
      "metadata": {
        "id": "onppqoyundmb"
      },
      "source": [
        "## SEP 740 Project Report - Group 9"
      ]
    },
    {
      "cell_type": "code",
      "execution_count": null,
      "metadata": {
        "colab": {
          "base_uri": "https://localhost:8080/"
        },
        "id": "uWGR0dd3l81K",
        "outputId": "3ca8be61-34d8-4b47-e06b-0bc9d13fd6b4"
      },
      "outputs": [
        {
          "output_type": "stream",
          "name": "stderr",
          "text": [
            "[nltk_data] Downloading package stopwords to /root/nltk_data...\n",
            "[nltk_data]   Unzipping corpora/stopwords.zip.\n",
            "[nltk_data] Downloading package punkt to /root/nltk_data...\n",
            "[nltk_data]   Unzipping tokenizers/punkt.zip.\n",
            "[nltk_data] Downloading package wordnet to /root/nltk_data...\n",
            "[nltk_data] Downloading package omw-1.4 to /root/nltk_data...\n"
          ]
        },
        {
          "output_type": "execute_result",
          "data": {
            "text/plain": [
              "True"
            ]
          },
          "metadata": {},
          "execution_count": 1
        }
      ],
      "source": [
        "#Preprocessing the dataset\n",
        "import numpy as np\n",
        "import pandas as pd\n",
        "import matplotlib.pyplot as plt\n",
        "import seaborn as sns\n",
        "from scipy.stats import f_oneway\n",
        "import time\n",
        "import re\n",
        "import nltk.corpus\n",
        "from nltk.tokenize import word_tokenize \n",
        "from nltk.stem import PorterStemmer\n",
        "from nltk.corpus import stopwords\n",
        "from nltk.stem import WordNetLemmatizer\n",
        "\n",
        "import tensorflow as tf\n",
        "from tensorflow.keras.layers import MaxPooling1D,Conv1D,Dense,Flatten,ReLU,Dropout,Flatten\n",
        "from keras import layers\n",
        "from keras import initializers as initializers, regularizers, constraints\n",
        "from keras.utils.np_utils import to_categorical\n",
        "from keras import optimizers\n",
        "from keras.models import Model,Sequential\n",
        "from keras.preprocessing.text import Tokenizer, text_to_word_sequence\n",
        "from tensorflow.keras.preprocessing.sequence import pad_sequences\n",
        "from keras.layers import Embedding, LSTM, Dense, Bidirectional\n",
        "from keras.preprocessing.text import Tokenizer\n",
        "\n",
        "from sklearn.model_selection import train_test_split\n",
        "\n",
        "\n",
        "\n",
        "from keras.optimizers import Adam\n",
        "nltk.download('stopwords')\n",
        "nltk.download('punkt')\n",
        "nltk.download('wordnet')\n",
        "nltk.download('omw-1.4')"
      ]
    },
    {
      "cell_type": "code",
      "execution_count": null,
      "metadata": {
        "id": "9NyGUALFwVOS"
      },
      "outputs": [],
      "source": [
        "url = 'https://raw.githubusercontent.com/dashascience/-MBTI-Myers-Briggs-Personality-Type-Dataset/master/mbti_1.csv'\n",
        "df = pd.read_csv(url)"
      ]
    },
    {
      "cell_type": "code",
      "execution_count": null,
      "metadata": {
        "id": "1kHNiOZYoiNn"
      },
      "outputs": [],
      "source": [
        "# normalize, remove stop words and url links.\n",
        "lemmatizer = WordNetLemmatizer()\n",
        "stop_words = set(stopwords.words('english')) \n",
        "clean_text1=[]\n",
        "for i in df.posts[0].split('|||'):\n",
        "  i=i.lower()\n",
        "  i = re.sub(r\"(@\\[A-Za-z0-9]+)|([^0-9A-Za-z \\t])|(\\w+:\\/\\/\\S+)|^rt|http.+?\", \"\", i)\n",
        "  i_tokens = word_tokenize(i)\n",
        "  filtered_i = [w for w in i_tokens if not w in stop_words]\n",
        "  clean_text1.append(filtered_i)"
      ]
    },
    {
      "cell_type": "code",
      "execution_count": null,
      "metadata": {
        "id": "5X8o52Mton_Q"
      },
      "outputs": [],
      "source": [
        "#lemmatization ensure that only words that mean similar things are consolidated into a single token\n",
        "for j in clean_text1:\n",
        "  for p in range(len(j)):\n",
        "    j[p]=lemmatizer.lemmatize(j[p])\n"
      ]
    },
    {
      "cell_type": "code",
      "execution_count": null,
      "metadata": {
        "id": "8vXSjFoztpY3"
      },
      "outputs": [],
      "source": [
        "# Clean methods for dataframe cleaning\n",
        "def clean_data(str):\n",
        "  clean_text1=[]\n",
        "  for i in str.split('|||'):\n",
        "    i=i.lower()\n",
        "    i = re.sub(r\"(@\\[A-Za-z0-9]+)|([^0-9A-Za-z \\t])|(\\w+:\\/\\/\\S+)|^rt|http.+?\", \"\", i)\n",
        "    i_tokens = word_tokenize(i)\n",
        "    filtered_i = [w for w in i_tokens if not w in stop_words]\n",
        "    clean_text1.append(filtered_i)\n",
        "  return clean_text1\n",
        "\n",
        "def lemmatized_data(strList):\n",
        "  for j in strList:\n",
        "    for p in range(len(j)):\n",
        "      j[p]=lemmatizer.lemmatize(j[p])\n",
        "  return strList"
      ]
    },
    {
      "cell_type": "code",
      "execution_count": null,
      "metadata": {
        "colab": {
          "base_uri": "https://localhost:8080/"
        },
        "id": "8M1sSQDOybkx",
        "outputId": "3c97db88-d5f3-4c5a-d6b1-fea67d95d583"
      },
      "outputs": [
        {
          "output_type": "stream",
          "name": "stderr",
          "text": [
            "[nltk_data] Downloading package stopwords to /root/nltk_data...\n",
            "[nltk_data]   Package stopwords is already up-to-date!\n"
          ]
        }
      ],
      "source": [
        "stopwords = nltk.corpus.stopwords.words('english')\n",
        "lemmatizer = WordNetLemmatizer()\n",
        "nltk.download('stopwords')\n",
        "#MBTI related words\n",
        "mbti = [\"intj\",\"intp\",\"infj\", \"infp\",\"istj\",\"istp\",\"isfj\",\"isfp\",\"entj\",\"entp\", \"enfj\", \"enfp\",\"estj\", \"estp\",\"esfj\",\"esfp\",\"si\",\"ni\",\"ti\",\"fi\",\"se\",\n",
        "        \"ne\",\"te\",\"fe\",\"nt\",\"nf\",\"le\",\"mbti\",\"sp\",\"sj\",\"sf\",\"st\",\"in\",\"is\",\"en\",\"es\"]\n",
        "data_length=[]\n",
        "lemmatizer=WordNetLemmatizer()\n",
        "clean_text1=[]\n",
        "for i in range(0,len(df.posts)):\n",
        "  doc = re.sub(r\"(@\\[A-Za-z0-9]+)|([^0-9A-Za-z \\t])|(\\w+:\\/\\/\\S+)|^rt|http.+?\", \"\", df.posts[i])\n",
        "  doc = doc.lower()\n",
        "  doc = doc.split()\n",
        "  #Remove MBTI related words and lemmatize the rest words\n",
        "  for w in doc:\n",
        "    if w in mbti:\n",
        "      doc.remove(w)\n",
        "    elif not w in set(stopwords):\n",
        "        lemmatizer.lemmatize(w) \n",
        "\n",
        "      \n",
        "  doc = ' '.join(doc)\n",
        "  clean_text1.append(doc)"
      ]
    },
    {
      "cell_type": "code",
      "execution_count": null,
      "metadata": {
        "id": "eRdJqLXboxx1"
      },
      "outputs": [],
      "source": [
        "types = np.unique(df.type.values)\n",
        "\n",
        "def get_type_index(string):\n",
        "    return list(types).index(string)\n",
        "\n",
        "df['type_index'] = df['type'].apply(get_type_index)\n",
        "# Find the original posts column\n",
        "n = df.columns[1]\n",
        "# Drop that column\n",
        "df.drop(n, axis = 1, inplace = True)\n",
        "# Put cleaned posts in place\n",
        "df[n] = clean_text1"
      ]
    },
    {
      "cell_type": "code",
      "execution_count": null,
      "metadata": {
        "colab": {
          "base_uri": "https://localhost:8080/"
        },
        "id": "Ulwm1Z-3Ci3N",
        "outputId": "f3da9bb2-a50c-4026-b534-19a697f89358"
      },
      "outputs": [
        {
          "output_type": "stream",
          "name": "stdout",
          "text": [
            "Training set shape: (19931, 500)\n",
            "Vlidation set shape: (3518, 500)\n",
            "Testing set shape: (5863, 500)\n"
          ]
        }
      ],
      "source": [
        "#specify the amount of features\n",
        "vocab_size = 10000\n",
        "\n",
        "tokenizer = Tokenizer(num_words = vocab_size)\n",
        "tokenizer.fit_on_texts(df.posts)\n",
        "\n",
        "import imblearn\n",
        "from imblearn.over_sampling import RandomOverSampler\n",
        "ros = RandomOverSampler(random_state=39) # fit predictor and target variable\n",
        "\n",
        "\n",
        "maxlen = 500\n",
        "#Transform text into sequence and pad posts with size of 500\n",
        "train_sequences = tokenizer.texts_to_sequences(df.posts.values)\n",
        "train_padded = pad_sequences(train_sequences, maxlen = maxlen)\n",
        "labels= tf.keras.utils.to_categorical(df.type_index.values, num_classes=16)\n",
        "x_rus, y_rus = ros.fit_resample(train_padded, labels)\n",
        "\n",
        "x_train,x_test,y_train,y_test=train_test_split(x_rus, y_rus, test_size=0.2, random_state=42)\n",
        "\n",
        "x_train,x_val,y_train, y_val = train_test_split(x_train, y_train, test_size=0.15, random_state=39) \n",
        "\n",
        "\n",
        "#Transform text into sequence and pad posts with size of 500 for validation set\n",
        "#Show shapes of different sets                            \n",
        "print(\"Training set shape:\",x_train.shape)\n",
        "print(\"Vlidation set shape:\",x_val.shape)\n",
        "print(\"Testing set shape:\",x_test.shape)"
      ]
    },
    {
      "cell_type": "code",
      "execution_count": null,
      "metadata": {
        "id": "uLopEC4L0g0s"
      },
      "outputs": [],
      "source": [
        "#Define model \n",
        "def create_model_CNN(lrn_rate,drop_rate):\n",
        "    model = Sequential()\n",
        "    model.add(Embedding(vocab_size,64,input_length=len(train_padded[0])))\n",
        "\n",
        "    model.add(Conv1D(64,5,activation = \"relu\"))\n",
        "    model.add(Dropout(drop_rate))\n",
        "    model.add(MaxPooling1D())\n",
        "\n",
        "    model.add(Conv1D(64,5,activation = \"relu\"))\n",
        "    model.add(Dropout(drop_rate))\n",
        "\n",
        "    model.add(Flatten())\n",
        "    model.add(Dense(64, activation='relu'))\n",
        "    model.add(Dropout(drop_rate))\n",
        "    model.add(Dense(16, activation='softmax'))\n",
        "    model.compile(loss='categorical_crossentropy', optimizer = tf.optimizers.Adam(learning_rate=lrn_rate), metrics=['accuracy'])\n",
        "    return model"
      ]
    },
    {
      "cell_type": "code",
      "execution_count": null,
      "metadata": {
        "colab": {
          "base_uri": "https://localhost:8080/"
        },
        "id": "9Jl1Qdk46m0X",
        "outputId": "976f300d-8574-4cec-fde7-0c49ce1d241c"
      },
      "outputs": [
        {
          "output_type": "stream",
          "name": "stdout",
          "text": [
            "Epoch 1/40\n",
            "57/57 [==============================] - 11s 39ms/step - loss: 2.4128 - accuracy: 0.2759 - val_loss: 1.7451 - val_accuracy: 0.4764\n",
            "Epoch 2/40\n",
            "57/57 [==============================] - 2s 30ms/step - loss: 1.2027 - accuracy: 0.6529 - val_loss: 0.9057 - val_accuracy: 0.7382\n",
            "Epoch 3/40\n",
            "57/57 [==============================] - 2s 30ms/step - loss: 0.5695 - accuracy: 0.8305 - val_loss: 0.5997 - val_accuracy: 0.8110\n",
            "Epoch 4/40\n",
            "57/57 [==============================] - 2s 31ms/step - loss: 0.2714 - accuracy: 0.9233 - val_loss: 0.5327 - val_accuracy: 0.8380\n",
            "Epoch 5/40\n",
            "57/57 [==============================] - 2s 30ms/step - loss: 0.1435 - accuracy: 0.9637 - val_loss: 0.4856 - val_accuracy: 0.8547\n",
            "Epoch 6/40\n",
            "57/57 [==============================] - 2s 31ms/step - loss: 0.0639 - accuracy: 0.9878 - val_loss: 0.5312 - val_accuracy: 0.8488\n",
            "Epoch 7/40\n",
            "57/57 [==============================] - 2s 31ms/step - loss: 0.0353 - accuracy: 0.9949 - val_loss: 0.5872 - val_accuracy: 0.8613\n",
            "Epoch 8/40\n",
            "57/57 [==============================] - 2s 30ms/step - loss: 0.0247 - accuracy: 0.9967 - val_loss: 0.5975 - val_accuracy: 0.8468\n",
            "Epoch 9/40\n",
            "57/57 [==============================] - 2s 30ms/step - loss: 0.0193 - accuracy: 0.9971 - val_loss: 0.6027 - val_accuracy: 0.8596\n",
            "Epoch 10/40\n",
            "57/57 [==============================] - 2s 31ms/step - loss: 0.0155 - accuracy: 0.9975 - val_loss: 0.6104 - val_accuracy: 0.8593\n",
            "Epoch 11/40\n",
            "57/57 [==============================] - 2s 30ms/step - loss: 0.0152 - accuracy: 0.9975 - val_loss: 0.6593 - val_accuracy: 0.8471\n",
            "Epoch 12/40\n",
            "57/57 [==============================] - 2s 30ms/step - loss: 0.0101 - accuracy: 0.9988 - val_loss: 0.6512 - val_accuracy: 0.8556\n",
            "Epoch 13/40\n",
            "57/57 [==============================] - 2s 31ms/step - loss: 0.0086 - accuracy: 0.9989 - val_loss: 0.6725 - val_accuracy: 0.8553\n",
            "Epoch 14/40\n",
            "57/57 [==============================] - 2s 31ms/step - loss: 0.0080 - accuracy: 0.9990 - val_loss: 0.7166 - val_accuracy: 0.8491\n",
            "Epoch 15/40\n",
            "57/57 [==============================] - 2s 30ms/step - loss: 0.0061 - accuracy: 0.9991 - val_loss: 0.7253 - val_accuracy: 0.8499\n",
            "Epoch 16/40\n",
            "57/57 [==============================] - 2s 31ms/step - loss: 0.0057 - accuracy: 0.9992 - val_loss: 0.7114 - val_accuracy: 0.8533\n",
            "Epoch 17/40\n",
            "57/57 [==============================] - 2s 30ms/step - loss: 0.0053 - accuracy: 0.9994 - val_loss: 0.7098 - val_accuracy: 0.8539\n",
            "Epoch 18/40\n",
            "57/57 [==============================] - 2s 30ms/step - loss: 0.0043 - accuracy: 0.9995 - val_loss: 0.7653 - val_accuracy: 0.8556\n",
            "Epoch 19/40\n",
            "57/57 [==============================] - 2s 30ms/step - loss: 0.0049 - accuracy: 0.9993 - val_loss: 0.7352 - val_accuracy: 0.8542\n",
            "Epoch 20/40\n",
            "57/57 [==============================] - 2s 31ms/step - loss: 0.0055 - accuracy: 0.9989 - val_loss: 0.7795 - val_accuracy: 0.8570\n",
            "Epoch 21/40\n",
            "57/57 [==============================] - 2s 31ms/step - loss: 0.0045 - accuracy: 0.9994 - val_loss: 0.7783 - val_accuracy: 0.8536\n",
            "Epoch 22/40\n",
            "57/57 [==============================] - 2s 31ms/step - loss: 0.0040 - accuracy: 0.9995 - val_loss: 0.7870 - val_accuracy: 0.8437\n",
            "Epoch 23/40\n",
            "57/57 [==============================] - 2s 30ms/step - loss: 0.0041 - accuracy: 0.9994 - val_loss: 0.8418 - val_accuracy: 0.8479\n",
            "Epoch 24/40\n",
            "57/57 [==============================] - 2s 30ms/step - loss: 0.0032 - accuracy: 0.9996 - val_loss: 0.8005 - val_accuracy: 0.8505\n",
            "Epoch 25/40\n",
            "57/57 [==============================] - 2s 30ms/step - loss: 0.0029 - accuracy: 0.9996 - val_loss: 0.8246 - val_accuracy: 0.8562\n",
            "Epoch 26/40\n",
            "57/57 [==============================] - 2s 30ms/step - loss: 0.0031 - accuracy: 0.9994 - val_loss: 0.8274 - val_accuracy: 0.8542\n",
            "Epoch 27/40\n",
            "57/57 [==============================] - 2s 30ms/step - loss: 0.0038 - accuracy: 0.9994 - val_loss: 0.8271 - val_accuracy: 0.8565\n",
            "Epoch 28/40\n",
            "57/57 [==============================] - 2s 30ms/step - loss: 0.0027 - accuracy: 0.9997 - val_loss: 0.8271 - val_accuracy: 0.8542\n",
            "Epoch 29/40\n",
            "57/57 [==============================] - 2s 30ms/step - loss: 0.0024 - accuracy: 0.9997 - val_loss: 0.8936 - val_accuracy: 0.8448\n",
            "Epoch 30/40\n",
            "57/57 [==============================] - 2s 31ms/step - loss: 0.0029 - accuracy: 0.9994 - val_loss: 0.8306 - val_accuracy: 0.8519\n",
            "Epoch 31/40\n",
            "57/57 [==============================] - 2s 31ms/step - loss: 0.0030 - accuracy: 0.9994 - val_loss: 0.9163 - val_accuracy: 0.8431\n",
            "Epoch 32/40\n",
            "57/57 [==============================] - 2s 32ms/step - loss: 0.0029 - accuracy: 0.9995 - val_loss: 0.9005 - val_accuracy: 0.8519\n",
            "Epoch 33/40\n",
            "57/57 [==============================] - 2s 32ms/step - loss: 0.0026 - accuracy: 0.9995 - val_loss: 0.8974 - val_accuracy: 0.8604\n",
            "Epoch 34/40\n",
            "57/57 [==============================] - 2s 30ms/step - loss: 0.0056 - accuracy: 0.9989 - val_loss: 0.8366 - val_accuracy: 0.8511\n",
            "Epoch 35/40\n",
            "57/57 [==============================] - 2s 31ms/step - loss: 0.0025 - accuracy: 0.9997 - val_loss: 0.9049 - val_accuracy: 0.8448\n",
            "Epoch 36/40\n",
            "57/57 [==============================] - 2s 31ms/step - loss: 0.0025 - accuracy: 0.9996 - val_loss: 1.0051 - val_accuracy: 0.8394\n",
            "Epoch 37/40\n",
            "57/57 [==============================] - 2s 30ms/step - loss: 0.0021 - accuracy: 0.9997 - val_loss: 0.9771 - val_accuracy: 0.8474\n",
            "Epoch 38/40\n",
            "57/57 [==============================] - 2s 30ms/step - loss: 0.0031 - accuracy: 0.9992 - val_loss: 0.9472 - val_accuracy: 0.8368\n",
            "Epoch 39/40\n",
            "57/57 [==============================] - 2s 31ms/step - loss: 0.0025 - accuracy: 0.9994 - val_loss: 1.0307 - val_accuracy: 0.8499\n",
            "Epoch 40/40\n",
            "57/57 [==============================] - 2s 30ms/step - loss: 0.0036 - accuracy: 0.9992 - val_loss: 0.9282 - val_accuracy: 0.8471\n"
          ]
        }
      ],
      "source": [
        "#Build model with fine-tuned hyper-parameters\n",
        "#‘batch_size': 350, 'drop_rate': 0.1, 'epochs': 40, 'lrn_rate': 0.001\n",
        "model = create_model_CNN(0.001,0.1)\n",
        "history = model.fit(x_train,y_train, batch_size = 350,epochs = 40, verbose = 1, validation_data = (x_val, y_val))\n",
        "hist = pd.DataFrame(history.history)"
      ]
    },
    {
      "cell_type": "code",
      "source": [
        "#Print out training and validation process\n",
        "print(hist)"
      ],
      "metadata": {
        "id": "efqhgG8NpLRv",
        "colab": {
          "base_uri": "https://localhost:8080/"
        },
        "outputId": "295d065d-b570-432e-8f6c-41f1f952d9b6"
      },
      "execution_count": null,
      "outputs": [
        {
          "output_type": "stream",
          "name": "stdout",
          "text": [
            "        loss  accuracy  val_loss  val_accuracy\n",
            "0   2.412793  0.275852  1.745052      0.476407\n",
            "1   1.202710  0.652852  0.905726      0.738204\n",
            "2   0.569517  0.830465  0.599698      0.810972\n",
            "3   0.271353  0.923285  0.532677      0.837976\n",
            "4   0.143483  0.963725  0.485649      0.854747\n",
            "5   0.063941  0.987758  0.531184      0.848778\n",
            "6   0.035344  0.994882  0.587180      0.861285\n",
            "7   0.024719  0.996689  0.597529      0.846788\n",
            "8   0.019284  0.997090  0.602654      0.859579\n",
            "9   0.015502  0.997542  0.610433      0.859295\n",
            "10  0.015225  0.997491  0.659313      0.847072\n",
            "11  0.010148  0.998796  0.651197      0.855600\n",
            "12  0.008588  0.998946  0.672511      0.855316\n",
            "13  0.007995  0.998997  0.716552      0.849062\n",
            "14  0.006115  0.999147  0.725305      0.849915\n",
            "15  0.005708  0.999197  0.711366      0.853326\n",
            "16  0.005266  0.999398  0.709810      0.853894\n",
            "17  0.004306  0.999548  0.765328      0.855600\n",
            "18  0.004866  0.999348  0.735169      0.854178\n",
            "19  0.005520  0.998896  0.779457      0.857021\n",
            "20  0.004473  0.999398  0.778345      0.853610\n",
            "21  0.003957  0.999498  0.787011      0.843661\n",
            "22  0.004117  0.999398  0.841798      0.847925\n",
            "23  0.003163  0.999649  0.800456      0.850483\n",
            "24  0.002865  0.999599  0.824581      0.856168\n",
            "25  0.003148  0.999398  0.827418      0.854178\n",
            "26  0.003796  0.999448  0.827058      0.856453\n",
            "27  0.002659  0.999749  0.827084      0.854178\n",
            "28  0.002447  0.999699  0.893623      0.844798\n",
            "29  0.002850  0.999398  0.830626      0.851905\n",
            "30  0.002967  0.999448  0.916264      0.843093\n",
            "31  0.002890  0.999548  0.900515      0.851905\n",
            "32  0.002613  0.999548  0.897367      0.860432\n",
            "33  0.005604  0.998896  0.836579      0.851052\n",
            "34  0.002494  0.999749  0.904931      0.844798\n",
            "35  0.002490  0.999649  1.005062      0.839397\n",
            "36  0.002119  0.999749  0.977107      0.847356\n",
            "37  0.003149  0.999197  0.947175      0.836839\n",
            "38  0.002495  0.999398  1.030696      0.849915\n",
            "39  0.003620  0.999197  0.928235      0.847072\n"
          ]
        }
      ]
    },
    {
      "cell_type": "code",
      "source": [
        "#Plot the loss cureve for training and validation set\n",
        "plt.plot(history.history['loss'], label='training')\n",
        "plt.plot(history.history['val_loss'], label='testing')\n",
        "plt.title('Model Loss')\n",
        "plt.xlabel('Epoch')\n",
        "plt.ylabel('Loss')\n",
        "\n",
        "plt.legend(loc='upper right')\n",
        "plt.show()"
      ],
      "metadata": {
        "id": "2nu2ichFpOcU",
        "colab": {
          "base_uri": "https://localhost:8080/",
          "height": 316
        },
        "outputId": "e806af6d-03ae-4499-8060-2c05127b9dd6"
      },
      "execution_count": null,
      "outputs": [
        {
          "output_type": "display_data",
          "data": {
            "text/plain": [
              "<Figure size 432x288 with 1 Axes>"
            ],
            "image/png": "[encoded data removed]"
          },
          "metadata": {
            "needs_background": "light"
          }
        }
      ]
    },
    {
      "cell_type": "code",
      "source": [
        "#Plot the accuracy cureve for training and validation set\n",
        "plt.plot(history.history['accuracy'], label='training')\n",
        "plt.plot(history.history['val_accuracy'], label='testing')\n",
        "plt.title('Model Accuracy')\n",
        "plt.xlabel('Epoch')\n",
        "plt.ylabel('Accuracy')\n",
        "\n",
        "plt.legend(loc='lower right')\n",
        "plt.show()"
      ],
      "metadata": {
        "colab": {
          "base_uri": "https://localhost:8080/",
          "height": 316
        },
        "id": "qEqPgyFzN8mm",
        "outputId": "ac2b3eff-8f8a-4e1f-d534-abe9d4cea2e8"
      },
      "execution_count": null,
      "outputs": [
        {
          "output_type": "display_data",
          "data": {
            "text/plain": [
              "<Figure size 432x288 with 1 Axes>"
            ],
            "image/png": "[encoded data removed]"
          },
          "metadata": {
            "needs_background": "light"
          }
        }
      ]
    },
    {
      "cell_type": "code",
      "source": [
        "#Use the model to predict results for the test sets\n",
        "loss_and_metrics = model.evaluate(x_test, y_test, verbose=2)\n",
        "\n",
        "print(\"Test Loss\", loss_and_metrics[0])\n",
        "print(\"Test Accuracy\", loss_and_metrics[1])\n",
        "\n",
        "#Get detailed reuslt\n",
        "train_probs = model.predict(x_test)\n",
        "#Tranform the format of the results into labels of types\n",
        "train_preds = tf.argmax(train_probs, axis=1)\n",
        "result_list = []\n",
        "#Create a result list\n",
        "for i in train_preds:\n",
        "  value = tf.constant(i)\n",
        "  value = value.numpy()\n",
        "  result_list.append(value)\n",
        "print(result_list)\n"
      ],
      "metadata": {
        "colab": {
          "base_uri": "https://localhost:8080/"
        },
        "id": "urLzWPmnjZfP",
        "outputId": "dbc79224-10a8-4b58-946e-73e018292a31"
      },
      "execution_count": null,
      "outputs": [
        {
          "output_type": "stream",
          "name": "stdout",
          "text": [
            "184/184 - 1s - loss: 0.9690 - accuracy: 0.8450 - 701ms/epoch - 4ms/step\n",
            "Test Loss 0.9690312147140503\n",
            "Test Accuracy 0.8449599146842957\n",
            "184/184 [==============================] - 0s 2ms/step\n",
            "[6, 14, 7, 2, 4, 11, 2, 15, 0, 12, 5, 10, 4, 11, 0, 2, 1, 10, 8, 4, 13, 4, 3, 2, 8, 7, 12, 12, 7, 3, 0, 1, 1, 4, 6, 9, 12, 10, 4, 15, 9, 10, 4, 12, 3, 11, 8, 15, 14, 7, 0, 4, 0, 7, 1, 2, 2, 14, 4, 11, 13, 9, 10, 7, 0, 5, 9, 2, 2, 15, 7, 3, 7, 12, 6, 13, 1, 11, 6, 7, 4, 1, 0, 7, 5, 15, 9, 2, 3, 11, 8, 10, 13, 0, 12, 11, 4, 5, 5, 12, 9, 1, 11, 9, 12, 2, 10, 14, 2, 2, 0, 8, 2, 7, 13, 12, 2, 11, 6, 0, 14, 13, 6, 8, 1, 8, 10, 15, 15, 3, 10, 12, 15, 4, 6, 0, 2, 0, 2, 7, 13, 10, 4, 12, 11, 1, 1, 7, 5, 0, 10, 11, 0, 11, 0, 0, 8, 4, 14, 8, 2, 2, 10, 11, 3, 7, 13, 7, 9, 4, 3, 12, 0, 7, 9, 3, 5, 15, 15, 11, 5, 5, 13, 1, 3, 3, 0, 0, 12, 1, 4, 15, 0, 13, 4, 6, 6, 4, 6, 11, 8, 11, 13, 4, 11, 9, 11, 1, 2, 4, 10, 13, 11, 11, 1, 11, 4, 8, 14, 15, 14, 13, 5, 1, 14, 12, 4, 15, 8, 6, 15, 4, 8, 8, 15, 13, 5, 7, 2, 4, 4, 3, 13, 11, 13, 1, 2, 9, 15, 7, 15, 11, 3, 5, 7, 3, 5, 2, 1, 4, 12, 15, 6, 15, 4, 12, 1, 14, 14, 4, 7, 7, 5, 2, 12, 13, 11, 0, 8, 14, 6, 11, 3, 4, 7, 2, 5, 13, 13, 15, 2, 0, 13, 14, 1, 15, 1, 7, 0, 6, 6, 1, 9, 0, 0, 14, 4, 9, 8, 12, 2, 10, 0, 4, 4, 10, 12, 3, 5, 10, 4, 9, 12, 11, 14, 12, 6, 15, 4, 12, 9, 1, 13, 0, 8, 3, 9, 3, 2, 12, 1, 7, 15, 3, 2, 14, 2, 3, 11, 8, 1, 13, 7, 9, 4, 4, 0, 0, 8, 11, 10, 6, 5, 5, 7, 13, 5, 13, 11, 2, 0, 8, 4, 8, 8, 5, 4, 13, 13, 2, 3, 2, 7, 9, 5, 13, 3, 0, 13, 12, 2, 3, 8, 10, 5, 1, 2, 1, 2, 14, 6, 0, 7, 4, 7, 4, 10, 5, 13, 2, 3, 12, 6, 1, 10, 12, 3, 4, 7, 8, 0, 0, 11, 6, 0, 11, 2, 1, 6, 4, 14, 12, 6, 4, 14, 2, 13, 5, 11, 13, 2, 3, 1, 10, 10, 3, 10, 14, 0, 7, 6, 7, 13, 12, 5, 2, 4, 1, 15, 11, 9, 0, 4, 14, 0, 12, 0, 6, 6, 10, 15, 5, 10, 11, 3, 1, 0, 4, 13, 8, 0, 3, 11, 15, 7, 12, 0, 2, 2, 12, 7, 14, 7, 15, 3, 0, 9, 1, 5, 8, 15, 0, 11, 11, 15, 9, 13, 5, 15, 3, 1, 11, 0, 0, 4, 4, 1, 5, 12, 3, 9, 10, 13, 9, 12, 8, 0, 10, 4, 7, 1, 7, 11, 5, 12, 6, 5, 1, 14, 6, 10, 11, 13, 1, 0, 0, 14, 2, 9, 7, 3, 0, 1, 8, 7, 15, 9, 7, 13, 0, 5, 1, 9, 1, 1, 12, 7, 13, 12, 5, 9, 2, 12, 1, 14, 15, 3, 6, 8, 12, 7, 12, 7, 3, 12, 8, 10, 9, 9, 14, 7, 14, 12, 1, 4, 3, 7, 1, 6, 1, 3, 12, 13, 12, 10, 10, 6, 8, 7, 1, 10, 5, 14, 2, 6, 13, 13, 13, 6, 0, 8, 2, 1, 5, 14, 7, 9, 12, 4, 1, 1, 7, 13, 3, 11, 2, 8, 4, 4, 15, 7, 1, 14, 4, 14, 2, 2, 0, 1, 12, 4, 6, 1, 6, 10, 3, 15, 3, 7, 8, 5, 15, 8, 15, 12, 14, 7, 3, 7, 0, 13, 11, 4, 15, 3, 8, 7, 6, 8, 3, 13, 0, 8, 0, 13, 13, 14, 7, 1, 8, 0, 0, 0, 4, 8, 6, 10, 14, 1, 7, 7, 6, 4, 15, 1, 4, 7, 2, 1, 15, 0, 9, 5, 8, 13, 1, 0, 10, 7, 14, 0, 11, 1, 0, 7, 11, 14, 6, 4, 2, 1, 9, 14, 13, 11, 12, 13, 9, 14, 4, 6, 9, 5, 3, 4, 8, 5, 10, 8, 13, 5, 14, 10, 6, 7, 15, 12, 11, 11, 13, 13, 4, 7, 13, 2, 14, 7, 13, 2, 15, 4, 1, 12, 0, 12, 2, 3, 3, 14, 13, 1, 1, 3, 4, 3, 7, 13, 15, 3, 0, 1, 14, 4, 6, 1, 14, 6, 13, 11, 7, 1, 12, 11, 10, 3, 8, 4, 12, 7, 13, 9, 9, 12, 5, 4, 12, 12, 14, 6, 6, 13, 11, 0, 6, 15, 9, 5, 1, 12, 7, 1, 6, 15, 1, 11, 3, 5, 0, 0, 8, 0, 8, 6, 11, 1, 11, 11, 7, 8, 8, 4, 1, 12, 6, 11, 8, 15, 5, 9, 8, 5, 3, 1, 6, 4, 15, 12, 15, 5, 4, 10, 13, 15, 4, 8, 5, 15, 11, 0, 0, 7, 5, 3, 8, 6, 9, 14, 5, 6, 13, 0, 7, 1, 1, 0, 8, 6, 3, 5, 5, 13, 4, 9, 2, 2, 2, 13, 2, 13, 15, 15, 11, 15, 1, 15, 12, 15, 3, 6, 13, 1, 15, 12, 10, 8, 11, 1, 9, 7, 11, 11, 13, 4, 14, 5, 0, 4, 9, 4, 14, 13, 10, 2, 12, 5, 3, 14, 8, 3, 13, 13, 5, 13, 4, 11, 7, 7, 2, 2, 1, 13, 12, 14, 5, 12, 8, 2, 11, 10, 14, 7, 15, 3, 1, 2, 2, 3, 8, 8, 5, 12, 15, 15, 13, 15, 9, 6, 12, 0, 7, 6, 9, 3, 10, 11, 8, 8, 9, 13, 5, 1, 2, 9, 14, 3, 10, 10, 9, 13, 3, 10, 0, 5, 3, 1, 0, 7, 5, 5, 12, 12, 15, 6, 7, 0, 12, 11, 2, 2, 1, 13, 12, 8, 1, 4, 10, 1, 2, 12, 2, 13, 9, 13, 5, 2, 9, 1, 1, 7, 5, 12, 14, 0, 9, 1, 5, 11, 15, 3, 8, 3, 0, 11, 5, 4, 13, 14, 12, 10, 1, 4, 13, 11, 8, 2, 9, 10, 6, 13, 10, 6, 11, 13, 8, 5, 13, 2, 2, 9, 7, 2, 14, 11, 12, 15, 1, 1, 14, 4, 10, 11, 0, 0, 1, 5, 10, 6, 3, 7, 9, 13, 5, 15, 6, 7, 4, 5, 13, 1, 11, 0, 3, 6, 13, 15, 4, 11, 13, 1, 15, 1, 12, 11, 1, 10, 6, 2, 14, 9, 6, 2, 0, 2, 3, 13, 4, 4, 7, 4, 1, 11, 6, 12, 11, 14, 6, 2, 8, 12, 5, 7, 1, 2, 4, 7, 6, 12, 2, 12, 3, 12, 11, 6, 4, 7, 12, 10, 2, 4, 7, 2, 10, 3, 0, 12, 3, 10, 2, 5, 13, 11, 14, 8, 4, 1, 15, 13, 6, 8, 0, 8, 5, 12, 15, 3, 3, 2, 10, 9, 3, 7, 14, 9, 5, 0, 6, 15, 1, 5, 0, 4, 4, 4, 13, 11, 12, 6, 3, 7, 11, 9, 4, 15, 5, 12, 0, 14, 14, 6, 14, 8, 15, 5, 8, 4, 2, 4, 5, 14, 13, 14, 14, 8, 8, 15, 15, 11, 14, 6, 5, 2, 8, 13, 1, 15, 10, 8, 13, 1, 2, 14, 2, 7, 7, 15, 13, 1, 7, 15, 7, 6, 3, 12, 9, 0, 13, 3, 5, 14, 0, 12, 1, 6, 8, 14, 13, 7, 5, 5, 11, 13, 13, 5, 13, 7, 13, 12, 8, 7, 0, 6, 12, 13, 7, 2, 6, 8, 8, 15, 14, 15, 2, 3, 6, 7, 6, 2, 5, 4, 13, 7, 5, 2, 9, 5, 9, 11, 1, 0, 9, 4, 8, 9, 13, 2, 1, 6, 0, 5, 0, 13, 2, 2, 1, 8, 6, 5, 13, 6, 8, 3, 9, 7, 3, 5, 7, 4, 13, 5, 11, 3, 11, 1, 2, 0, 0, 2, 13, 2, 10, 7, 10, 2, 9, 12, 1, 5, 15, 5, 2, 0, 9, 0, 0, 8, 14, 15, 4, 14, 14, 2, 4, 10, 9, 7, 15, 8, 9, 7, 5, 6, 9, 6, 3, 2, 0, 2, 5, 6, 11, 6, 0, 13, 13, 2, 15, 0, 5, 13, 4, 9, 13, 10, 1, 10, 12, 14, 0, 7, 15, 1, 11, 9, 0, 8, 13, 0, 11, 8, 14, 1, 14, 14, 4, 10, 12, 14, 5, 13, 0, 11, 12, 12, 7, 9, 12, 6, 11, 9, 10, 0, 10, 7, 0, 12, 6, 10, 3, 15, 4, 7, 9, 3, 4, 12, 15, 1, 12, 4, 14, 7, 1, 2, 11, 0, 8, 11, 3, 0, 2, 1, 12, 8, 5, 15, 13, 11, 5, 5, 12, 4, 8, 3, 0, 2, 5, 5, 10, 8, 0, 10, 8, 4, 13, 5, 7, 4, 3, 12, 10, 8, 5, 5, 13, 7, 13, 8, 4, 13, 5, 2, 5, 1, 7, 2, 0, 7, 6, 8, 3, 14, 9, 12, 8, 12, 10, 12, 15, 3, 15, 8, 0, 6, 3, 13, 15, 5, 5, 5, 4, 10, 4, 13, 4, 13, 11, 13, 4, 4, 9, 4, 13, 14, 10, 14, 4, 13, 6, 2, 14, 0, 7, 7, 13, 10, 3, 6, 10, 5, 7, 2, 14, 8, 5, 2, 7, 12, 11, 7, 15, 11, 4, 3, 0, 11, 0, 7, 0, 11, 6, 0, 14, 1, 1, 5, 14, 4, 8, 7, 15, 13, 13, 2, 1, 9, 14, 0, 4, 8, 14, 12, 0, 2, 12, 14, 15, 9, 2, 12, 8, 12, 2, 12, 13, 7, 1, 8, 2, 15, 3, 2, 15, 4, 12, 7, 5, 8, 7, 4, 11, 7, 0, 13, 5, 1, 3, 4, 3, 0, 1, 1, 14, 6, 2, 7, 4, 11, 5, 5, 7, 4, 3, 7, 15, 2, 4, 1, 9, 10, 3, 8, 0, 14, 5, 4, 13, 5, 3, 11, 15, 15, 10, 9, 14, 6, 15, 15, 7, 9, 14, 3, 13, 11, 2, 3, 12, 7, 13, 1, 5, 15, 7, 14, 4, 3, 7, 11, 5, 0, 4, 15, 7, 8, 1, 12, 3, 5, 11, 5, 5, 6, 14, 13, 15, 7, 0, 2, 6, 1, 11, 3, 10, 4, 1, 6, 4, 4, 6, 14, 3, 7, 7, 2, 6, 8, 14, 12, 3, 15, 2, 4, 6, 12, 2, 3, 12, 1, 11, 7, 1, 2, 3, 11, 4, 5, 6, 13, 9, 8, 15, 7, 7, 14, 15, 1, 9, 15, 12, 11, 1, 10, 7, 5, 2, 15, 1, 13, 13, 0, 9, 8, 9, 6, 15, 9, 6, 11, 14, 13, 5, 15, 2, 5, 7, 4, 4, 14, 4, 8, 1, 12, 10, 1, 4, 1, 1, 0, 6, 4, 1, 14, 15, 8, 9, 12, 0, 13, 8, 3, 2, 11, 12, 9, 15, 13, 8, 14, 10, 5, 3, 6, 1, 9, 15, 10, 11, 11, 2, 5, 14, 15, 6, 13, 5, 2, 13, 6, 13, 11, 7, 12, 6, 12, 15, 13, 1, 7, 3, 2, 0, 4, 13, 6, 12, 13, 9, 2, 12, 3, 3, 2, 13, 10, 13, 8, 7, 2, 14, 7, 8, 3, 7, 3, 0, 15, 14, 0, 1, 15, 9, 4, 2, 5, 0, 11, 14, 12, 2, 10, 15, 13, 2, 0, 7, 8, 2, 10, 0, 8, 11, 14, 0, 8, 6, 11, 1, 10, 4, 6, 6, 15, 4, 7, 2, 3, 4, 5, 13, 13, 15, 9, 14, 10, 2, 15, 3, 14, 13, 9, 5, 5, 4, 9, 2, 2, 7, 0, 8, 0, 4, 0, 7, 15, 8, 2, 14, 11, 8, 15, 8, 5, 10, 11, 1, 12, 14, 1, 11, 5, 6, 4, 0, 7, 4, 6, 12, 6, 7, 13, 15, 0, 2, 5, 10, 3, 13, 5, 11, 3, 13, 15, 15, 11, 8, 9, 4, 5, 13, 1, 1, 14, 7, 15, 10, 11, 4, 8, 15, 10, 2, 0, 2, 2, 5, 4, 15, 14, 3, 14, 9, 9, 5, 2, 4, 13, 5, 9, 5, 1, 3, 0, 6, 2, 5, 14, 7, 6, 4, 0, 11, 6, 8, 3, 8, 1, 12, 13, 7, 5, 14, 11, 0, 4, 6, 3, 14, 13, 2, 1, 10, 11, 7, 14, 12, 2, 12, 13, 4, 9, 1, 14, 12, 0, 10, 4, 0, 13, 0, 8, 4, 15, 4, 12, 10, 11, 8, 11, 8, 9, 4, 12, 7, 15, 6, 7, 12, 6, 15, 10, 8, 9, 5, 2, 3, 4, 13, 5, 9, 6, 2, 1, 12, 15, 10, 11, 10, 0, 13, 7, 13, 12, 13, 15, 13, 10, 5, 6, 1, 14, 2, 12, 6, 8, 15, 0, 5, 7, 13, 2, 11, 8, 15, 5, 10, 9, 7, 8, 6, 5, 11, 3, 13, 7, 14, 6, 10, 0, 7, 4, 10, 12, 10, 8, 1, 10, 9, 6, 2, 12, 12, 13, 12, 3, 14, 5, 12, 15, 13, 0, 11, 2, 13, 2, 14, 13, 5, 15, 13, 3, 15, 14, 11, 1, 0, 1, 1, 3, 14, 5, 9, 7, 10, 11, 10, 6, 15, 1, 3, 11, 6, 13, 12, 14, 9, 13, 11, 5, 5, 10, 2, 13, 14, 10, 8, 12, 0, 10, 7, 5, 2, 1, 1, 10, 12, 6, 8, 14, 11, 15, 1, 4, 3, 5, 12, 10, 12, 2, 6, 5, 10, 2, 15, 10, 4, 8, 7, 12, 3, 3, 5, 2, 11, 6, 14, 4, 13, 10, 6, 4, 2, 11, 2, 4, 13, 5, 7, 13, 11, 9, 14, 15, 11, 15, 10, 12, 0, 10, 11, 12, 15, 7, 0, 6, 3, 2, 4, 8, 0, 10, 9, 3, 15, 6, 7, 14, 5, 15, 8, 12, 15, 10, 6, 5, 15, 6, 9, 4, 1, 14, 12, 11, 12, 7, 10, 9, 11, 12, 15, 15, 1, 15, 2, 2, 8, 7, 3, 6, 4, 3, 14, 10, 3, 7, 7, 10, 14, 3, 13, 2, 4, 2, 13, 1, 13, 6, 5, 14, 4, 12, 9, 5, 2, 6, 15, 12, 12, 6, 10, 0, 0, 9, 2, 1, 15, 12, 2, 5, 10, 2, 12, 2, 14, 5, 4, 10, 3, 13, 2, 1, 4, 2, 8, 5, 9, 7, 12, 6, 6, 14, 6, 3, 0, 13, 9, 14, 13, 10, 2, 9, 0, 11, 1, 2, 1, 14, 7, 8, 3, 6, 3, 13, 15, 7, 14, 6, 6, 12, 3, 14, 5, 3, 8, 13, 4, 15, 5, 3, 10, 15, 13, 5, 8, 2, 5, 11, 12, 10, 1, 4, 14, 12, 9, 9, 5, 15, 2, 1, 1, 2, 8, 15, 5, 12, 2, 1, 13, 6, 0, 12, 9, 1, 15, 8, 15, 6, 15, 5, 0, 4, 14, 13, 15, 12, 9, 11, 14, 5, 3, 15, 14, 11, 1, 11, 5, 2, 15, 3, 9, 0, 10, 10, 15, 5, 0, 8, 12, 12, 15, 6, 2, 5, 9, 13, 1, 0, 2, 4, 2, 0, 6, 6, 9, 9, 13, 9, 9, 7, 14, 2, 10, 13, 7, 11, 0, 15, 4, 6, 3, 14, 3, 12, 4, 10, 3, 11, 1, 6, 2, 7, 11, 0, 9, 0, 12, 15, 15, 12, 5, 3, 15, 15, 15, 6, 3, 9, 7, 2, 15, 0, 0, 10, 7, 13, 13, 13, 3, 7, 8, 12, 1, 5, 8, 5, 7, 2, 13, 8, 5, 11, 6, 5, 7, 13, 2, 11, 13, 11, 14, 3, 10, 6, 3, 4, 1, 10, 0, 3, 14, 13, 13, 9, 6, 2, 2, 2, 3, 0, 13, 15, 12, 7, 3, 6, 2, 9, 4, 11, 6, 3, 2, 5, 0, 15, 5, 4, 12, 11, 11, 13, 5, 15, 14, 4, 10, 13, 0, 9, 1, 12, 12, 6, 13, 13, 14, 8, 1, 6, 13, 0, 14, 14, 11, 7, 12, 3, 12, 0, 12, 12, 7, 15, 12, 11, 3, 13, 3, 15, 4, 7, 13, 7, 2, 8, 10, 2, 7, 2, 9, 5, 11, 5, 13, 6, 4, 12, 6, 9, 3, 8, 14, 1, 2, 3, 1, 0, 1, 15, 8, 4, 0, 11, 14, 10, 14, 2, 12, 8, 11, 0, 4, 4, 1, 15, 4, 2, 1, 14, 4, 13, 0, 6, 8, 4, 13, 4, 7, 0, 13, 0, 0, 4, 8, 7, 9, 11, 10, 14, 1, 1, 7, 2, 15, 2, 3, 5, 8, 1, 12, 2, 11, 14, 3, 14, 9, 15, 5, 11, 5, 11, 3, 12, 15, 12, 2, 2, 13, 15, 15, 14, 0, 2, 5, 11, 2, 0, 11, 4, 7, 15, 15, 0, 2, 13, 15, 11, 10, 14, 8, 9, 6, 5, 8, 1, 2, 10, 0, 13, 15, 8, 10, 11, 11, 5, 11, 6, 5, 0, 11, 14, 5, 13, 13, 4, 4, 14, 15, 7, 15, 14, 0, 8, 0, 6, 11, 15, 10, 10, 7, 9, 9, 1, 8, 7, 6, 14, 9, 0, 14, 6, 7, 11, 0, 11, 12, 3, 2, 3, 14, 1, 12, 14, 13, 0, 1, 3, 12, 11, 0, 2, 15, 10, 12, 5, 13, 3, 11, 8, 0, 2, 3, 5, 7, 0, 12, 12, 15, 6, 12, 4, 1, 4, 12, 1, 8, 5, 0, 11, 5, 3, 10, 10, 13, 13, 14, 13, 5, 14, 8, 13, 7, 10, 6, 1, 8, 15, 11, 0, 7, 12, 5, 12, 10, 13, 11, 0, 13, 13, 6, 15, 14, 11, 0, 15, 9, 12, 12, 5, 1, 11, 12, 7, 10, 12, 6, 5, 0, 15, 6, 5, 0, 5, 15, 12, 5, 0, 3, 7, 11, 14, 13, 11, 11, 2, 15, 14, 9, 5, 1, 5, 3, 4, 7, 13, 2, 2, 14, 11, 10, 9, 4, 13, 13, 12, 3, 7, 11, 8, 12, 12, 6, 13, 7, 14, 15, 1, 8, 3, 0, 5, 1, 5, 7, 15, 1, 13, 2, 4, 5, 13, 7, 3, 13, 1, 2, 10, 3, 15, 3, 6, 0, 4, 11, 10, 9, 2, 10, 12, 10, 0, 2, 4, 7, 1, 1, 15, 0, 12, 9, 7, 5, 14, 8, 3, 13, 15, 13, 15, 6, 1, 11, 10, 13, 8, 9, 5, 15, 10, 2, 5, 8, 13, 2, 7, 4, 7, 3, 3, 10, 9, 13, 7, 3, 7, 0, 10, 8, 14, 2, 15, 7, 2, 2, 7, 1, 6, 5, 1, 7, 5, 15, 8, 4, 13, 10, 3, 15, 1, 3, 1, 0, 7, 14, 0, 1, 13, 10, 12, 13, 8, 6, 14, 9, 12, 14, 14, 3, 1, 2, 8, 15, 4, 12, 1, 10, 6, 13, 3, 1, 5, 12, 9, 4, 14, 10, 2, 12, 0, 5, 5, 5, 9, 14, 4, 13, 15, 1, 2, 0, 7, 12, 7, 2, 13, 8, 0, 13, 13, 12, 0, 3, 4, 9, 14, 1, 11, 0, 15, 0, 15, 1, 15, 0, 10, 10, 6, 5, 7, 11, 6, 7, 6, 6, 10, 4, 4, 7, 7, 11, 3, 2, 11, 15, 11, 1, 15, 14, 6, 13, 6, 9, 3, 1, 12, 15, 13, 12, 12, 3, 9, 15, 0, 12, 7, 7, 6, 3, 15, 12, 5, 5, 10, 2, 15, 0, 4, 11, 10, 6, 7, 2, 15, 2, 13, 5, 1, 13, 11, 15, 11, 2, 8, 13, 6, 4, 5, 4, 5, 12, 9, 3, 1, 7, 8, 14, 5, 3, 3, 9, 3, 6, 5, 11, 6, 13, 14, 4, 3, 0, 11, 13, 12, 0, 14, 10, 13, 3, 5, 2, 7, 10, 7, 4, 11, 10, 12, 3, 3, 4, 15, 5, 9, 13, 4, 5, 11, 13, 1, 3, 15, 1, 9, 13, 14, 12, 8, 14, 1, 0, 9, 11, 6, 11, 13, 6, 6, 2, 7, 3, 12, 8, 15, 6, 0, 12, 5, 7, 2, 3, 13, 2, 3, 10, 0, 4, 5, 14, 10, 0, 11, 8, 12, 13, 12, 13, 9, 7, 13, 4, 2, 11, 6, 12, 7, 5, 5, 15, 13, 6, 8, 7, 7, 11, 14, 10, 8, 9, 15, 5, 7, 7, 0, 10, 9, 3, 15, 1, 12, 2, 3, 13, 11, 9, 13, 8, 2, 10, 4, 3, 12, 13, 14, 8, 0, 2, 4, 6, 4, 3, 11, 5, 8, 14, 1, 4, 13, 8, 5, 9, 7, 2, 12, 0, 13, 6, 1, 9, 13, 13, 1, 15, 6, 4, 12, 3, 14, 0, 10, 14, 9, 6, 8, 4, 8, 11, 11, 0, 10, 13, 7, 5, 15, 15, 3, 9, 6, 3, 12, 0, 2, 6, 2, 0, 13, 0, 7, 12, 2, 12, 1, 0, 6, 14, 12, 14, 5, 8, 11, 6, 5, 15, 15, 11, 14, 7, 5, 4, 10, 5, 1, 15, 11, 15, 11, 1, 15, 3, 6, 14, 7, 13, 2, 0, 12, 4, 4, 8, 13, 8, 4, 13, 8, 12, 7, 2, 4, 6, 7, 4, 9, 15, 13, 10, 13, 6, 5, 4, 4, 3, 10, 15, 7, 0, 0, 4, 11, 0, 7, 1, 2, 3, 2, 8, 2, 11, 4, 12, 8, 10, 0, 1, 4, 15, 4, 5, 4, 6, 6, 7, 5, 7, 7, 14, 6, 12, 6, 1, 8, 11, 2, 10, 2, 1, 14, 0, 9, 3, 15, 6, 13, 13, 13, 11, 8, 8, 7, 10, 2, 15, 6, 13, 6, 15, 0, 7, 10, 2, 15, 8, 0, 15, 13, 0, 2, 11, 4, 13, 13, 8, 2, 4, 14, 0, 10, 0, 7, 3, 2, 3, 5, 14, 15, 5, 2, 7, 13, 14, 4, 10, 0, 12, 12, 8, 9, 12, 8, 6, 1, 10, 12, 6, 5, 13, 3, 0, 1, 15, 15, 11, 12, 13, 7, 10, 8, 13, 0, 0, 13, 4, 12, 5, 15, 4, 12, 13, 4, 12, 1, 14, 9, 12, 6, 9, 12, 10, 10, 2, 7, 14, 9, 12, 6, 14, 7, 1, 10, 7, 14, 4, 6, 10, 12, 5, 0, 7, 10, 14, 13, 14, 15, 4, 10, 2, 15, 1, 12, 7, 7, 15, 0, 14, 11, 12, 0, 6, 5, 9, 3, 7, 0, 7, 5, 0, 8, 11, 12, 12, 9, 15, 2, 12, 10, 12, 8, 14, 3, 14, 14, 11, 15, 1, 1, 2, 9, 2, 13, 13, 0, 0, 13, 9, 15, 15, 13, 3, 8, 3, 8, 4, 5, 13, 11, 3, 1, 5, 15, 3, 5, 10, 13, 4, 6, 12, 4, 12, 9, 9, 8, 5, 11, 0, 0, 8, 11, 1, 0, 3, 0, 12, 12, 7, 0, 0, 10, 13, 2, 2, 7, 2, 2, 10, 11, 2, 11, 13, 4, 1, 14, 7, 9, 6, 1, 15, 2, 13, 7, 0, 14, 0, 0, 7, 3, 15, 9, 13, 0, 12, 7, 8, 14, 4, 0, 11, 13, 13, 7, 11, 4, 8, 14, 11, 2, 8, 5, 12, 0, 10, 0, 8, 9, 0, 12, 3, 2, 13, 1, 3, 5, 14, 11, 15, 13, 0, 13, 15, 9, 0, 2, 5, 14, 8, 11, 0, 1, 4, 11, 13, 12, 8, 8, 6, 7, 15, 1, 7, 3, 11, 15, 13, 6, 12, 3, 5, 12, 1, 5, 9, 5, 11, 10, 6, 6, 3, 10, 7, 2, 9, 12, 4, 11, 13, 7, 1, 12, 2, 3, 15, 3, 14, 4, 4, 11, 8, 7, 8, 13, 7, 1, 13, 9, 12, 2, 12, 3, 4, 13, 12, 11, 10, 5, 14, 14, 14, 3, 4, 1, 12, 0, 1, 2, 12, 13, 11, 13, 7, 11, 6, 3, 6, 6, 9, 13, 6, 10, 14, 10, 5, 0, 6, 15, 1, 1, 4, 2, 14, 8, 13, 5, 9, 9, 6, 1, 3, 0, 9, 12, 0, 0, 14, 3, 2, 12, 12, 8, 11, 9, 12, 4, 12, 5, 15, 15, 5, 4, 14, 1, 1, 1, 7, 14, 2, 3, 7, 11, 5, 13, 14, 15, 7, 2, 11, 1, 11, 2, 10, 14, 10, 15, 3, 1, 5, 0, 9, 15, 5, 2, 14, 1, 10, 4, 12, 11, 2, 11, 5, 8, 2, 15, 1, 15, 5, 3, 13, 3, 15, 1, 9, 1, 9, 10, 6, 5, 15, 10, 15, 4, 10, 5, 1, 13, 2, 11, 5, 0, 10, 3, 7, 3, 0, 9, 4, 13, 0, 1, 12, 12, 14, 8, 5, 15, 8, 14, 6, 12, 0, 7, 15, 7, 9, 11, 8, 8, 4, 9, 11, 2, 2, 0, 13, 5, 13, 9, 15, 10, 13, 2, 11, 5, 5, 9, 12, 10, 0, 13, 9, 14, 2, 13, 2, 3, 15, 11, 4, 1, 15, 13, 4, 14, 12, 11, 10, 9, 14, 10, 13, 13, 1, 11, 8, 4, 4, 1, 2, 8, 8, 3, 11, 0, 14, 13, 14, 3, 3, 4, 3, 10, 8, 10, 9, 11, 15, 2, 11, 11, 1, 9, 3, 9, 0, 8, 12, 14, 14, 14, 14, 13, 7, 1, 15, 15, 9, 14, 2, 2, 6, 2, 12, 11, 7, 2, 9, 5, 3, 13, 1, 10, 15, 12, 15, 14, 14, 12, 5, 7, 12, 10, 11, 6, 6, 3, 6, 0, 7, 12, 7, 9, 9, 9, 9, 1, 13, 3, 8, 13, 2, 2, 8, 13, 12, 8, 2, 12, 8, 6, 8, 9, 3, 4, 11, 0, 6, 8, 9, 7, 12, 6, 0, 4, 14, 1, 8, 0, 10, 14, 15, 12, 5, 1, 6, 8, 8, 10, 13, 15, 14, 12, 13, 8, 5, 7, 3, 14, 5, 5, 0, 15, 11, 9, 6, 5, 8, 9, 15, 1, 7, 2, 5, 2, 15, 12, 0, 6, 0, 7, 2, 11, 14, 5, 1, 11, 11, 0, 12, 2, 2, 13, 0, 3, 5, 11, 13, 15, 8, 1, 3, 1, 12, 4, 14, 12, 6, 1, 7, 7, 9, 15, 15, 7, 6, 14, 3, 13, 6, 6, 7, 7, 13, 3, 4, 13, 7, 13, 11, 11, 15, 10, 13, 5, 6, 8, 13, 15, 0, 6, 3, 5, 14, 10, 7, 13, 10, 0, 12, 11, 1, 13, 3, 11, 8, 7, 15, 8, 2, 8, 15, 10, 3, 13, 15, 9, 14, 6, 15, 10, 6, 1, 1, 15, 4, 0, 0, 10, 10, 8, 10, 9, 3, 10, 6, 12, 14, 3, 13, 1, 5, 14, 13, 2, 1, 12, 9, 5, 15, 8, 6, 8, 14, 2, 11, 2, 2, 1, 5, 3, 6, 13, 7, 4, 1, 6, 4, 7, 10, 0, 12, 8, 12, 14, 7, 2, 10, 9, 11, 12, 11, 2, 4, 13, 5, 3, 9, 5, 3, 1, 4, 11, 15, 14, 3, 1, 5, 3, 2, 15, 2, 5, 10, 6, 14, 11, 11, 6, 0, 6, 0, 2, 7, 10, 13, 2, 14, 2, 5, 0, 3, 4, 1, 13, 4, 9, 10, 9, 8, 0, 4, 7, 0, 13, 14, 10, 11, 14, 5, 10, 0, 9, 5, 13, 7, 5, 0, 1, 2, 0, 4, 8, 14, 4, 11, 0, 15, 8, 2, 6, 9, 13, 10, 7, 7, 3, 15, 4, 13, 6, 2, 2, 9, 7, 4, 2, 14, 3, 1, 13, 10, 9, 15, 15, 0, 0, 13, 15, 4, 0, 2, 12, 13, 6, 7, 15, 8, 10, 0, 12, 11, 6, 12, 8, 2, 6, 6, 0, 2, 8, 7, 4, 15, 7, 4, 6, 12, 4, 13, 9, 14, 6, 15, 4, 0, 11, 7, 0, 7, 6, 12, 3, 14, 1, 4, 12, 2, 3, 0, 0, 12, 3, 5, 1, 7, 13, 5, 2, 12, 6, 7, 12, 3, 4, 0, 14, 0, 4, 12, 1, 7, 2, 15, 15, 3, 14, 1, 2, 14, 11, 7, 0, 6, 15, 7, 8, 14, 10, 12, 7, 1, 0, 10, 7, 8, 12, 9, 3, 14, 12, 6, 15, 2, 4, 3, 6, 6, 12, 6, 8, 0, 0, 2, 6, 5, 11, 10, 9, 3, 3, 11, 4, 11, 10, 12, 8, 0, 3, 6, 10, 7, 7, 10, 2, 1, 1, 14, 8, 15, 0, 10, 9, 7, 1, 5, 14, 0, 15, 11, 10, 14, 0, 1, 13, 8, 9, 3, 7, 3, 15, 15, 1, 4, 9, 1, 10, 4, 2, 15, 0, 2, 4, 2, 10, 5, 1, 4, 1, 13, 0, 4, 13, 9, 14, 2, 12, 12, 15, 14, 0, 10, 7, 2, 11, 11, 6, 14, 3, 15, 4, 12, 6, 14, 4, 5, 10, 13, 1, 3, 15, 5, 1, 3, 7, 14, 8, 3, 0, 15, 8, 3, 9, 14, 10, 3, 15, 13, 5, 3, 15, 12, 6, 14, 14, 8, 11, 5, 13, 14, 5, 10, 5, 12, 7, 12, 2, 11, 0, 2, 14, 15, 12, 10, 5, 0, 0, 13, 7, 14, 0, 4, 6, 0, 0, 15, 15, 6, 9, 10, 4, 2, 6, 5, 10, 5, 9, 11, 8, 0, 1, 3, 12, 10, 10, 3, 12, 2, 6, 14, 11, 11, 12, 8, 8, 2, 3, 3, 2, 2, 6, 14, 13, 6, 15, 14, 4, 0, 1, 13, 2, 6, 3, 8, 4, 1, 7, 13, 11, 14, 10, 0, 11, 5, 6, 8, 8, 6, 4, 13, 0, 7, 6, 4, 2, 6, 14, 11, 7, 13, 6, 15, 8, 12, 3, 12, 15, 15, 0, 5, 14, 15, 0, 6, 15, 13, 12, 7, 0, 1, 11, 2, 5, 1, 6, 4, 1, 14, 2, 13, 11, 5, 12, 10, 15, 11, 13, 2, 7, 11, 0, 15, 10, 8, 13, 14, 15, 5, 10, 9, 14, 6, 3, 14, 2, 11, 1, 2, 8, 2, 0, 6, 11, 14, 8, 3, 13, 12, 8, 5, 3, 2, 11, 9, 13, 4, 13, 1, 6, 8, 11, 0, 1, 5, 11, 10, 9, 10, 13, 7, 15, 7, 10, 3, 14, 11, 3, 15, 13, 2, 3, 1, 2, 14, 5, 7, 11, 4, 0, 5, 5, 15, 2, 14, 2, 8, 6, 9, 13, 2, 6, 3, 14, 8, 7, 13, 7, 3, 7, 14, 4, 11, 14, 14, 5, 5, 14, 11, 4, 4, 7, 4, 2, 11, 2, 7, 1, 13, 10, 2, 0, 3, 14, 8, 10, 7, 6, 2, 1, 14, 10, 15, 8, 8, 5, 15, 0, 9, 3, 15, 7, 11, 4, 12, 13, 7, 11, 4, 14, 7, 1, 13, 9, 10, 7, 6, 11, 15, 0, 0, 2, 2, 14, 13, 0, 2, 2, 13, 0, 4, 11, 0, 13, 1, 12, 3, 2, 9, 15, 0, 13, 1, 6, 5, 11, 2, 7, 10, 11, 13, 8, 13, 11, 14, 4, 4, 15, 4, 13, 7, 13, 6, 14, 9, 4, 6, 11, 4, 6, 4, 14, 9, 8, 9, 10, 14, 10, 2, 14, 5, 15, 6, 4, 14, 1, 9, 9, 14, 1, 6, 14, 1, 14, 13, 2, 14, 6, 11, 0, 10, 6, 14, 13, 1, 3, 3, 10, 4, 0, 6, 11, 4, 4, 11, 7, 11, 3, 0, 3, 7, 1, 8, 1, 5, 6, 10, 11, 1, 11, 0, 4, 10, 4, 9, 12, 9, 6, 4, 2, 5, 7, 9, 5, 12, 11, 15, 0, 12, 10, 10, 1, 0, 10, 2, 2, 15, 14, 7, 11, 1, 8, 4, 8, 5, 7, 15, 12, 13, 2, 15, 0, 0, 2, 1, 9, 7, 4, 13, 4, 2, 15, 3, 11, 10, 8, 13, 12, 2, 11, 6, 15, 1, 4, 7, 8, 13, 4, 4, 1, 7, 14, 4, 13, 4, 11, 5, 8, 11, 11, 9, 9, 8, 13, 6, 5, 14, 13, 2, 12, 15, 15, 14, 7, 15, 8, 14, 15, 4, 0, 6, 8, 3, 12, 10, 9, 11, 4, 1, 1, 15, 14, 13, 4, 12, 5, 0, 4, 6, 5, 14, 11, 10, 4, 0, 5, 10, 0, 7, 14, 5, 4, 5, 15, 13, 9, 10, 12, 7, 8, 8, 13, 0, 5, 2, 4, 13, 8, 6, 4, 9, 13, 5, 5, 1, 12, 14, 0, 12, 7, 10, 8, 15, 8, 2, 13, 15, 13, 3, 4, 11, 5, 9, 15, 15, 14, 10, 0, 8, 6, 7, 10, 14, 12, 15, 2, 2, 9, 11, 7, 6, 7, 7, 1, 15, 1, 5, 2, 7, 14, 2, 8, 10, 9, 15, 2, 6, 10, 10, 3, 8, 0, 15, 6, 4, 3, 5, 10, 12, 3, 14, 3, 4, 2, 2, 11, 3, 7, 1, 13, 9, 4, 6, 4, 0, 9, 15, 2, 8, 8, 1, 6, 13, 2, 7, 0, 5, 12, 0, 5, 2, 4, 7, 9, 6, 14, 11, 13, 12, 13, 11, 0, 3, 12, 7, 3, 2, 14, 5, 3, 4, 12, 5, 2, 12, 10, 12, 8, 9, 9, 2, 8, 10, 15, 8, 12, 11, 15, 15, 4, 13, 10, 10, 5, 11, 14, 5, 4, 0, 6, 10, 5, 15, 15, 3, 7, 5, 8, 1, 0, 0, 14, 2, 11, 0, 0, 3, 15, 10, 0, 13, 2, 9, 6, 0, 7, 4, 7, 4, 10, 5, 12, 15, 12, 9, 14, 1, 10, 10, 15, 0, 1, 2, 11, 15, 12, 6, 8, 0, 4, 6, 8, 6, 6, 2, 9, 14, 2, 5, 7, 4, 2, 6, 13, 8, 6, 2, 4, 0, 4, 10, 2, 7, 1, 6, 4, 11, 12, 0, 13, 9, 10, 10, 1, 12, 15, 13, 1, 9, 4, 11, 11, 8, 13, 10, 11, 7, 5, 12, 12, 6, 13, 3, 5, 8, 13, 15, 10, 1, 8, 12, 4, 6, 15, 1, 7, 2, 13, 5, 13, 8, 6, 10, 8, 11, 12, 11, 12, 8, 15, 1, 11, 7, 7, 5, 2, 13, 14, 14, 12, 2, 10, 13, 1, 7, 12, 6, 7, 14, 1, 11, 14, 4, 6, 5, 2, 14, 5, 7, 10, 0, 2, 6, 6, 12, 14, 4, 10, 13, 11, 15, 7, 7, 10, 7, 11, 5, 11, 5, 13, 8, 6, 12, 12, 10, 14, 15, 14, 14, 3, 6, 13, 4, 10, 1, 9, 0, 13, 6, 9, 12, 14, 5, 1, 11, 13, 0, 4, 1, 1, 3, 11, 5, 6, 8, 6, 4, 13, 10, 10, 5, 3, 4, 15, 7, 15, 8, 8, 10, 2, 4, 10, 15, 8, 9, 8, 9, 13, 13, 3, 14, 0, 0, 6, 13, 0, 7, 0, 1, 10, 12, 14, 2, 15, 4, 9, 12, 8, 14, 0, 2, 8, 3, 1, 7, 4, 4, 1, 0, 12, 10, 8, 1, 7, 13, 0, 8, 13, 9, 14, 10, 4, 4, 4, 0, 8, 1, 7, 14, 4, 2, 6, 7, 2, 6, 9, 15, 1, 15, 13, 7, 11, 8, 5, 6, 0, 15, 13, 3, 2, 8, 13, 10, 4, 9, 2, 2, 6, 11, 7, 12, 15, 0, 15, 8, 8, 7, 10, 2, 1, 14, 8]\n"
          ]
        }
      ]
    },
    {
      "cell_type": "code",
      "source": [
        "#Define the batch size\n",
        "accu_batch = 40\n",
        "\n",
        "accu_curve_list = []\n",
        "loss_curve_list = []\n",
        "y_test = np.argmax(y_test, axis=1)\n",
        "non_count = 0\n",
        "\n",
        "#Calculate the accuracy and the loss for each batch and stores into lists\n",
        "#Accuracy = number of correct prediction / number of test cases in the batch\n",
        "#loss = number of wrong prediction / number of test cases in the batch\n",
        "for i in range(0,len(result_list),accu_batch):\n",
        "  st = i\n",
        "  end = i + accu_batch\n",
        "  print('Batch from:'+ str(st) +' to ' + str(end))\n",
        "  accu_num = 0\n",
        "  false_num = 0\n",
        "  for y in range(st,end):\n",
        "    if y < len(result_list):\n",
        "      if (result_list[y] == y_test[y]): \n",
        "        accu_num = accu_num + 1\n",
        "      else:  \n",
        "        false_num = false_num + 1\n",
        "    else:\n",
        "      non_count = non_count + 1\n",
        "\n",
        "  print(accu_num,false_num)\n",
        "  if y < len(result_list):\n",
        "    accu_curve_list.append(accu_num/accu_batch)\n",
        "    loss_curve_list.append(false_num/accu_batch)\n",
        "  else: \n",
        "    accu_curve_list.append(accu_num/(accu_batch-non_count))\n",
        "    loss_curve_list.append(false_num/(accu_batch-non_count))"
      ],
      "metadata": {
        "colab": {
          "base_uri": "https://localhost:8080/"
        },
        "id": "02xsdEOtUamx",
        "outputId": "b65f965f-5ef3-4b54-a591-01830b494cd7"
      },
      "execution_count": null,
      "outputs": [
        {
          "output_type": "stream",
          "name": "stdout",
          "text": [
            "Batch from:0 to 40\n",
            "38 2\n",
            "Batch from:40 to 80\n",
            "35 5\n",
            "Batch from:80 to 120\n",
            "30 10\n",
            "Batch from:120 to 160\n",
            "33 7\n",
            "Batch from:160 to 200\n",
            "33 7\n",
            "Batch from:200 to 240\n",
            "32 8\n",
            "Batch from:240 to 280\n",
            "36 4\n",
            "Batch from:280 to 320\n",
            "32 8\n",
            "Batch from:320 to 360\n",
            "32 8\n",
            "Batch from:360 to 400\n",
            "37 3\n",
            "Batch from:400 to 440\n",
            "34 6\n",
            "Batch from:440 to 480\n",
            "34 6\n",
            "Batch from:480 to 520\n",
            "30 10\n",
            "Batch from:520 to 560\n",
            "32 8\n",
            "Batch from:560 to 600\n",
            "33 7\n",
            "Batch from:600 to 640\n",
            "34 6\n",
            "Batch from:640 to 680\n",
            "34 6\n",
            "Batch from:680 to 720\n",
            "35 5\n",
            "Batch from:720 to 760\n",
            "34 6\n",
            "Batch from:760 to 800\n",
            "40 0\n",
            "Batch from:800 to 840\n",
            "33 7\n",
            "Batch from:840 to 880\n",
            "35 5\n",
            "Batch from:880 to 920\n",
            "35 5\n",
            "Batch from:920 to 960\n",
            "34 6\n",
            "Batch from:960 to 1000\n",
            "32 8\n",
            "Batch from:1000 to 1040\n",
            "35 5\n",
            "Batch from:1040 to 1080\n",
            "32 8\n",
            "Batch from:1080 to 1120\n",
            "34 6\n",
            "Batch from:1120 to 1160\n",
            "36 4\n",
            "Batch from:1160 to 1200\n",
            "37 3\n",
            "Batch from:1200 to 1240\n",
            "35 5\n",
            "Batch from:1240 to 1280\n",
            "34 6\n",
            "Batch from:1280 to 1320\n",
            "35 5\n",
            "Batch from:1320 to 1360\n",
            "35 5\n",
            "Batch from:1360 to 1400\n",
            "35 5\n",
            "Batch from:1400 to 1440\n",
            "33 7\n",
            "Batch from:1440 to 1480\n",
            "33 7\n",
            "Batch from:1480 to 1520\n",
            "34 6\n",
            "Batch from:1520 to 1560\n",
            "32 8\n",
            "Batch from:1560 to 1600\n",
            "35 5\n",
            "Batch from:1600 to 1640\n",
            "35 5\n",
            "Batch from:1640 to 1680\n",
            "31 9\n",
            "Batch from:1680 to 1720\n",
            "35 5\n",
            "Batch from:1720 to 1760\n",
            "34 6\n",
            "Batch from:1760 to 1800\n",
            "40 0\n",
            "Batch from:1800 to 1840\n",
            "34 6\n",
            "Batch from:1840 to 1880\n",
            "27 13\n",
            "Batch from:1880 to 1920\n",
            "34 6\n",
            "Batch from:1920 to 1960\n",
            "36 4\n",
            "Batch from:1960 to 2000\n",
            "33 7\n",
            "Batch from:2000 to 2040\n",
            "36 4\n",
            "Batch from:2040 to 2080\n",
            "37 3\n",
            "Batch from:2080 to 2120\n",
            "36 4\n",
            "Batch from:2120 to 2160\n",
            "31 9\n",
            "Batch from:2160 to 2200\n",
            "33 7\n",
            "Batch from:2200 to 2240\n",
            "33 7\n",
            "Batch from:2240 to 2280\n",
            "30 10\n",
            "Batch from:2280 to 2320\n",
            "36 4\n",
            "Batch from:2320 to 2360\n",
            "33 7\n",
            "Batch from:2360 to 2400\n",
            "34 6\n",
            "Batch from:2400 to 2440\n",
            "35 5\n",
            "Batch from:2440 to 2480\n",
            "32 8\n",
            "Batch from:2480 to 2520\n",
            "33 7\n",
            "Batch from:2520 to 2560\n",
            "32 8\n",
            "Batch from:2560 to 2600\n",
            "35 5\n",
            "Batch from:2600 to 2640\n",
            "32 8\n",
            "Batch from:2640 to 2680\n",
            "34 6\n",
            "Batch from:2680 to 2720\n",
            "35 5\n",
            "Batch from:2720 to 2760\n",
            "32 8\n",
            "Batch from:2760 to 2800\n",
            "37 3\n",
            "Batch from:2800 to 2840\n",
            "36 4\n",
            "Batch from:2840 to 2880\n",
            "32 8\n",
            "Batch from:2880 to 2920\n",
            "32 8\n",
            "Batch from:2920 to 2960\n",
            "34 6\n",
            "Batch from:2960 to 3000\n",
            "35 5\n",
            "Batch from:3000 to 3040\n",
            "34 6\n",
            "Batch from:3040 to 3080\n",
            "34 6\n",
            "Batch from:3080 to 3120\n",
            "32 8\n",
            "Batch from:3120 to 3160\n",
            "32 8\n",
            "Batch from:3160 to 3200\n",
            "32 8\n",
            "Batch from:3200 to 3240\n",
            "32 8\n",
            "Batch from:3240 to 3280\n",
            "32 8\n",
            "Batch from:3280 to 3320\n",
            "35 5\n",
            "Batch from:3320 to 3360\n",
            "34 6\n",
            "Batch from:3360 to 3400\n",
            "38 2\n",
            "Batch from:3400 to 3440\n",
            "32 8\n",
            "Batch from:3440 to 3480\n",
            "33 7\n",
            "Batch from:3480 to 3520\n",
            "32 8\n",
            "Batch from:3520 to 3560\n",
            "39 1\n",
            "Batch from:3560 to 3600\n",
            "37 3\n",
            "Batch from:3600 to 3640\n",
            "31 9\n",
            "Batch from:3640 to 3680\n",
            "36 4\n",
            "Batch from:3680 to 3720\n",
            "32 8\n",
            "Batch from:3720 to 3760\n",
            "37 3\n",
            "Batch from:3760 to 3800\n",
            "31 9\n",
            "Batch from:3800 to 3840\n",
            "30 10\n",
            "Batch from:3840 to 3880\n",
            "33 7\n",
            "Batch from:3880 to 3920\n",
            "32 8\n",
            "Batch from:3920 to 3960\n",
            "31 9\n",
            "Batch from:3960 to 4000\n",
            "36 4\n",
            "Batch from:4000 to 4040\n",
            "36 4\n",
            "Batch from:4040 to 4080\n",
            "32 8\n",
            "Batch from:4080 to 4120\n",
            "36 4\n",
            "Batch from:4120 to 4160\n",
            "33 7\n",
            "Batch from:4160 to 4200\n",
            "31 9\n",
            "Batch from:4200 to 4240\n",
            "34 6\n",
            "Batch from:4240 to 4280\n",
            "35 5\n",
            "Batch from:4280 to 4320\n",
            "30 10\n",
            "Batch from:4320 to 4360\n",
            "35 5\n",
            "Batch from:4360 to 4400\n",
            "37 3\n",
            "Batch from:4400 to 4440\n",
            "30 10\n",
            "Batch from:4440 to 4480\n",
            "36 4\n",
            "Batch from:4480 to 4520\n",
            "35 5\n",
            "Batch from:4520 to 4560\n",
            "36 4\n",
            "Batch from:4560 to 4600\n",
            "35 5\n",
            "Batch from:4600 to 4640\n",
            "37 3\n",
            "Batch from:4640 to 4680\n",
            "34 6\n",
            "Batch from:4680 to 4720\n",
            "31 9\n",
            "Batch from:4720 to 4760\n",
            "34 6\n",
            "Batch from:4760 to 4800\n",
            "35 5\n",
            "Batch from:4800 to 4840\n",
            "35 5\n",
            "Batch from:4840 to 4880\n",
            "32 8\n",
            "Batch from:4880 to 4920\n",
            "36 4\n",
            "Batch from:4920 to 4960\n",
            "38 2\n",
            "Batch from:4960 to 5000\n",
            "33 7\n",
            "Batch from:5000 to 5040\n",
            "30 10\n",
            "Batch from:5040 to 5080\n",
            "37 3\n",
            "Batch from:5080 to 5120\n",
            "29 11\n",
            "Batch from:5120 to 5160\n",
            "33 7\n",
            "Batch from:5160 to 5200\n",
            "34 6\n",
            "Batch from:5200 to 5240\n",
            "30 10\n",
            "Batch from:5240 to 5280\n",
            "34 6\n",
            "Batch from:5280 to 5320\n",
            "32 8\n",
            "Batch from:5320 to 5360\n",
            "34 6\n",
            "Batch from:5360 to 5400\n",
            "33 7\n",
            "Batch from:5400 to 5440\n",
            "34 6\n",
            "Batch from:5440 to 5480\n",
            "36 4\n",
            "Batch from:5480 to 5520\n",
            "35 5\n",
            "Batch from:5520 to 5560\n",
            "33 7\n",
            "Batch from:5560 to 5600\n",
            "32 8\n",
            "Batch from:5600 to 5640\n",
            "33 7\n",
            "Batch from:5640 to 5680\n",
            "34 6\n",
            "Batch from:5680 to 5720\n",
            "33 7\n",
            "Batch from:5720 to 5760\n",
            "33 7\n",
            "Batch from:5760 to 5800\n",
            "34 6\n",
            "Batch from:5800 to 5840\n",
            "36 4\n",
            "Batch from:5840 to 5880\n",
            "16 7\n"
          ]
        }
      ]
    },
    {
      "cell_type": "code",
      "source": [
        "print('Number of batches: ',len(accu_curve_list))\n",
        "print(accu_curve_list)\n",
        "print(loss_curve_list)"
      ],
      "metadata": {
        "colab": {
          "base_uri": "https://localhost:8080/"
        },
        "id": "d2YxOgTpn-CD",
        "outputId": "d4984718-83fd-412f-9b92-ae27a0c5dbf0"
      },
      "execution_count": null,
      "outputs": [
        {
          "output_type": "stream",
          "name": "stdout",
          "text": [
            "Number of batches:  147\n",
            "[0.95, 0.875, 0.75, 0.825, 0.825, 0.8, 0.9, 0.8, 0.8, 0.925, 0.85, 0.85, 0.75, 0.8, 0.825, 0.85, 0.85, 0.875, 0.85, 1.0, 0.825, 0.875, 0.875, 0.85, 0.8, 0.875, 0.8, 0.85, 0.9, 0.925, 0.875, 0.85, 0.875, 0.875, 0.875, 0.825, 0.825, 0.85, 0.8, 0.875, 0.875, 0.775, 0.875, 0.85, 1.0, 0.85, 0.675, 0.85, 0.9, 0.825, 0.9, 0.925, 0.9, 0.775, 0.825, 0.825, 0.75, 0.9, 0.825, 0.85, 0.875, 0.8, 0.825, 0.8, 0.875, 0.8, 0.85, 0.875, 0.8, 0.925, 0.9, 0.8, 0.8, 0.85, 0.875, 0.85, 0.85, 0.8, 0.8, 0.8, 0.8, 0.8, 0.875, 0.85, 0.95, 0.8, 0.825, 0.8, 0.975, 0.925, 0.775, 0.9, 0.8, 0.925, 0.775, 0.75, 0.825, 0.8, 0.775, 0.9, 0.9, 0.8, 0.9, 0.825, 0.775, 0.85, 0.875, 0.75, 0.875, 0.925, 0.75, 0.9, 0.875, 0.9, 0.875, 0.925, 0.85, 0.775, 0.85, 0.875, 0.875, 0.8, 0.9, 0.95, 0.825, 0.75, 0.925, 0.725, 0.825, 0.85, 0.75, 0.85, 0.8, 0.85, 0.825, 0.85, 0.9, 0.875, 0.825, 0.8, 0.825, 0.85, 0.825, 0.825, 0.85, 0.9, 0.6956521739130435]\n",
            "[0.05, 0.125, 0.25, 0.175, 0.175, 0.2, 0.1, 0.2, 0.2, 0.075, 0.15, 0.15, 0.25, 0.2, 0.175, 0.15, 0.15, 0.125, 0.15, 0.0, 0.175, 0.125, 0.125, 0.15, 0.2, 0.125, 0.2, 0.15, 0.1, 0.075, 0.125, 0.15, 0.125, 0.125, 0.125, 0.175, 0.175, 0.15, 0.2, 0.125, 0.125, 0.225, 0.125, 0.15, 0.0, 0.15, 0.325, 0.15, 0.1, 0.175, 0.1, 0.075, 0.1, 0.225, 0.175, 0.175, 0.25, 0.1, 0.175, 0.15, 0.125, 0.2, 0.175, 0.2, 0.125, 0.2, 0.15, 0.125, 0.2, 0.075, 0.1, 0.2, 0.2, 0.15, 0.125, 0.15, 0.15, 0.2, 0.2, 0.2, 0.2, 0.2, 0.125, 0.15, 0.05, 0.2, 0.175, 0.2, 0.025, 0.075, 0.225, 0.1, 0.2, 0.075, 0.225, 0.25, 0.175, 0.2, 0.225, 0.1, 0.1, 0.2, 0.1, 0.175, 0.225, 0.15, 0.125, 0.25, 0.125, 0.075, 0.25, 0.1, 0.125, 0.1, 0.125, 0.075, 0.15, 0.225, 0.15, 0.125, 0.125, 0.2, 0.1, 0.05, 0.175, 0.25, 0.075, 0.275, 0.175, 0.15, 0.25, 0.15, 0.2, 0.15, 0.175, 0.15, 0.1, 0.125, 0.175, 0.2, 0.175, 0.15, 0.175, 0.175, 0.15, 0.1, 0.30434782608695654]\n"
          ]
        }
      ]
    },
    {
      "cell_type": "code",
      "source": [
        "#Draw the loss curve for the test set \n",
        "plt.plot(loss_curve_list)\n",
        "plt.rcParams[\"figure.figsize\"] = (15,3)\n",
        "plt.title('Model Loss')\n",
        "plt.xlabel('Batch')\n",
        "plt.ylabel('Loss')\n",
        "bottom,top = plt.ylim()\n",
        "plt.ylim(0,1)\n",
        "\n",
        "plt.show()"
      ],
      "metadata": {
        "colab": {
          "base_uri": "https://localhost:8080/",
          "height": 316
        },
        "id": "sX-gmC_9oYJy",
        "outputId": "3c846b60-f834-44da-9fed-19f03813ef46"
      },
      "execution_count": null,
      "outputs": [
        {
          "output_type": "display_data",
          "data": {
            "text/plain": [
              "<Figure size 432x288 with 1 Axes>"
            ],
            "image/png": "[encoded data removed]"
          },
          "metadata": {
            "needs_background": "light"
          }
        }
      ]
    },
    {
      "cell_type": "code",
      "source": [
        "#Draw the accuracy curve for the test set \n",
        "plt.plot(accu_curve_list)\n",
        "plt.title('Model accuracy')\n",
        "plt.xlabel('Batch')\n",
        "plt.ylabel('Accuracy')\n",
        "plt.legend(loc='lower right')\n",
        "bottom,top = plt.ylim()\n",
        "plt.ylim(0,1)\n",
        "plt.rcParams[\"figure.figsize\"] = (3,15)\n",
        "plt.show()"
      ],
      "metadata": {
        "colab": {
          "base_uri": "https://localhost:8080/",
          "height": 279
        },
        "id": "EYJ41XGlpE0a",
        "outputId": "841b5010-9380-4107-84d0-97d2982f38ac"
      },
      "execution_count": null,
      "outputs": [
        {
          "output_type": "stream",
          "name": "stderr",
          "text": [
            "WARNING:matplotlib.legend:No handles with labels found to put in legend.\n"
          ]
        },
        {
          "output_type": "display_data",
          "data": {
            "text/plain": [
              "<Figure size 1080x216 with 1 Axes>"
            ],
            "image/png": "[encoded data removed]"
          },
          "metadata": {
            "needs_background": "light"
          }
        }
      ]
    }
  ],
  "metadata": {
    "accelerator": "GPU",
    "colab": {
      "provenance": []
    },
    "gpuClass": "standard",
    "kernelspec": {
      "display_name": "Python 3",
      "name": "python3"
    },
    "language_info": {
      "name": "python"
    }
  },
  "nbformat": 4,
  "nbformat_minor": 0
}