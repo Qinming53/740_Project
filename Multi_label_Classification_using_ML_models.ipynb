{
  "nbformat": 4,
  "nbformat_minor": 0,
  "metadata": {
    "colab": {
      "provenance": []
    },
    "kernelspec": {
      "name": "python3",
      "display_name": "Python 3"
    },
    "language_info": {
      "name": "python"
    }
  },
  "cells": [
    {
      "cell_type": "code",
      "execution_count": 1,
      "metadata": {
        "id": "LlUPIjh6Bext"
      },
      "outputs": [],
      "source": [
        "import numpy as np\n",
        "import pandas as pd\n",
        "import matplotlib.pyplot as plt\n",
        "import seaborn as sns\n",
        "from scipy.stats import f_oneway\n",
        "import time\n",
        "\n",
        "from os import path\n",
        "from PIL import Image\n",
        "import numpy as np\n",
        "import matplotlib.pyplot as plt\n",
        "from wordcloud import WordCloud, STOPWORDS\n",
        "\n",
        "import re\n",
        "import nltk.corpus\n",
        "from nltk.tokenize import word_tokenize\n",
        "from nltk.stem import PorterStemmer\n",
        "from nltk.corpus import stopwords\n",
        "from nltk.stem import WordNetLemmatizer"
      ]
    },
    {
      "cell_type": "code",
      "execution_count": 2,
      "metadata": {
        "id": "RVS01oy3Ee7Z",
        "colab": {
          "base_uri": "https://localhost:8080/"
        },
        "outputId": "c644110b-e98f-4aed-f2fb-99b41d9b5371"
      },
      "outputs": [
        {
          "output_type": "stream",
          "name": "stderr",
          "text": [
            "[nltk_data] Downloading package stopwords to /root/nltk_data...\n",
            "[nltk_data]   Unzipping corpora/stopwords.zip.\n",
            "[nltk_data] Downloading package punkt to /root/nltk_data...\n",
            "[nltk_data]   Unzipping tokenizers/punkt.zip.\n",
            "[nltk_data] Downloading package wordnet to /root/nltk_data...\n",
            "[nltk_data] Downloading package omw-1.4 to /root/nltk_data...\n"
          ]
        },
        {
          "output_type": "execute_result",
          "data": {
            "text/plain": [
              "True"
            ]
          },
          "metadata": {},
          "execution_count": 2
        }
      ],
      "source": [
        "# Clean dataset\n",
        "nltk.download('stopwords')\n",
        "nltk.download('punkt')\n",
        "nltk.download('wordnet')\n",
        "nltk.download('omw-1.4')"
      ]
    },
    {
      "cell_type": "code",
      "execution_count": 3,
      "metadata": {
        "id": "rG4_1qrNBgO4"
      },
      "outputs": [],
      "source": [
        "url = 'https://raw.githubusercontent.com/dashascience/-MBTI-Myers-Briggs-Personality-Type-Dataset/master/mbti_1.csv'\n",
        "df = pd.read_csv(url)"
      ]
    },
    {
      "cell_type": "code",
      "execution_count": 4,
      "metadata": {
        "id": "j3djy1RgBhh5",
        "colab": {
          "base_uri": "https://localhost:8080/",
          "height": 206
        },
        "outputId": "8e96dce7-eaa6-4362-bba4-e9c13f91af2e"
      },
      "outputs": [
        {
          "output_type": "execute_result",
          "data": {
            "text/plain": [
              "   type                                              posts\n",
              "0  INFJ  'http://www.youtube.com/watch?v=qsXHcwe3krw|||...\n",
              "1  ENTP  'I'm finding the lack of me in these posts ver...\n",
              "2  INTP  'Good one  _____   https://www.youtube.com/wat...\n",
              "3  INTJ  'Dear INTP,   I enjoyed our conversation the o...\n",
              "4  ENTJ  'You're fired.|||That's another silly misconce..."
            ],
            "text/html": [
              "\n",
              "  <div id=\"df-87b8ee08-4d21-4b01-9886-2a974679c6e0\">\n",
              "    <div class=\"colab-df-container\">\n",
              "      <div>\n",
              "<style scoped>\n",
              "    .dataframe tbody tr th:only-of-type {\n",
              "        vertical-align: middle;\n",
              "    }\n",
              "\n",
              "    .dataframe tbody tr th {\n",
              "        vertical-align: top;\n",
              "    }\n",
              "\n",
              "    .dataframe thead th {\n",
              "        text-align: right;\n",
              "    }\n",
              "</style>\n",
              "<table border=\"1\" class=\"dataframe\">\n",
              "  <thead>\n",
              "    <tr style=\"text-align: right;\">\n",
              "      <th></th>\n",
              "      <th>type</th>\n",
              "      <th>posts</th>\n",
              "    </tr>\n",
              "  </thead>\n",
              "  <tbody>\n",
              "    <tr>\n",
              "      <th>0</th>\n",
              "      <td>INFJ</td>\n",
              "      <td>'http://www.youtube.com/watch?v=qsXHcwe3krw|||...</td>\n",
              "    </tr>\n",
              "    <tr>\n",
              "      <th>1</th>\n",
              "      <td>ENTP</td>\n",
              "      <td>'I'm finding the lack of me in these posts ver...</td>\n",
              "    </tr>\n",
              "    <tr>\n",
              "      <th>2</th>\n",
              "      <td>INTP</td>\n",
              "      <td>'Good one  _____   https://www.youtube.com/wat...</td>\n",
              "    </tr>\n",
              "    <tr>\n",
              "      <th>3</th>\n",
              "      <td>INTJ</td>\n",
              "      <td>'Dear INTP,   I enjoyed our conversation the o...</td>\n",
              "    </tr>\n",
              "    <tr>\n",
              "      <th>4</th>\n",
              "      <td>ENTJ</td>\n",
              "      <td>'You're fired.|||That's another silly misconce...</td>\n",
              "    </tr>\n",
              "  </tbody>\n",
              "</table>\n",
              "</div>\n",
              "      <button class=\"colab-df-convert\" onclick=\"convertToInteractive('df-87b8ee08-4d21-4b01-9886-2a974679c6e0')\"\n",
              "              title=\"Convert this dataframe to an interactive table.\"\n",
              "              style=\"display:none;\">\n",
              "        \n",
              "  <svg xmlns=\"http://www.w3.org/2000/svg\" height=\"24px\"viewBox=\"0 0 24 24\"\n",
              "       width=\"24px\">\n",
              "    <path d=\"M0 0h24v24H0V0z\" fill=\"none\"/>\n",
              "    <path d=\"M18.56 5.44l.94 2.06.94-2.06 2.06-.94-2.06-.94-.94-2.06-.94 2.06-2.06.94zm-11 1L8.5 8.5l.94-2.06 2.06-.94-2.06-.94L8.5 2.5l-.94 2.06-2.06.94zm10 10l.94 2.06.94-2.06 2.06-.94-2.06-.94-.94-2.06-.94 2.06-2.06.94z\"/><path d=\"M17.41 7.96l-1.37-1.37c-.4-.4-.92-.59-1.43-.59-.52 0-1.04.2-1.43.59L10.3 9.45l-7.72 7.72c-.78.78-.78 2.05 0 2.83L4 21.41c.39.39.9.59 1.41.59.51 0 1.02-.2 1.41-.59l7.78-7.78 2.81-2.81c.8-.78.8-2.07 0-2.86zM5.41 20L4 18.59l7.72-7.72 1.47 1.35L5.41 20z\"/>\n",
              "  </svg>\n",
              "      </button>\n",
              "      \n",
              "  <style>\n",
              "    .colab-df-container {\n",
              "      display:flex;\n",
              "      flex-wrap:wrap;\n",
              "      gap: 12px;\n",
              "    }\n",
              "\n",
              "    .colab-df-convert {\n",
              "      background-color: #E8F0FE;\n",
              "      border: none;\n",
              "      border-radius: 50%;\n",
              "      cursor: pointer;\n",
              "      display: none;\n",
              "      fill: #1967D2;\n",
              "      height: 32px;\n",
              "      padding: 0 0 0 0;\n",
              "      width: 32px;\n",
              "    }\n",
              "\n",
              "    .colab-df-convert:hover {\n",
              "      background-color: #E2EBFA;\n",
              "      box-shadow: 0px 1px 2px rgba(60, 64, 67, 0.3), 0px 1px 3px 1px rgba(60, 64, 67, 0.15);\n",
              "      fill: #174EA6;\n",
              "    }\n",
              "\n",
              "    [theme=dark] .colab-df-convert {\n",
              "      background-color: #3B4455;\n",
              "      fill: #D2E3FC;\n",
              "    }\n",
              "\n",
              "    [theme=dark] .colab-df-convert:hover {\n",
              "      background-color: #434B5C;\n",
              "      box-shadow: 0px 1px 3px 1px rgba(0, 0, 0, 0.15);\n",
              "      filter: drop-shadow(0px 1px 2px rgba(0, 0, 0, 0.3));\n",
              "      fill: #FFFFFF;\n",
              "    }\n",
              "  </style>\n",
              "\n",
              "      <script>\n",
              "        const buttonEl =\n",
              "          document.querySelector('#df-87b8ee08-4d21-4b01-9886-2a974679c6e0 button.colab-df-convert');\n",
              "        buttonEl.style.display =\n",
              "          google.colab.kernel.accessAllowed ? 'block' : 'none';\n",
              "\n",
              "        async function convertToInteractive(key) {\n",
              "          const element = document.querySelector('#df-87b8ee08-4d21-4b01-9886-2a974679c6e0');\n",
              "          const dataTable =\n",
              "            await google.colab.kernel.invokeFunction('convertToInteractive',\n",
              "                                                     [key], {});\n",
              "          if (!dataTable) return;\n",
              "\n",
              "          const docLinkHtml = 'Like what you see? Visit the ' +\n",
              "            '<a target=\"_blank\" href=https://colab.research.google.com/notebooks/data_table.ipynb>data table notebook</a>'\n",
              "            + ' to learn more about interactive tables.';\n",
              "          element.innerHTML = '';\n",
              "          dataTable['output_type'] = 'display_data';\n",
              "          await google.colab.output.renderOutput(dataTable, element);\n",
              "          const docLink = document.createElement('div');\n",
              "          docLink.innerHTML = docLinkHtml;\n",
              "          element.appendChild(docLink);\n",
              "        }\n",
              "      </script>\n",
              "    </div>\n",
              "  </div>\n",
              "  "
            ]
          },
          "metadata": {},
          "execution_count": 4
        }
      ],
      "source": [
        "df.head()"
      ]
    },
    {
      "cell_type": "code",
      "execution_count": 5,
      "metadata": {
        "id": "VV65JsyxBkJB",
        "colab": {
          "base_uri": "https://localhost:8080/",
          "height": 112
        },
        "outputId": "0ca513e3-55c4-4dc9-cc8d-d53c71f752c0"
      },
      "outputs": [
        {
          "output_type": "execute_result",
          "data": {
            "text/plain": [
              "<pandas.io.formats.style.Styler at 0x7f5d88f9af70>"
            ],
            "text/html": [
              "<style type=\"text/css\">\n",
              "#T_6a99e_row0_col1, #T_6a99e_row0_col2, #T_6a99e_row0_col3, #T_6a99e_row1_col2, #T_6a99e_row1_col3 {\n",
              "  background-color: #66c2a5;\n",
              "  color: #000000;\n",
              "}\n",
              "#T_6a99e_row1_col1 {\n",
              "  background-color: #b3b3b3;\n",
              "  color: #000000;\n",
              "}\n",
              "</style>\n",
              "<table id=\"T_6a99e_\" class=\"dataframe\">\n",
              "  <thead>\n",
              "    <tr>\n",
              "      <th class=\"blank level0\" >&nbsp;</th>\n",
              "      <th class=\"col_heading level0 col0\" >Data Type</th>\n",
              "      <th class=\"col_heading level0 col1\" >Unique Values</th>\n",
              "      <th class=\"col_heading level0 col2\" >Null Values</th>\n",
              "      <th class=\"col_heading level0 col3\" >% null Values</th>\n",
              "    </tr>\n",
              "  </thead>\n",
              "  <tbody>\n",
              "    <tr>\n",
              "      <th id=\"T_6a99e_level0_row0\" class=\"row_heading level0 row0\" >type</th>\n",
              "      <td id=\"T_6a99e_row0_col0\" class=\"data row0 col0\" >object</td>\n",
              "      <td id=\"T_6a99e_row0_col1\" class=\"data row0 col1\" >16</td>\n",
              "      <td id=\"T_6a99e_row0_col2\" class=\"data row0 col2\" >0</td>\n",
              "      <td id=\"T_6a99e_row0_col3\" class=\"data row0 col3\" >0.000000</td>\n",
              "    </tr>\n",
              "    <tr>\n",
              "      <th id=\"T_6a99e_level0_row1\" class=\"row_heading level0 row1\" >posts</th>\n",
              "      <td id=\"T_6a99e_row1_col0\" class=\"data row1 col0\" >object</td>\n",
              "      <td id=\"T_6a99e_row1_col1\" class=\"data row1 col1\" >8675</td>\n",
              "      <td id=\"T_6a99e_row1_col2\" class=\"data row1 col2\" >0</td>\n",
              "      <td id=\"T_6a99e_row1_col3\" class=\"data row1 col3\" >0.000000</td>\n",
              "    </tr>\n",
              "  </tbody>\n",
              "</table>\n"
            ]
          },
          "metadata": {},
          "execution_count": 5
        }
      ],
      "source": [
        "# checking the types of varibles in the dataset(int,float,object) and also looking at null values\n",
        "dtypes=pd.DataFrame(df.dtypes,columns=[\"Data Type\"])\n",
        "dtypes[\"Unique Values\"]=df.nunique()\n",
        "dtypes[\"Null Values\"]=df.isnull().sum()\n",
        "dtypes[\"% null Values\"]=df.isnull().sum()/len(df)\n",
        "dtypes.style.background_gradient(cmap='Set2',axis=0)"
      ]
    },
    {
      "cell_type": "code",
      "execution_count": 6,
      "metadata": {
        "id": "-d5EgvSDB7Z4",
        "colab": {
          "base_uri": "https://localhost:8080/"
        },
        "outputId": "8ff2e3dd-fb0e-455b-8515-378d3ce8dcfd"
      },
      "outputs": [
        {
          "output_type": "stream",
          "name": "stdout",
          "text": [
            "[]\n",
            "[]\n",
            "['enfp', 'intj', 'moments', 'sportscenter', 'top', 'ten', 'plays', 'pranks']\n",
            "['lifechanging', 'experience', 'life']\n",
            "['repeat', 'today']\n",
            "['may', 'perc', 'experience', 'immerse']\n",
            "['last', 'thing', 'infj', 'friend', 'posted', 'facebook', 'committing', 'suicide', 'next', 'day', 'rest', 'peace']\n",
            "['hello', 'enfj7', 'sorry', 'hear', 'distress', 'natural', 'relationship', 'perfection', 'time', 'every', 'moment', 'existence', 'try', 'figure', 'hard', 'times', 'times', 'growth']\n",
            "['84389', '84390']\n",
            "['welcome', 'stuff']\n",
            "['game', 'set', 'match']\n",
            "['prozac', 'wellbrutin', 'least', 'thirty', 'minutes', 'moving', 'legs', 'dont', 'mean', 'moving', 'sitting', 'desk', 'chair', 'weed', 'moderation', 'maybe', 'try', 'edibles', 'healthier', 'alternative']\n",
            "['basically', 'come', 'three', 'items', 'youve', 'determined', 'type', 'whichever', 'types', 'want', 'would', 'likely', 'use', 'given', 'types', 'cognitive', 'functions', 'whatnot', 'left']\n",
            "['things', 'moderation', 'sims', 'indeed', 'video', 'game', 'good', 'one', 'note', 'good', 'one', 'somewhat', 'subjective', 'completely', 'promoting', 'death', 'given', 'sim']\n",
            "['dear', 'enfp', 'favorite', 'video', 'games', 'growing', 'current', 'favorite', 'video', 'games', 'cool']\n",
            "[]\n",
            "['appears', 'late', 'sad']\n",
            "['theres', 'someone', 'everyone']\n",
            "['wait', 'thought', 'confidence', 'good', 'thing']\n",
            "['cherish', 'time', 'solitude', 'bc', 'revel', 'within', 'inner', 'world', 'whereas', 'time', 'id', 'workin', 'enjoy', 'time', 'dont', 'worry', 'people', 'always', 'around']\n",
            "['yo', 'entp', 'ladies', 'youre', 'complimentary', 'personalitywell', 'hey']\n",
            "['main', 'social', 'outlet', 'xbox', 'live', 'conversations', 'even', 'verbally', 'fatigue', 'quickly']\n",
            "['really', 'dig', 'part', '146', '250']\n",
            "[]\n",
            "['banned', 'thread', 'requires']\n",
            "['get', 'high', 'backyard', 'roast', 'eat', 'marshmellows', 'backyard', 'conversing', 'something', 'intellectual', 'followed', 'massages', 'kisses']\n",
            "[]\n",
            "[]\n",
            "[]\n",
            "['banned', 'many', 'bs', 'sentence', 'could', 'think', 'b']\n",
            "['banned', 'watching', 'movies', 'corner', 'dunces']\n",
            "['banned', 'health', 'class', 'clearly', 'taught', 'nothing', 'peer', 'pressure']\n",
            "['banned', 'whole', 'host', 'reasons']\n",
            "[]\n",
            "['1', 'two', 'baby', 'deer', 'left', 'right', 'munching', 'beetle', 'middle', '2', 'using', 'blood', 'two', 'cavemen', 'diary', 'todays', 'latest', 'happenings', 'designated', 'cave', 'diary', 'wall', '3', 'see']\n",
            "['pokemon', 'world', 'infj', 'society', 'everyone', 'becomes', 'optimist']\n",
            "['49142']\n",
            "[]\n",
            "[]\n",
            "[]\n",
            "[]\n",
            "['artists', 'artists', 'draw', 'idea', 'counts', 'forming', 'something', 'like', 'signature']\n",
            "['welcome', 'robot', 'ranks', 'person', 'downed', 'selfesteem', 'cuz', 'im', 'avid', 'signature', 'artist', 'like', 'proud']\n",
            "['banned', 'taking', 'room', 'bed', 'ya', 'got', 'ta', 'learn', 'share', 'roaches']\n",
            "[]\n",
            "['banned', 'much', 'thundering', 'grumbling', 'kind', 'storm', 'yep']\n",
            "['ahh', 'old', 'high', 'school', 'music', 'havent', 'heard', 'ages']\n",
            "['failed', 'public', 'speaking', 'class', 'years', 'ago', 'ive', 'sort', 'learned', 'could', 'better', 'position', 'big', 'part', 'failure', 'overloading']\n",
            "['like', 'persons', 'mentality', 'hes', 'confirmed', 'intj', 'way']\n",
            "['move', 'denver', 'area', 'start', 'new', 'life']\n"
          ]
        }
      ],
      "source": [
        "# normalize, remove stop words and url links.\n",
        "lemmatizer = WordNetLemmatizer()\n",
        "stop_words = set(stopwords.words('english'))\n",
        "clean_text1=[]\n",
        "for i in df.posts[0].split('|||'):\n",
        "  i=i.lower()\n",
        "  i = re.sub(r\"(@\\[A-Za-z0-9]+)|([^0-9A-Za-z \\t])|(\\w+:\\/\\/\\S+)|^rt|http.+?\", \"\", i)\n",
        "  i_tokens = word_tokenize(i)\n",
        "  filtered_i = [w for w in i_tokens if not w in stop_words]\n",
        "  clean_text1.append(filtered_i)\n",
        "  print(filtered_i)\n"
      ]
    },
    {
      "cell_type": "code",
      "execution_count": 7,
      "metadata": {
        "id": "Irivzkw5F5-t",
        "colab": {
          "base_uri": "https://localhost:8080/"
        },
        "outputId": "242bbdd5-0fb8-419c-a29e-5c18ad1d8462"
      },
      "outputs": [
        {
          "output_type": "stream",
          "name": "stderr",
          "text": [
            "[nltk_data] Downloading package stopwords to /root/nltk_data...\n",
            "[nltk_data]   Package stopwords is already up-to-date!\n"
          ]
        }
      ],
      "source": [
        "stopwords = nltk.corpus.stopwords.words('english')\n",
        "lemmatizer = WordNetLemmatizer()\n",
        "nltk.download('stopwords')\n",
        "mbti = [\"intj\",\"intp\",\"infj\", \"infp\",\"istj\",\"istp\",\"isfj\",\"isfp\",\"entj\",\"entp\", \"enfj\", \"enfp\",\"estj\", \"estp\",\"esfj\",\"esfp\",\"si\",\"ni\",\"ti\",\"fi\",\"se\",\n",
        "        \"ne\",\"te\",\"fe\",\"nt\",\"nf\",\"le\",\"mbti\",\"sp\",\"sj\",\"sf\",\"st\",\"in\",\"is\",\"en\",\"es\"]\n",
        "data_length=[]\n",
        "lemmatizer=WordNetLemmatizer()\n",
        "clean_text1=[]\n",
        "for i in range(0,len(df.posts)):\n",
        "  doc = re.sub(r\"(@\\[A-Za-z0-9]+)|([^0-9A-Za-z \\t])|(\\w+:\\/\\/\\S+)|^rt|http.+?\", \"\", df.posts[i])\n",
        "  doc = doc.lower()\n",
        "  doc = doc.split()\n",
        "  doc = [word for word in doc if not word in mbti]\n",
        "  doc = [lemmatizer.lemmatize(word) for word in doc if not word in set(stopwords)]\n",
        "  doc = ' '.join(doc)\n",
        "  clean_text1.append(doc)"
      ]
    },
    {
      "cell_type": "code",
      "execution_count": 8,
      "metadata": {
        "id": "sufdYTLydP2G"
      },
      "outputs": [],
      "source": [
        "types = np.unique(df.type.values)\n",
        "\n",
        "def get_type_index(string):\n",
        "    return list(types).index(string)\n",
        "\n",
        "df['type_index'] = df['type'].apply(get_type_index)\n",
        "# Find the original posts column\n",
        "n = df.columns[1]\n",
        "\n",
        "# Drop that column\n",
        "df.drop(n, axis = 1, inplace = True)\n",
        "\n",
        "# Put cleaned posts in place\n",
        "df[n] = clean_text1"
      ]
    },
    {
      "cell_type": "code",
      "execution_count": 9,
      "metadata": {
        "id": "N6tZKNpy0DoC"
      },
      "outputs": [],
      "source": [
        "df['tokenized_cleantexts'] = df.apply(lambda row: nltk.word_tokenize(row['posts']), axis=1)"
      ]
    },
    {
      "cell_type": "code",
      "execution_count": 10,
      "metadata": {
        "id": "fBA_C48pegIj",
        "colab": {
          "base_uri": "https://localhost:8080/",
          "height": 424
        },
        "outputId": "3f4abe4d-8e3c-44b0-9ca6-f2a24663ab86"
      },
      "outputs": [
        {
          "output_type": "execute_result",
          "data": {
            "text/plain": [
              "      type  type_index                                              posts  \\\n",
              "0     INFJ           8  moment sportscenter top ten play prankswhat li...   \n",
              "1     ENTP           3  im finding lack post alarmingsex boring positi...   \n",
              "2     INTP          11  good one course say know thats blessing cursed...   \n",
              "3     INTJ          10  dear enjoyed conversation day esoteric gabbing...   \n",
              "4     ENTJ           2  youre firedthats another silly misconception a...   \n",
              "...    ...         ...                                                ...   \n",
              "8670  ISFP          13  always think cat doms reason website become ne...   \n",
              "8671  ENFP           1  soif thread already exists someplace else heck...   \n",
              "8672  INTP          11  many question thing would take purple pill pic...   \n",
              "8673  INFP           9  conflicted right come wanting child honestly m...   \n",
              "8674  INFP           9  long since personalitycafe although doesnt see...   \n",
              "\n",
              "                                   tokenized_cleantexts  \n",
              "0     [moment, sportscenter, top, ten, play, pranksw...  \n",
              "1     [im, finding, lack, post, alarmingsex, boring,...  \n",
              "2     [good, one, course, say, know, thats, blessing...  \n",
              "3     [dear, enjoyed, conversation, day, esoteric, g...  \n",
              "4     [youre, firedthats, another, silly, misconcept...  \n",
              "...                                                 ...  \n",
              "8670  [always, think, cat, doms, reason, website, be...  \n",
              "8671  [soif, thread, already, exists, someplace, els...  \n",
              "8672  [many, question, thing, would, take, purple, p...  \n",
              "8673  [conflicted, right, come, wanting, child, hone...  \n",
              "8674  [long, since, personalitycafe, although, doesn...  \n",
              "\n",
              "[8675 rows x 4 columns]"
            ],
            "text/html": [
              "\n",
              "  <div id=\"df-e94ebf0e-ca95-4684-937a-99a3a9f175a7\">\n",
              "    <div class=\"colab-df-container\">\n",
              "      <div>\n",
              "<style scoped>\n",
              "    .dataframe tbody tr th:only-of-type {\n",
              "        vertical-align: middle;\n",
              "    }\n",
              "\n",
              "    .dataframe tbody tr th {\n",
              "        vertical-align: top;\n",
              "    }\n",
              "\n",
              "    .dataframe thead th {\n",
              "        text-align: right;\n",
              "    }\n",
              "</style>\n",
              "<table border=\"1\" class=\"dataframe\">\n",
              "  <thead>\n",
              "    <tr style=\"text-align: right;\">\n",
              "      <th></th>\n",
              "      <th>type</th>\n",
              "      <th>type_index</th>\n",
              "      <th>posts</th>\n",
              "      <th>tokenized_cleantexts</th>\n",
              "    </tr>\n",
              "  </thead>\n",
              "  <tbody>\n",
              "    <tr>\n",
              "      <th>0</th>\n",
              "      <td>INFJ</td>\n",
              "      <td>8</td>\n",
              "      <td>moment sportscenter top ten play prankswhat li...</td>\n",
              "      <td>[moment, sportscenter, top, ten, play, pranksw...</td>\n",
              "    </tr>\n",
              "    <tr>\n",
              "      <th>1</th>\n",
              "      <td>ENTP</td>\n",
              "      <td>3</td>\n",
              "      <td>im finding lack post alarmingsex boring positi...</td>\n",
              "      <td>[im, finding, lack, post, alarmingsex, boring,...</td>\n",
              "    </tr>\n",
              "    <tr>\n",
              "      <th>2</th>\n",
              "      <td>INTP</td>\n",
              "      <td>11</td>\n",
              "      <td>good one course say know thats blessing cursed...</td>\n",
              "      <td>[good, one, course, say, know, thats, blessing...</td>\n",
              "    </tr>\n",
              "    <tr>\n",
              "      <th>3</th>\n",
              "      <td>INTJ</td>\n",
              "      <td>10</td>\n",
              "      <td>dear enjoyed conversation day esoteric gabbing...</td>\n",
              "      <td>[dear, enjoyed, conversation, day, esoteric, g...</td>\n",
              "    </tr>\n",
              "    <tr>\n",
              "      <th>4</th>\n",
              "      <td>ENTJ</td>\n",
              "      <td>2</td>\n",
              "      <td>youre firedthats another silly misconception a...</td>\n",
              "      <td>[youre, firedthats, another, silly, misconcept...</td>\n",
              "    </tr>\n",
              "    <tr>\n",
              "      <th>...</th>\n",
              "      <td>...</td>\n",
              "      <td>...</td>\n",
              "      <td>...</td>\n",
              "      <td>...</td>\n",
              "    </tr>\n",
              "    <tr>\n",
              "      <th>8670</th>\n",
              "      <td>ISFP</td>\n",
              "      <td>13</td>\n",
              "      <td>always think cat doms reason website become ne...</td>\n",
              "      <td>[always, think, cat, doms, reason, website, be...</td>\n",
              "    </tr>\n",
              "    <tr>\n",
              "      <th>8671</th>\n",
              "      <td>ENFP</td>\n",
              "      <td>1</td>\n",
              "      <td>soif thread already exists someplace else heck...</td>\n",
              "      <td>[soif, thread, already, exists, someplace, els...</td>\n",
              "    </tr>\n",
              "    <tr>\n",
              "      <th>8672</th>\n",
              "      <td>INTP</td>\n",
              "      <td>11</td>\n",
              "      <td>many question thing would take purple pill pic...</td>\n",
              "      <td>[many, question, thing, would, take, purple, p...</td>\n",
              "    </tr>\n",
              "    <tr>\n",
              "      <th>8673</th>\n",
              "      <td>INFP</td>\n",
              "      <td>9</td>\n",
              "      <td>conflicted right come wanting child honestly m...</td>\n",
              "      <td>[conflicted, right, come, wanting, child, hone...</td>\n",
              "    </tr>\n",
              "    <tr>\n",
              "      <th>8674</th>\n",
              "      <td>INFP</td>\n",
              "      <td>9</td>\n",
              "      <td>long since personalitycafe although doesnt see...</td>\n",
              "      <td>[long, since, personalitycafe, although, doesn...</td>\n",
              "    </tr>\n",
              "  </tbody>\n",
              "</table>\n",
              "<p>8675 rows × 4 columns</p>\n",
              "</div>\n",
              "      <button class=\"colab-df-convert\" onclick=\"convertToInteractive('df-e94ebf0e-ca95-4684-937a-99a3a9f175a7')\"\n",
              "              title=\"Convert this dataframe to an interactive table.\"\n",
              "              style=\"display:none;\">\n",
              "        \n",
              "  <svg xmlns=\"http://www.w3.org/2000/svg\" height=\"24px\"viewBox=\"0 0 24 24\"\n",
              "       width=\"24px\">\n",
              "    <path d=\"M0 0h24v24H0V0z\" fill=\"none\"/>\n",
              "    <path d=\"M18.56 5.44l.94 2.06.94-2.06 2.06-.94-2.06-.94-.94-2.06-.94 2.06-2.06.94zm-11 1L8.5 8.5l.94-2.06 2.06-.94-2.06-.94L8.5 2.5l-.94 2.06-2.06.94zm10 10l.94 2.06.94-2.06 2.06-.94-2.06-.94-.94-2.06-.94 2.06-2.06.94z\"/><path d=\"M17.41 7.96l-1.37-1.37c-.4-.4-.92-.59-1.43-.59-.52 0-1.04.2-1.43.59L10.3 9.45l-7.72 7.72c-.78.78-.78 2.05 0 2.83L4 21.41c.39.39.9.59 1.41.59.51 0 1.02-.2 1.41-.59l7.78-7.78 2.81-2.81c.8-.78.8-2.07 0-2.86zM5.41 20L4 18.59l7.72-7.72 1.47 1.35L5.41 20z\"/>\n",
              "  </svg>\n",
              "      </button>\n",
              "      \n",
              "  <style>\n",
              "    .colab-df-container {\n",
              "      display:flex;\n",
              "      flex-wrap:wrap;\n",
              "      gap: 12px;\n",
              "    }\n",
              "\n",
              "    .colab-df-convert {\n",
              "      background-color: #E8F0FE;\n",
              "      border: none;\n",
              "      border-radius: 50%;\n",
              "      cursor: pointer;\n",
              "      display: none;\n",
              "      fill: #1967D2;\n",
              "      height: 32px;\n",
              "      padding: 0 0 0 0;\n",
              "      width: 32px;\n",
              "    }\n",
              "\n",
              "    .colab-df-convert:hover {\n",
              "      background-color: #E2EBFA;\n",
              "      box-shadow: 0px 1px 2px rgba(60, 64, 67, 0.3), 0px 1px 3px 1px rgba(60, 64, 67, 0.15);\n",
              "      fill: #174EA6;\n",
              "    }\n",
              "\n",
              "    [theme=dark] .colab-df-convert {\n",
              "      background-color: #3B4455;\n",
              "      fill: #D2E3FC;\n",
              "    }\n",
              "\n",
              "    [theme=dark] .colab-df-convert:hover {\n",
              "      background-color: #434B5C;\n",
              "      box-shadow: 0px 1px 3px 1px rgba(0, 0, 0, 0.15);\n",
              "      filter: drop-shadow(0px 1px 2px rgba(0, 0, 0, 0.3));\n",
              "      fill: #FFFFFF;\n",
              "    }\n",
              "  </style>\n",
              "\n",
              "      <script>\n",
              "        const buttonEl =\n",
              "          document.querySelector('#df-e94ebf0e-ca95-4684-937a-99a3a9f175a7 button.colab-df-convert');\n",
              "        buttonEl.style.display =\n",
              "          google.colab.kernel.accessAllowed ? 'block' : 'none';\n",
              "\n",
              "        async function convertToInteractive(key) {\n",
              "          const element = document.querySelector('#df-e94ebf0e-ca95-4684-937a-99a3a9f175a7');\n",
              "          const dataTable =\n",
              "            await google.colab.kernel.invokeFunction('convertToInteractive',\n",
              "                                                     [key], {});\n",
              "          if (!dataTable) return;\n",
              "\n",
              "          const docLinkHtml = 'Like what you see? Visit the ' +\n",
              "            '<a target=\"_blank\" href=https://colab.research.google.com/notebooks/data_table.ipynb>data table notebook</a>'\n",
              "            + ' to learn more about interactive tables.';\n",
              "          element.innerHTML = '';\n",
              "          dataTable['output_type'] = 'display_data';\n",
              "          await google.colab.output.renderOutput(dataTable, element);\n",
              "          const docLink = document.createElement('div');\n",
              "          docLink.innerHTML = docLinkHtml;\n",
              "          element.appendChild(docLink);\n",
              "        }\n",
              "      </script>\n",
              "    </div>\n",
              "  </div>\n",
              "  "
            ]
          },
          "metadata": {},
          "execution_count": 10
        }
      ],
      "source": [
        "df"
      ]
    },
    {
      "cell_type": "code",
      "execution_count": 11,
      "metadata": {
        "id": "rSypLhOByBbr",
        "colab": {
          "base_uri": "https://localhost:8080/"
        },
        "outputId": "4de6423a-14b4-4864-bc04-257ee266f810"
      },
      "outputs": [
        {
          "output_type": "stream",
          "name": "stdout",
          "text": [
            "type_index              542.1875\n",
            "posts                   542.1875\n",
            "tokenized_cleantexts    542.1875\n",
            "dtype: float64\n",
            "      type_index  posts  tokenized_cleantexts\n",
            "type                                         \n",
            "ENFJ         190    190                   190\n",
            "ENFP         675    675                   675\n",
            "ENTJ         231    231                   231\n",
            "ENTP         685    685                   685\n",
            "ESFJ          42     42                    42\n",
            "ESFP          48     48                    48\n",
            "ESTJ          39     39                    39\n",
            "ESTP          89     89                    89\n",
            "INFJ        1470   1470                  1470\n",
            "INFP        1832   1832                  1832\n",
            "INTJ        1091   1091                  1091\n",
            "INTP        1304   1304                  1304\n",
            "ISFJ         166    166                   166\n",
            "ISFP         271    271                   271\n",
            "ISTJ         205    205                   205\n",
            "ISTP         337    337                   337\n"
          ]
        }
      ],
      "source": [
        "#Shows posts by group, we can see that the distribution is unbalanced\n",
        "#ESTJ has the lowest number of posts which is 39\n",
        "print(df.groupby(['type']).count().mean())\n",
        "print(df.groupby(['type']).count())"
      ]
    },
    {
      "cell_type": "code",
      "execution_count": 12,
      "metadata": {
        "id": "hmcYYh33sWY_"
      },
      "outputs": [],
      "source": [
        "temp_list=[]\n",
        "for i in df.type:\n",
        "  temp=[]\n",
        "  if i[0]=='I':\n",
        "    temp.append(1)\n",
        "  else:\n",
        "    temp.append(0)\n",
        "\n",
        "  if i[1]=='S':\n",
        "    temp.append(1)\n",
        "  else:\n",
        "    temp.append(0)\n",
        "\n",
        "  if i[2]=='T':\n",
        "    temp.append(1)\n",
        "  else:\n",
        "    temp.append(0)\n",
        "\n",
        "  if i[3]=='P':\n",
        "    temp.append(1)\n",
        "  else:\n",
        "    temp.append(0)\n",
        "\n",
        "  temp_list.append(temp)"
      ]
    },
    {
      "cell_type": "code",
      "execution_count": 13,
      "metadata": {
        "id": "jeA_1eZ1w1NW"
      },
      "outputs": [],
      "source": [
        "TempDF=pd.DataFrame(temp_list)\n",
        "TempDF.columns=['I/E','S/N','T/F','P/J']\n",
        "final_df = pd.concat([df, TempDF], axis=1)"
      ]
    },
    {
      "cell_type": "code",
      "execution_count": 14,
      "metadata": {
        "id": "hRKaTgc6zCoe",
        "colab": {
          "base_uri": "https://localhost:8080/",
          "height": 206
        },
        "outputId": "bdb142d4-7eb0-4c40-e53e-84691c6b810a"
      },
      "outputs": [
        {
          "output_type": "execute_result",
          "data": {
            "text/plain": [
              "   type  type_index                                              posts  \\\n",
              "0  INFJ           8  moment sportscenter top ten play prankswhat li...   \n",
              "1  ENTP           3  im finding lack post alarmingsex boring positi...   \n",
              "2  INTP          11  good one course say know thats blessing cursed...   \n",
              "3  INTJ          10  dear enjoyed conversation day esoteric gabbing...   \n",
              "4  ENTJ           2  youre firedthats another silly misconception a...   \n",
              "\n",
              "                                tokenized_cleantexts  I/E  S/N  T/F  P/J  \n",
              "0  [moment, sportscenter, top, ten, play, pranksw...    1    0    0    0  \n",
              "1  [im, finding, lack, post, alarmingsex, boring,...    0    0    1    1  \n",
              "2  [good, one, course, say, know, thats, blessing...    1    0    1    1  \n",
              "3  [dear, enjoyed, conversation, day, esoteric, g...    1    0    1    0  \n",
              "4  [youre, firedthats, another, silly, misconcept...    0    0    1    0  "
            ],
            "text/html": [
              "\n",
              "  <div id=\"df-407a3810-57a5-4b9b-857d-e31a82123269\">\n",
              "    <div class=\"colab-df-container\">\n",
              "      <div>\n",
              "<style scoped>\n",
              "    .dataframe tbody tr th:only-of-type {\n",
              "        vertical-align: middle;\n",
              "    }\n",
              "\n",
              "    .dataframe tbody tr th {\n",
              "        vertical-align: top;\n",
              "    }\n",
              "\n",
              "    .dataframe thead th {\n",
              "        text-align: right;\n",
              "    }\n",
              "</style>\n",
              "<table border=\"1\" class=\"dataframe\">\n",
              "  <thead>\n",
              "    <tr style=\"text-align: right;\">\n",
              "      <th></th>\n",
              "      <th>type</th>\n",
              "      <th>type_index</th>\n",
              "      <th>posts</th>\n",
              "      <th>tokenized_cleantexts</th>\n",
              "      <th>I/E</th>\n",
              "      <th>S/N</th>\n",
              "      <th>T/F</th>\n",
              "      <th>P/J</th>\n",
              "    </tr>\n",
              "  </thead>\n",
              "  <tbody>\n",
              "    <tr>\n",
              "      <th>0</th>\n",
              "      <td>INFJ</td>\n",
              "      <td>8</td>\n",
              "      <td>moment sportscenter top ten play prankswhat li...</td>\n",
              "      <td>[moment, sportscenter, top, ten, play, pranksw...</td>\n",
              "      <td>1</td>\n",
              "      <td>0</td>\n",
              "      <td>0</td>\n",
              "      <td>0</td>\n",
              "    </tr>\n",
              "    <tr>\n",
              "      <th>1</th>\n",
              "      <td>ENTP</td>\n",
              "      <td>3</td>\n",
              "      <td>im finding lack post alarmingsex boring positi...</td>\n",
              "      <td>[im, finding, lack, post, alarmingsex, boring,...</td>\n",
              "      <td>0</td>\n",
              "      <td>0</td>\n",
              "      <td>1</td>\n",
              "      <td>1</td>\n",
              "    </tr>\n",
              "    <tr>\n",
              "      <th>2</th>\n",
              "      <td>INTP</td>\n",
              "      <td>11</td>\n",
              "      <td>good one course say know thats blessing cursed...</td>\n",
              "      <td>[good, one, course, say, know, thats, blessing...</td>\n",
              "      <td>1</td>\n",
              "      <td>0</td>\n",
              "      <td>1</td>\n",
              "      <td>1</td>\n",
              "    </tr>\n",
              "    <tr>\n",
              "      <th>3</th>\n",
              "      <td>INTJ</td>\n",
              "      <td>10</td>\n",
              "      <td>dear enjoyed conversation day esoteric gabbing...</td>\n",
              "      <td>[dear, enjoyed, conversation, day, esoteric, g...</td>\n",
              "      <td>1</td>\n",
              "      <td>0</td>\n",
              "      <td>1</td>\n",
              "      <td>0</td>\n",
              "    </tr>\n",
              "    <tr>\n",
              "      <th>4</th>\n",
              "      <td>ENTJ</td>\n",
              "      <td>2</td>\n",
              "      <td>youre firedthats another silly misconception a...</td>\n",
              "      <td>[youre, firedthats, another, silly, misconcept...</td>\n",
              "      <td>0</td>\n",
              "      <td>0</td>\n",
              "      <td>1</td>\n",
              "      <td>0</td>\n",
              "    </tr>\n",
              "  </tbody>\n",
              "</table>\n",
              "</div>\n",
              "      <button class=\"colab-df-convert\" onclick=\"convertToInteractive('df-407a3810-57a5-4b9b-857d-e31a82123269')\"\n",
              "              title=\"Convert this dataframe to an interactive table.\"\n",
              "              style=\"display:none;\">\n",
              "        \n",
              "  <svg xmlns=\"http://www.w3.org/2000/svg\" height=\"24px\"viewBox=\"0 0 24 24\"\n",
              "       width=\"24px\">\n",
              "    <path d=\"M0 0h24v24H0V0z\" fill=\"none\"/>\n",
              "    <path d=\"M18.56 5.44l.94 2.06.94-2.06 2.06-.94-2.06-.94-.94-2.06-.94 2.06-2.06.94zm-11 1L8.5 8.5l.94-2.06 2.06-.94-2.06-.94L8.5 2.5l-.94 2.06-2.06.94zm10 10l.94 2.06.94-2.06 2.06-.94-2.06-.94-.94-2.06-.94 2.06-2.06.94z\"/><path d=\"M17.41 7.96l-1.37-1.37c-.4-.4-.92-.59-1.43-.59-.52 0-1.04.2-1.43.59L10.3 9.45l-7.72 7.72c-.78.78-.78 2.05 0 2.83L4 21.41c.39.39.9.59 1.41.59.51 0 1.02-.2 1.41-.59l7.78-7.78 2.81-2.81c.8-.78.8-2.07 0-2.86zM5.41 20L4 18.59l7.72-7.72 1.47 1.35L5.41 20z\"/>\n",
              "  </svg>\n",
              "      </button>\n",
              "      \n",
              "  <style>\n",
              "    .colab-df-container {\n",
              "      display:flex;\n",
              "      flex-wrap:wrap;\n",
              "      gap: 12px;\n",
              "    }\n",
              "\n",
              "    .colab-df-convert {\n",
              "      background-color: #E8F0FE;\n",
              "      border: none;\n",
              "      border-radius: 50%;\n",
              "      cursor: pointer;\n",
              "      display: none;\n",
              "      fill: #1967D2;\n",
              "      height: 32px;\n",
              "      padding: 0 0 0 0;\n",
              "      width: 32px;\n",
              "    }\n",
              "\n",
              "    .colab-df-convert:hover {\n",
              "      background-color: #E2EBFA;\n",
              "      box-shadow: 0px 1px 2px rgba(60, 64, 67, 0.3), 0px 1px 3px 1px rgba(60, 64, 67, 0.15);\n",
              "      fill: #174EA6;\n",
              "    }\n",
              "\n",
              "    [theme=dark] .colab-df-convert {\n",
              "      background-color: #3B4455;\n",
              "      fill: #D2E3FC;\n",
              "    }\n",
              "\n",
              "    [theme=dark] .colab-df-convert:hover {\n",
              "      background-color: #434B5C;\n",
              "      box-shadow: 0px 1px 3px 1px rgba(0, 0, 0, 0.15);\n",
              "      filter: drop-shadow(0px 1px 2px rgba(0, 0, 0, 0.3));\n",
              "      fill: #FFFFFF;\n",
              "    }\n",
              "  </style>\n",
              "\n",
              "      <script>\n",
              "        const buttonEl =\n",
              "          document.querySelector('#df-407a3810-57a5-4b9b-857d-e31a82123269 button.colab-df-convert');\n",
              "        buttonEl.style.display =\n",
              "          google.colab.kernel.accessAllowed ? 'block' : 'none';\n",
              "\n",
              "        async function convertToInteractive(key) {\n",
              "          const element = document.querySelector('#df-407a3810-57a5-4b9b-857d-e31a82123269');\n",
              "          const dataTable =\n",
              "            await google.colab.kernel.invokeFunction('convertToInteractive',\n",
              "                                                     [key], {});\n",
              "          if (!dataTable) return;\n",
              "\n",
              "          const docLinkHtml = 'Like what you see? Visit the ' +\n",
              "            '<a target=\"_blank\" href=https://colab.research.google.com/notebooks/data_table.ipynb>data table notebook</a>'\n",
              "            + ' to learn more about interactive tables.';\n",
              "          element.innerHTML = '';\n",
              "          dataTable['output_type'] = 'display_data';\n",
              "          await google.colab.output.renderOutput(dataTable, element);\n",
              "          const docLink = document.createElement('div');\n",
              "          docLink.innerHTML = docLinkHtml;\n",
              "          element.appendChild(docLink);\n",
              "        }\n",
              "      </script>\n",
              "    </div>\n",
              "  </div>\n",
              "  "
            ]
          },
          "metadata": {},
          "execution_count": 14
        }
      ],
      "source": [
        "final_df.head()"
      ]
    },
    {
      "cell_type": "code",
      "source": [
        "# Stratify split to ensure equal distribution of data\n",
        "from sklearn.model_selection import train_test_split\n",
        "train_data,test_data=train_test_split(final_df,test_size=0.2,random_state=42,stratify=final_df.type)"
      ],
      "metadata": {
        "id": "6rGfHbuuPWJO"
      },
      "execution_count": 22,
      "outputs": []
    },
    {
      "cell_type": "code",
      "source": [
        "class Lemmatizer(object):\n",
        "    def __init__(self):\n",
        "        self.lemmatizer = WordNetLemmatizer()\n",
        "    def __call__(self, sentence):\n",
        "        return [self.lemmatizer.lemmatize(word) for word in sentence.split() if len(word)>2]"
      ],
      "metadata": {
        "id": "c-nG_-jbO_k0"
      },
      "execution_count": 23,
      "outputs": []
    },
    {
      "cell_type": "code",
      "source": [
        "from sklearn.preprocessing import LabelEncoder\n",
        "from sklearn.feature_extraction.text import TfidfVectorizer\n",
        "from nltk.stem import WordNetLemmatizer\n",
        "vectorizer=TfidfVectorizer( max_features=5000,stop_words='english',tokenizer=Lemmatizer())\n",
        "vectorizer.fit(train_data.posts)"
      ],
      "metadata": {
        "colab": {
          "base_uri": "https://localhost:8080/"
        },
        "id": "gyuSH6NEOgUY",
        "outputId": "bb244dfc-130c-455e-ced4-2cd023fcb1f3"
      },
      "execution_count": 24,
      "outputs": [
        {
          "output_type": "stream",
          "name": "stderr",
          "text": [
            "/usr/local/lib/python3.8/dist-packages/sklearn/feature_extraction/text.py:516: UserWarning: The parameter 'token_pattern' will not be used since 'tokenizer' is not None'\n",
            "  warnings.warn(\n",
            "/usr/local/lib/python3.8/dist-packages/sklearn/feature_extraction/text.py:396: UserWarning: Your stop_words may be inconsistent with your preprocessing. Tokenizing the stop words generated tokens ['ha', 'le', 'wa'] not in stop_words.\n",
            "  warnings.warn(\n"
          ]
        },
        {
          "output_type": "execute_result",
          "data": {
            "text/plain": [
              "TfidfVectorizer(max_features=5000, stop_words='english',\n",
              "                tokenizer=<__main__.Lemmatizer object at 0x7f5d6d4e5640>)"
            ]
          },
          "metadata": {},
          "execution_count": 24
        }
      ]
    },
    {
      "cell_type": "code",
      "source": [
        "train_post=vectorizer.transform(train_data.posts).toarray()\n",
        "test_post=vectorizer.transform(test_data.posts).toarray()"
      ],
      "metadata": {
        "id": "EGwpoHsCPEFR"
      },
      "execution_count": 25,
      "outputs": []
    },
    {
      "cell_type": "code",
      "source": [
        "train_post.shape"
      ],
      "metadata": {
        "colab": {
          "base_uri": "https://localhost:8080/"
        },
        "id": "KLrhgUDMPyM7",
        "outputId": "61c359bb-f07d-4313-ce5a-b77610347f0a"
      },
      "execution_count": 26,
      "outputs": [
        {
          "output_type": "execute_result",
          "data": {
            "text/plain": [
              "(6940, 5000)"
            ]
          },
          "metadata": {},
          "execution_count": 26
        }
      ]
    },
    {
      "cell_type": "code",
      "source": [
        "train_targetIE=train_data['I/E']\n",
        "test_targetIE=test_data['I/E']\n",
        "train_targetSN=train_data['S/N']\n",
        "test_targetSN=test_data['S/N']\n",
        "train_targetTF=train_data['T/F']\n",
        "test_targetTF=test_data['T/F']\n",
        "train_targetPJ=train_data['P/J']\n",
        "test_targetPJ=test_data['P/J']"
      ],
      "metadata": {
        "id": "jj5a1NCmPy3j"
      },
      "execution_count": 29,
      "outputs": []
    },
    {
      "cell_type": "code",
      "source": [
        "#machine learning model_pipeline\n",
        "from sklearn.linear_model import LogisticRegression\n",
        "from sklearn.svm import SVC\n",
        "from sklearn.neighbors import KNeighborsClassifier\n",
        "from sklearn.tree import DecisionTreeClassifier\n",
        "from sklearn.ensemble import RandomForestClassifier\n",
        "from sklearn.naive_bayes import GaussianNB\n",
        "model_pipeline = []\n",
        "model_pipeline.append(LogisticRegression(solver='liblinear'))\n",
        "model_pipeline.append(SVC())\n",
        "model_pipeline.append(KNeighborsClassifier())\n",
        "model_pipeline.append(DecisionTreeClassifier())\n",
        "model_pipeline.append(RandomForestClassifier())\n",
        "model_pipeline.append(GaussianNB())"
      ],
      "metadata": {
        "id": "LJMTYZcdM1Tb"
      },
      "execution_count": 36,
      "outputs": []
    },
    {
      "cell_type": "markdown",
      "source": [
        "# I/E classification"
      ],
      "metadata": {
        "id": "eUCtkdIVTsX9"
      }
    },
    {
      "cell_type": "code",
      "source": [
        "from sklearn import metrics\n",
        "from sklearn.metrics import classification_report\n",
        "from sklearn.metrics import confusion_matrix\n",
        "model_list=['Logistic Regression','SVW','KNN','Decision Tree','Random Forest','Naive Bayes']\n",
        "acc_IElist=[]\n",
        "auc_IElist = []\n",
        "cm_IElist=[]\n",
        "for model in model_pipeline:\n",
        "  model.fit(train_post, train_targetIE)\n",
        "  y_afterpred = model.predict(test_post)\n",
        "  acc_IElist.append(metrics.accuracy_score(test_targetIE, y_afterpred))\n",
        "  fpr, tpr,thresholds = metrics.roc_curve(test_targetIE,y_afterpred)\n",
        "  auc_IElist.append(round(metrics.auc(fpr, tpr),2))\n",
        "  cm_IElist.append(confusion_matrix(test_targetIE, y_afterpred))"
      ],
      "metadata": {
        "id": "McXyk4FnMp82"
      },
      "execution_count": 37,
      "outputs": []
    },
    {
      "cell_type": "code",
      "source": [
        "#plot confusion matrix\n",
        "fig = plt.figure(figsize = ( 20,10))\n",
        "for i in range( len(cm_IElist)) :\n",
        "  cm = cm_IElist[i]\n",
        "  model = model_list[i]\n",
        "  sub = fig.add_subplot(2,3,i+1).set_title(model)\n",
        "  cm_plot = sns.heatmap(cm,annot=True,cmap = \"Blues_r\",fmt='g')\n",
        "  cm_plot.set_xlabel('Predicted Values')\n",
        "  cm_plot.set_ylabel('Actual Values')\n"
      ],
      "metadata": {
        "colab": {
          "base_uri": "https://localhost:8080/",
          "height": 621
        },
        "id": "9fK_fzt8St2D",
        "outputId": "7ee82f2f-934d-46cf-faac-1c0890cc2ec2"
      },
      "execution_count": 38,
      "outputs": [
        {
          "output_type": "display_data",
          "data": {
            "text/plain": [
              "<Figure size 1440x720 with 12 Axes>"
            ],
            "image/png": "[encoded data removed]"
          },
          "metadata": {
            "needs_background": "light"
          }
        }
      ]
    },
    {
      "cell_type": "code",
      "source": [
        "#accuracy and AUC\n",
        "resultIE_df = pd.DataFrame({'Model' :model_list,'Accuracy' : acc_IElist,'AUC' : auc_IElist})\n",
        "resultIE_df"
      ],
      "metadata": {
        "colab": {
          "base_uri": "https://localhost:8080/",
          "height": 238
        },
        "id": "XnNRSqbLS3yl",
        "outputId": "36c6eb1e-33b4-4621-cce9-e49fd57c3a1d"
      },
      "execution_count": 39,
      "outputs": [
        {
          "output_type": "execute_result",
          "data": {
            "text/plain": [
              "                 Model  Accuracy   AUC\n",
              "0  Logistic Regression  0.806340  0.61\n",
              "1                  SVW  0.808646  0.61\n",
              "2                  KNN  0.770029  0.55\n",
              "3        Decision Tree  0.718732  0.60\n",
              "4        Random Forest  0.779827  0.53\n",
              "5          Naive Bayes  0.701441  0.63"
            ],
            "text/html": [
              "\n",
              "  <div id=\"df-20d17989-5864-48d5-b411-6c2c199f3eb1\">\n",
              "    <div class=\"colab-df-container\">\n",
              "      <div>\n",
              "<style scoped>\n",
              "    .dataframe tbody tr th:only-of-type {\n",
              "        vertical-align: middle;\n",
              "    }\n",
              "\n",
              "    .dataframe tbody tr th {\n",
              "        vertical-align: top;\n",
              "    }\n",
              "\n",
              "    .dataframe thead th {\n",
              "        text-align: right;\n",
              "    }\n",
              "</style>\n",
              "<table border=\"1\" class=\"dataframe\">\n",
              "  <thead>\n",
              "    <tr style=\"text-align: right;\">\n",
              "      <th></th>\n",
              "      <th>Model</th>\n",
              "      <th>Accuracy</th>\n",
              "      <th>AUC</th>\n",
              "    </tr>\n",
              "  </thead>\n",
              "  <tbody>\n",
              "    <tr>\n",
              "      <th>0</th>\n",
              "      <td>Logistic Regression</td>\n",
              "      <td>0.806340</td>\n",
              "      <td>0.61</td>\n",
              "    </tr>\n",
              "    <tr>\n",
              "      <th>1</th>\n",
              "      <td>SVW</td>\n",
              "      <td>0.808646</td>\n",
              "      <td>0.61</td>\n",
              "    </tr>\n",
              "    <tr>\n",
              "      <th>2</th>\n",
              "      <td>KNN</td>\n",
              "      <td>0.770029</td>\n",
              "      <td>0.55</td>\n",
              "    </tr>\n",
              "    <tr>\n",
              "      <th>3</th>\n",
              "      <td>Decision Tree</td>\n",
              "      <td>0.718732</td>\n",
              "      <td>0.60</td>\n",
              "    </tr>\n",
              "    <tr>\n",
              "      <th>4</th>\n",
              "      <td>Random Forest</td>\n",
              "      <td>0.779827</td>\n",
              "      <td>0.53</td>\n",
              "    </tr>\n",
              "    <tr>\n",
              "      <th>5</th>\n",
              "      <td>Naive Bayes</td>\n",
              "      <td>0.701441</td>\n",
              "      <td>0.63</td>\n",
              "    </tr>\n",
              "  </tbody>\n",
              "</table>\n",
              "</div>\n",
              "      <button class=\"colab-df-convert\" onclick=\"convertToInteractive('df-20d17989-5864-48d5-b411-6c2c199f3eb1')\"\n",
              "              title=\"Convert this dataframe to an interactive table.\"\n",
              "              style=\"display:none;\">\n",
              "        \n",
              "  <svg xmlns=\"http://www.w3.org/2000/svg\" height=\"24px\"viewBox=\"0 0 24 24\"\n",
              "       width=\"24px\">\n",
              "    <path d=\"M0 0h24v24H0V0z\" fill=\"none\"/>\n",
              "    <path d=\"M18.56 5.44l.94 2.06.94-2.06 2.06-.94-2.06-.94-.94-2.06-.94 2.06-2.06.94zm-11 1L8.5 8.5l.94-2.06 2.06-.94-2.06-.94L8.5 2.5l-.94 2.06-2.06.94zm10 10l.94 2.06.94-2.06 2.06-.94-2.06-.94-.94-2.06-.94 2.06-2.06.94z\"/><path d=\"M17.41 7.96l-1.37-1.37c-.4-.4-.92-.59-1.43-.59-.52 0-1.04.2-1.43.59L10.3 9.45l-7.72 7.72c-.78.78-.78 2.05 0 2.83L4 21.41c.39.39.9.59 1.41.59.51 0 1.02-.2 1.41-.59l7.78-7.78 2.81-2.81c.8-.78.8-2.07 0-2.86zM5.41 20L4 18.59l7.72-7.72 1.47 1.35L5.41 20z\"/>\n",
              "  </svg>\n",
              "      </button>\n",
              "      \n",
              "  <style>\n",
              "    .colab-df-container {\n",
              "      display:flex;\n",
              "      flex-wrap:wrap;\n",
              "      gap: 12px;\n",
              "    }\n",
              "\n",
              "    .colab-df-convert {\n",
              "      background-color: #E8F0FE;\n",
              "      border: none;\n",
              "      border-radius: 50%;\n",
              "      cursor: pointer;\n",
              "      display: none;\n",
              "      fill: #1967D2;\n",
              "      height: 32px;\n",
              "      padding: 0 0 0 0;\n",
              "      width: 32px;\n",
              "    }\n",
              "\n",
              "    .colab-df-convert:hover {\n",
              "      background-color: #E2EBFA;\n",
              "      box-shadow: 0px 1px 2px rgba(60, 64, 67, 0.3), 0px 1px 3px 1px rgba(60, 64, 67, 0.15);\n",
              "      fill: #174EA6;\n",
              "    }\n",
              "\n",
              "    [theme=dark] .colab-df-convert {\n",
              "      background-color: #3B4455;\n",
              "      fill: #D2E3FC;\n",
              "    }\n",
              "\n",
              "    [theme=dark] .colab-df-convert:hover {\n",
              "      background-color: #434B5C;\n",
              "      box-shadow: 0px 1px 3px 1px rgba(0, 0, 0, 0.15);\n",
              "      filter: drop-shadow(0px 1px 2px rgba(0, 0, 0, 0.3));\n",
              "      fill: #FFFFFF;\n",
              "    }\n",
              "  </style>\n",
              "\n",
              "      <script>\n",
              "        const buttonEl =\n",
              "          document.querySelector('#df-20d17989-5864-48d5-b411-6c2c199f3eb1 button.colab-df-convert');\n",
              "        buttonEl.style.display =\n",
              "          google.colab.kernel.accessAllowed ? 'block' : 'none';\n",
              "\n",
              "        async function convertToInteractive(key) {\n",
              "          const element = document.querySelector('#df-20d17989-5864-48d5-b411-6c2c199f3eb1');\n",
              "          const dataTable =\n",
              "            await google.colab.kernel.invokeFunction('convertToInteractive',\n",
              "                                                     [key], {});\n",
              "          if (!dataTable) return;\n",
              "\n",
              "          const docLinkHtml = 'Like what you see? Visit the ' +\n",
              "            '<a target=\"_blank\" href=https://colab.research.google.com/notebooks/data_table.ipynb>data table notebook</a>'\n",
              "            + ' to learn more about interactive tables.';\n",
              "          element.innerHTML = '';\n",
              "          dataTable['output_type'] = 'display_data';\n",
              "          await google.colab.output.renderOutput(dataTable, element);\n",
              "          const docLink = document.createElement('div');\n",
              "          docLink.innerHTML = docLinkHtml;\n",
              "          element.appendChild(docLink);\n",
              "        }\n",
              "      </script>\n",
              "    </div>\n",
              "  </div>\n",
              "  "
            ]
          },
          "metadata": {},
          "execution_count": 39
        }
      ]
    },
    {
      "cell_type": "markdown",
      "source": [
        "# S/N Classification"
      ],
      "metadata": {
        "id": "x-JkthnBTvtG"
      }
    },
    {
      "cell_type": "code",
      "source": [
        "acc_SNlist=[]\n",
        "auc_SNlist = []\n",
        "cm_SNlist=[]\n",
        "for model in model_pipeline:\n",
        "  model.fit(train_post, train_targetSN)\n",
        "  y_afterpred = model.predict(test_post)\n",
        "  acc_SNlist.append(metrics.accuracy_score(test_targetSN, y_afterpred))\n",
        "  fpr, tpr,thresholds = metrics.roc_curve(test_targetSN,y_afterpred)\n",
        "  auc_SNlist.append(round(metrics.auc(fpr, tpr),2))\n",
        "  cm_SNlist.append(confusion_matrix(test_targetSN, y_afterpred))"
      ],
      "metadata": {
        "id": "IJ0wvcXeT2m6"
      },
      "execution_count": 40,
      "outputs": []
    },
    {
      "cell_type": "code",
      "source": [
        "#plot confusion matrix\n",
        "fig = plt.figure(figsize = ( 20,10))\n",
        "for i in range( len(cm_SNlist)) :\n",
        "  cm = cm_SNlist[i]\n",
        "  model = model_list[i]\n",
        "  sub = fig.add_subplot(2,3,i+1).set_title(model)\n",
        "  cm_plot = sns.heatmap(cm,annot=True,cmap = \"Blues_r\",fmt='g')\n",
        "  cm_plot.set_xlabel('Predicted Values')\n",
        "  cm_plot.set_ylabel('Actual Values')"
      ],
      "metadata": {
        "colab": {
          "base_uri": "https://localhost:8080/",
          "height": 621
        },
        "id": "_aWwsWO5UL0x",
        "outputId": "cc707e5d-a07f-4334-943b-236f79d82f2b"
      },
      "execution_count": 41,
      "outputs": [
        {
          "output_type": "display_data",
          "data": {
            "text/plain": [
              "<Figure size 1440x720 with 12 Axes>"
            ],
            "image/png": "[encoded data removed]"
          },
          "metadata": {
            "needs_background": "light"
          }
        }
      ]
    },
    {
      "cell_type": "code",
      "source": [
        "#accuracy and AUC\n",
        "resultSN_df = pd.DataFrame({'Model' :model_list,'Accuracy' : acc_SNlist,'AUC' : auc_SNlist})\n",
        "resultSN_df"
      ],
      "metadata": {
        "colab": {
          "base_uri": "https://localhost:8080/",
          "height": 238
        },
        "id": "yZ3drUlQUR0X",
        "outputId": "b851ce0d-cf62-43af-c99d-d8c5c979d574"
      },
      "execution_count": 42,
      "outputs": [
        {
          "output_type": "execute_result",
          "data": {
            "text/plain": [
              "                 Model  Accuracy   AUC\n",
              "0  Logistic Regression  0.867435  0.53\n",
              "1                  SVW  0.868588  0.53\n",
              "2                  KNN  0.858790  0.52\n",
              "3        Decision Tree  0.808646  0.61\n",
              "4        Random Forest  0.861671  0.50\n",
              "5          Naive Bayes  0.760807  0.63"
            ],
            "text/html": [
              "\n",
              "  <div id=\"df-c059da90-6c9d-48b6-9ce0-2754a349b641\">\n",
              "    <div class=\"colab-df-container\">\n",
              "      <div>\n",
              "<style scoped>\n",
              "    .dataframe tbody tr th:only-of-type {\n",
              "        vertical-align: middle;\n",
              "    }\n",
              "\n",
              "    .dataframe tbody tr th {\n",
              "        vertical-align: top;\n",
              "    }\n",
              "\n",
              "    .dataframe thead th {\n",
              "        text-align: right;\n",
              "    }\n",
              "</style>\n",
              "<table border=\"1\" class=\"dataframe\">\n",
              "  <thead>\n",
              "    <tr style=\"text-align: right;\">\n",
              "      <th></th>\n",
              "      <th>Model</th>\n",
              "      <th>Accuracy</th>\n",
              "      <th>AUC</th>\n",
              "    </tr>\n",
              "  </thead>\n",
              "  <tbody>\n",
              "    <tr>\n",
              "      <th>0</th>\n",
              "      <td>Logistic Regression</td>\n",
              "      <td>0.867435</td>\n",
              "      <td>0.53</td>\n",
              "    </tr>\n",
              "    <tr>\n",
              "      <th>1</th>\n",
              "      <td>SVW</td>\n",
              "      <td>0.868588</td>\n",
              "      <td>0.53</td>\n",
              "    </tr>\n",
              "    <tr>\n",
              "      <th>2</th>\n",
              "      <td>KNN</td>\n",
              "      <td>0.858790</td>\n",
              "      <td>0.52</td>\n",
              "    </tr>\n",
              "    <tr>\n",
              "      <th>3</th>\n",
              "      <td>Decision Tree</td>\n",
              "      <td>0.808646</td>\n",
              "      <td>0.61</td>\n",
              "    </tr>\n",
              "    <tr>\n",
              "      <th>4</th>\n",
              "      <td>Random Forest</td>\n",
              "      <td>0.861671</td>\n",
              "      <td>0.50</td>\n",
              "    </tr>\n",
              "    <tr>\n",
              "      <th>5</th>\n",
              "      <td>Naive Bayes</td>\n",
              "      <td>0.760807</td>\n",
              "      <td>0.63</td>\n",
              "    </tr>\n",
              "  </tbody>\n",
              "</table>\n",
              "</div>\n",
              "      <button class=\"colab-df-convert\" onclick=\"convertToInteractive('df-c059da90-6c9d-48b6-9ce0-2754a349b641')\"\n",
              "              title=\"Convert this dataframe to an interactive table.\"\n",
              "              style=\"display:none;\">\n",
              "        \n",
              "  <svg xmlns=\"http://www.w3.org/2000/svg\" height=\"24px\"viewBox=\"0 0 24 24\"\n",
              "       width=\"24px\">\n",
              "    <path d=\"M0 0h24v24H0V0z\" fill=\"none\"/>\n",
              "    <path d=\"M18.56 5.44l.94 2.06.94-2.06 2.06-.94-2.06-.94-.94-2.06-.94 2.06-2.06.94zm-11 1L8.5 8.5l.94-2.06 2.06-.94-2.06-.94L8.5 2.5l-.94 2.06-2.06.94zm10 10l.94 2.06.94-2.06 2.06-.94-2.06-.94-.94-2.06-.94 2.06-2.06.94z\"/><path d=\"M17.41 7.96l-1.37-1.37c-.4-.4-.92-.59-1.43-.59-.52 0-1.04.2-1.43.59L10.3 9.45l-7.72 7.72c-.78.78-.78 2.05 0 2.83L4 21.41c.39.39.9.59 1.41.59.51 0 1.02-.2 1.41-.59l7.78-7.78 2.81-2.81c.8-.78.8-2.07 0-2.86zM5.41 20L4 18.59l7.72-7.72 1.47 1.35L5.41 20z\"/>\n",
              "  </svg>\n",
              "      </button>\n",
              "      \n",
              "  <style>\n",
              "    .colab-df-container {\n",
              "      display:flex;\n",
              "      flex-wrap:wrap;\n",
              "      gap: 12px;\n",
              "    }\n",
              "\n",
              "    .colab-df-convert {\n",
              "      background-color: #E8F0FE;\n",
              "      border: none;\n",
              "      border-radius: 50%;\n",
              "      cursor: pointer;\n",
              "      display: none;\n",
              "      fill: #1967D2;\n",
              "      height: 32px;\n",
              "      padding: 0 0 0 0;\n",
              "      width: 32px;\n",
              "    }\n",
              "\n",
              "    .colab-df-convert:hover {\n",
              "      background-color: #E2EBFA;\n",
              "      box-shadow: 0px 1px 2px rgba(60, 64, 67, 0.3), 0px 1px 3px 1px rgba(60, 64, 67, 0.15);\n",
              "      fill: #174EA6;\n",
              "    }\n",
              "\n",
              "    [theme=dark] .colab-df-convert {\n",
              "      background-color: #3B4455;\n",
              "      fill: #D2E3FC;\n",
              "    }\n",
              "\n",
              "    [theme=dark] .colab-df-convert:hover {\n",
              "      background-color: #434B5C;\n",
              "      box-shadow: 0px 1px 3px 1px rgba(0, 0, 0, 0.15);\n",
              "      filter: drop-shadow(0px 1px 2px rgba(0, 0, 0, 0.3));\n",
              "      fill: #FFFFFF;\n",
              "    }\n",
              "  </style>\n",
              "\n",
              "      <script>\n",
              "        const buttonEl =\n",
              "          document.querySelector('#df-c059da90-6c9d-48b6-9ce0-2754a349b641 button.colab-df-convert');\n",
              "        buttonEl.style.display =\n",
              "          google.colab.kernel.accessAllowed ? 'block' : 'none';\n",
              "\n",
              "        async function convertToInteractive(key) {\n",
              "          const element = document.querySelector('#df-c059da90-6c9d-48b6-9ce0-2754a349b641');\n",
              "          const dataTable =\n",
              "            await google.colab.kernel.invokeFunction('convertToInteractive',\n",
              "                                                     [key], {});\n",
              "          if (!dataTable) return;\n",
              "\n",
              "          const docLinkHtml = 'Like what you see? Visit the ' +\n",
              "            '<a target=\"_blank\" href=https://colab.research.google.com/notebooks/data_table.ipynb>data table notebook</a>'\n",
              "            + ' to learn more about interactive tables.';\n",
              "          element.innerHTML = '';\n",
              "          dataTable['output_type'] = 'display_data';\n",
              "          await google.colab.output.renderOutput(dataTable, element);\n",
              "          const docLink = document.createElement('div');\n",
              "          docLink.innerHTML = docLinkHtml;\n",
              "          element.appendChild(docLink);\n",
              "        }\n",
              "      </script>\n",
              "    </div>\n",
              "  </div>\n",
              "  "
            ]
          },
          "metadata": {},
          "execution_count": 42
        }
      ]
    },
    {
      "cell_type": "markdown",
      "source": [
        "# T/F Classification"
      ],
      "metadata": {
        "id": "yFH5Hny2T3QP"
      }
    },
    {
      "cell_type": "code",
      "source": [
        "acc_TFlist=[]\n",
        "auc_TFlist = []\n",
        "cm_TFlist=[]\n",
        "for model in model_pipeline:\n",
        "  model.fit(train_post, train_targetTF)\n",
        "  y_afterpred = model.predict(test_post)\n",
        "  acc_TFlist.append(metrics.accuracy_score(test_targetTF, y_afterpred))\n",
        "  fpr, tpr,thresholds = metrics.roc_curve(test_targetTF,y_afterpred)\n",
        "  auc_TFlist.append(round(metrics.auc(fpr, tpr),2))\n",
        "  cm_TFlist.append(confusion_matrix(test_targetTF, y_afterpred))"
      ],
      "metadata": {
        "id": "Q3VMGHUGUmMm"
      },
      "execution_count": 43,
      "outputs": []
    },
    {
      "cell_type": "code",
      "source": [
        "#plot confusion matrix\n",
        "fig = plt.figure(figsize = ( 20,10))\n",
        "for i in range( len(cm_TFlist)) :\n",
        "  cm = cm_TFlist[i]\n",
        "  model = model_list[i]\n",
        "  sub = fig.add_subplot(2,3,i+1).set_title(model)\n",
        "  cm_plot = sns.heatmap(cm,annot=True,cmap = \"Blues_r\",fmt='g')\n",
        "  cm_plot.set_xlabel('Predicted Values')\n",
        "  cm_plot.set_ylabel('Actual Values')"
      ],
      "metadata": {
        "colab": {
          "base_uri": "https://localhost:8080/",
          "height": 621
        },
        "id": "AHMe0SPDUmMn",
        "outputId": "912f6099-09e5-4de5-933e-a788e9d5a89a"
      },
      "execution_count": 44,
      "outputs": [
        {
          "output_type": "display_data",
          "data": {
            "text/plain": [
              "<Figure size 1440x720 with 12 Axes>"
            ],
            "image/png": "[encoded data removed]"
          },
          "metadata": {
            "needs_background": "light"
          }
        }
      ]
    },
    {
      "cell_type": "code",
      "source": [
        "#accuracy and AUC\n",
        "resultTF_df = pd.DataFrame({'Model' :model_list,'Accuracy' : acc_TFlist,'AUC' : auc_TFlist})\n",
        "resultTF_df"
      ],
      "metadata": {
        "colab": {
          "base_uri": "https://localhost:8080/",
          "height": 238
        },
        "id": "_ZhmuWOHUmMn",
        "outputId": "ea8fbecc-c783-4e4a-e16d-a10ab4a158d5"
      },
      "execution_count": 45,
      "outputs": [
        {
          "output_type": "execute_result",
          "data": {
            "text/plain": [
              "                 Model  Accuracy   AUC\n",
              "0  Logistic Regression  0.820749  0.82\n",
              "1                  SVW  0.813833  0.81\n",
              "2                  KNN  0.598847  0.57\n",
              "3        Decision Tree  0.653026  0.65\n",
              "4        Random Forest  0.764265  0.76\n",
              "5          Naive Bayes  0.737176  0.74"
            ],
            "text/html": [
              "\n",
              "  <div id=\"df-9c374cb7-df54-4dc4-b14a-2da28489d526\">\n",
              "    <div class=\"colab-df-container\">\n",
              "      <div>\n",
              "<style scoped>\n",
              "    .dataframe tbody tr th:only-of-type {\n",
              "        vertical-align: middle;\n",
              "    }\n",
              "\n",
              "    .dataframe tbody tr th {\n",
              "        vertical-align: top;\n",
              "    }\n",
              "\n",
              "    .dataframe thead th {\n",
              "        text-align: right;\n",
              "    }\n",
              "</style>\n",
              "<table border=\"1\" class=\"dataframe\">\n",
              "  <thead>\n",
              "    <tr style=\"text-align: right;\">\n",
              "      <th></th>\n",
              "      <th>Model</th>\n",
              "      <th>Accuracy</th>\n",
              "      <th>AUC</th>\n",
              "    </tr>\n",
              "  </thead>\n",
              "  <tbody>\n",
              "    <tr>\n",
              "      <th>0</th>\n",
              "      <td>Logistic Regression</td>\n",
              "      <td>0.820749</td>\n",
              "      <td>0.82</td>\n",
              "    </tr>\n",
              "    <tr>\n",
              "      <th>1</th>\n",
              "      <td>SVW</td>\n",
              "      <td>0.813833</td>\n",
              "      <td>0.81</td>\n",
              "    </tr>\n",
              "    <tr>\n",
              "      <th>2</th>\n",
              "      <td>KNN</td>\n",
              "      <td>0.598847</td>\n",
              "      <td>0.57</td>\n",
              "    </tr>\n",
              "    <tr>\n",
              "      <th>3</th>\n",
              "      <td>Decision Tree</td>\n",
              "      <td>0.653026</td>\n",
              "      <td>0.65</td>\n",
              "    </tr>\n",
              "    <tr>\n",
              "      <th>4</th>\n",
              "      <td>Random Forest</td>\n",
              "      <td>0.764265</td>\n",
              "      <td>0.76</td>\n",
              "    </tr>\n",
              "    <tr>\n",
              "      <th>5</th>\n",
              "      <td>Naive Bayes</td>\n",
              "      <td>0.737176</td>\n",
              "      <td>0.74</td>\n",
              "    </tr>\n",
              "  </tbody>\n",
              "</table>\n",
              "</div>\n",
              "      <button class=\"colab-df-convert\" onclick=\"convertToInteractive('df-9c374cb7-df54-4dc4-b14a-2da28489d526')\"\n",
              "              title=\"Convert this dataframe to an interactive table.\"\n",
              "              style=\"display:none;\">\n",
              "        \n",
              "  <svg xmlns=\"http://www.w3.org/2000/svg\" height=\"24px\"viewBox=\"0 0 24 24\"\n",
              "       width=\"24px\">\n",
              "    <path d=\"M0 0h24v24H0V0z\" fill=\"none\"/>\n",
              "    <path d=\"M18.56 5.44l.94 2.06.94-2.06 2.06-.94-2.06-.94-.94-2.06-.94 2.06-2.06.94zm-11 1L8.5 8.5l.94-2.06 2.06-.94-2.06-.94L8.5 2.5l-.94 2.06-2.06.94zm10 10l.94 2.06.94-2.06 2.06-.94-2.06-.94-.94-2.06-.94 2.06-2.06.94z\"/><path d=\"M17.41 7.96l-1.37-1.37c-.4-.4-.92-.59-1.43-.59-.52 0-1.04.2-1.43.59L10.3 9.45l-7.72 7.72c-.78.78-.78 2.05 0 2.83L4 21.41c.39.39.9.59 1.41.59.51 0 1.02-.2 1.41-.59l7.78-7.78 2.81-2.81c.8-.78.8-2.07 0-2.86zM5.41 20L4 18.59l7.72-7.72 1.47 1.35L5.41 20z\"/>\n",
              "  </svg>\n",
              "      </button>\n",
              "      \n",
              "  <style>\n",
              "    .colab-df-container {\n",
              "      display:flex;\n",
              "      flex-wrap:wrap;\n",
              "      gap: 12px;\n",
              "    }\n",
              "\n",
              "    .colab-df-convert {\n",
              "      background-color: #E8F0FE;\n",
              "      border: none;\n",
              "      border-radius: 50%;\n",
              "      cursor: pointer;\n",
              "      display: none;\n",
              "      fill: #1967D2;\n",
              "      height: 32px;\n",
              "      padding: 0 0 0 0;\n",
              "      width: 32px;\n",
              "    }\n",
              "\n",
              "    .colab-df-convert:hover {\n",
              "      background-color: #E2EBFA;\n",
              "      box-shadow: 0px 1px 2px rgba(60, 64, 67, 0.3), 0px 1px 3px 1px rgba(60, 64, 67, 0.15);\n",
              "      fill: #174EA6;\n",
              "    }\n",
              "\n",
              "    [theme=dark] .colab-df-convert {\n",
              "      background-color: #3B4455;\n",
              "      fill: #D2E3FC;\n",
              "    }\n",
              "\n",
              "    [theme=dark] .colab-df-convert:hover {\n",
              "      background-color: #434B5C;\n",
              "      box-shadow: 0px 1px 3px 1px rgba(0, 0, 0, 0.15);\n",
              "      filter: drop-shadow(0px 1px 2px rgba(0, 0, 0, 0.3));\n",
              "      fill: #FFFFFF;\n",
              "    }\n",
              "  </style>\n",
              "\n",
              "      <script>\n",
              "        const buttonEl =\n",
              "          document.querySelector('#df-9c374cb7-df54-4dc4-b14a-2da28489d526 button.colab-df-convert');\n",
              "        buttonEl.style.display =\n",
              "          google.colab.kernel.accessAllowed ? 'block' : 'none';\n",
              "\n",
              "        async function convertToInteractive(key) {\n",
              "          const element = document.querySelector('#df-9c374cb7-df54-4dc4-b14a-2da28489d526');\n",
              "          const dataTable =\n",
              "            await google.colab.kernel.invokeFunction('convertToInteractive',\n",
              "                                                     [key], {});\n",
              "          if (!dataTable) return;\n",
              "\n",
              "          const docLinkHtml = 'Like what you see? Visit the ' +\n",
              "            '<a target=\"_blank\" href=https://colab.research.google.com/notebooks/data_table.ipynb>data table notebook</a>'\n",
              "            + ' to learn more about interactive tables.';\n",
              "          element.innerHTML = '';\n",
              "          dataTable['output_type'] = 'display_data';\n",
              "          await google.colab.output.renderOutput(dataTable, element);\n",
              "          const docLink = document.createElement('div');\n",
              "          docLink.innerHTML = docLinkHtml;\n",
              "          element.appendChild(docLink);\n",
              "        }\n",
              "      </script>\n",
              "    </div>\n",
              "  </div>\n",
              "  "
            ]
          },
          "metadata": {},
          "execution_count": 45
        }
      ]
    },
    {
      "cell_type": "markdown",
      "source": [
        "# P/J Classification"
      ],
      "metadata": {
        "id": "1pMdT3ieT9cE"
      }
    },
    {
      "cell_type": "code",
      "source": [
        "acc_PJlist=[]\n",
        "auc_PJlist = []\n",
        "cm_PJlist=[]\n",
        "for model in model_pipeline:\n",
        "  model.fit(train_post, train_targetPJ)\n",
        "  y_afterpred = model.predict(test_post)\n",
        "  acc_PJlist.append(metrics.accuracy_score(test_targetPJ, y_afterpred))\n",
        "  fpr, tpr,thresholds = metrics.roc_curve(test_targetPJ,y_afterpred)\n",
        "  auc_PJlist.append(round(metrics.auc(fpr, tpr),2))\n",
        "  cm_PJlist.append(confusion_matrix(test_targetPJ, y_afterpred))"
      ],
      "metadata": {
        "id": "12EM54JaU1LL"
      },
      "execution_count": 46,
      "outputs": []
    },
    {
      "cell_type": "code",
      "source": [
        "#plot confusion matrix\n",
        "fig = plt.figure(figsize = ( 20,10))\n",
        "for i in range( len(cm_PJlist)) :\n",
        "  cm = cm_PJlist[i]\n",
        "  model = model_list[i]\n",
        "  sub = fig.add_subplot(2,3,i+1).set_title(model)\n",
        "  cm_plot = sns.heatmap(cm,annot=True,cmap = \"Blues_r\",fmt='g')\n",
        "  cm_plot.set_xlabel('Predicted Values')\n",
        "  cm_plot.set_ylabel('Actual Values')"
      ],
      "metadata": {
        "colab": {
          "base_uri": "https://localhost:8080/",
          "height": 621
        },
        "id": "Mr33h1H1U1LL",
        "outputId": "23917188-d2b9-4f98-ee20-5cc105a6893a"
      },
      "execution_count": 47,
      "outputs": [
        {
          "output_type": "display_data",
          "data": {
            "text/plain": [
              "<Figure size 1440x720 with 12 Axes>"
            ],
            "image/png": "[encoded data removed]"
          },
          "metadata": {
            "needs_background": "light"
          }
        }
      ]
    },
    {
      "cell_type": "code",
      "source": [
        "#accuracy and AUC\n",
        "resultPJ_df = pd.DataFrame({'Model' :model_list,'Accuracy' : acc_PJlist,'AUC' : auc_PJlist})\n",
        "resultPJ_df"
      ],
      "metadata": {
        "colab": {
          "base_uri": "https://localhost:8080/",
          "height": 238
        },
        "id": "niPZRkEsU1LM",
        "outputId": "0cf18af7-b75e-44be-b148-ca22aa9f6209"
      },
      "execution_count": 48,
      "outputs": [
        {
          "output_type": "execute_result",
          "data": {
            "text/plain": [
              "                 Model  Accuracy   AUC\n",
              "0  Logistic Regression  0.725648  0.68\n",
              "1                  SVW  0.723343  0.68\n",
              "2                  KNN  0.614409  0.56\n",
              "3        Decision Tree  0.638040  0.62\n",
              "4        Random Forest  0.666282  0.60\n",
              "5          Naive Bayes  0.613256  0.61"
            ],
            "text/html": [
              "\n",
              "  <div id=\"df-c8372311-2168-4aa7-a5c3-3f21ada7bdc3\">\n",
              "    <div class=\"colab-df-container\">\n",
              "      <div>\n",
              "<style scoped>\n",
              "    .dataframe tbody tr th:only-of-type {\n",
              "        vertical-align: middle;\n",
              "    }\n",
              "\n",
              "    .dataframe tbody tr th {\n",
              "        vertical-align: top;\n",
              "    }\n",
              "\n",
              "    .dataframe thead th {\n",
              "        text-align: right;\n",
              "    }\n",
              "</style>\n",
              "<table border=\"1\" class=\"dataframe\">\n",
              "  <thead>\n",
              "    <tr style=\"text-align: right;\">\n",
              "      <th></th>\n",
              "      <th>Model</th>\n",
              "      <th>Accuracy</th>\n",
              "      <th>AUC</th>\n",
              "    </tr>\n",
              "  </thead>\n",
              "  <tbody>\n",
              "    <tr>\n",
              "      <th>0</th>\n",
              "      <td>Logistic Regression</td>\n",
              "      <td>0.725648</td>\n",
              "      <td>0.68</td>\n",
              "    </tr>\n",
              "    <tr>\n",
              "      <th>1</th>\n",
              "      <td>SVW</td>\n",
              "      <td>0.723343</td>\n",
              "      <td>0.68</td>\n",
              "    </tr>\n",
              "    <tr>\n",
              "      <th>2</th>\n",
              "      <td>KNN</td>\n",
              "      <td>0.614409</td>\n",
              "      <td>0.56</td>\n",
              "    </tr>\n",
              "    <tr>\n",
              "      <th>3</th>\n",
              "      <td>Decision Tree</td>\n",
              "      <td>0.638040</td>\n",
              "      <td>0.62</td>\n",
              "    </tr>\n",
              "    <tr>\n",
              "      <th>4</th>\n",
              "      <td>Random Forest</td>\n",
              "      <td>0.666282</td>\n",
              "      <td>0.60</td>\n",
              "    </tr>\n",
              "    <tr>\n",
              "      <th>5</th>\n",
              "      <td>Naive Bayes</td>\n",
              "      <td>0.613256</td>\n",
              "      <td>0.61</td>\n",
              "    </tr>\n",
              "  </tbody>\n",
              "</table>\n",
              "</div>\n",
              "      <button class=\"colab-df-convert\" onclick=\"convertToInteractive('df-c8372311-2168-4aa7-a5c3-3f21ada7bdc3')\"\n",
              "              title=\"Convert this dataframe to an interactive table.\"\n",
              "              style=\"display:none;\">\n",
              "        \n",
              "  <svg xmlns=\"http://www.w3.org/2000/svg\" height=\"24px\"viewBox=\"0 0 24 24\"\n",
              "       width=\"24px\">\n",
              "    <path d=\"M0 0h24v24H0V0z\" fill=\"none\"/>\n",
              "    <path d=\"M18.56 5.44l.94 2.06.94-2.06 2.06-.94-2.06-.94-.94-2.06-.94 2.06-2.06.94zm-11 1L8.5 8.5l.94-2.06 2.06-.94-2.06-.94L8.5 2.5l-.94 2.06-2.06.94zm10 10l.94 2.06.94-2.06 2.06-.94-2.06-.94-.94-2.06-.94 2.06-2.06.94z\"/><path d=\"M17.41 7.96l-1.37-1.37c-.4-.4-.92-.59-1.43-.59-.52 0-1.04.2-1.43.59L10.3 9.45l-7.72 7.72c-.78.78-.78 2.05 0 2.83L4 21.41c.39.39.9.59 1.41.59.51 0 1.02-.2 1.41-.59l7.78-7.78 2.81-2.81c.8-.78.8-2.07 0-2.86zM5.41 20L4 18.59l7.72-7.72 1.47 1.35L5.41 20z\"/>\n",
              "  </svg>\n",
              "      </button>\n",
              "      \n",
              "  <style>\n",
              "    .colab-df-container {\n",
              "      display:flex;\n",
              "      flex-wrap:wrap;\n",
              "      gap: 12px;\n",
              "    }\n",
              "\n",
              "    .colab-df-convert {\n",
              "      background-color: #E8F0FE;\n",
              "      border: none;\n",
              "      border-radius: 50%;\n",
              "      cursor: pointer;\n",
              "      display: none;\n",
              "      fill: #1967D2;\n",
              "      height: 32px;\n",
              "      padding: 0 0 0 0;\n",
              "      width: 32px;\n",
              "    }\n",
              "\n",
              "    .colab-df-convert:hover {\n",
              "      background-color: #E2EBFA;\n",
              "      box-shadow: 0px 1px 2px rgba(60, 64, 67, 0.3), 0px 1px 3px 1px rgba(60, 64, 67, 0.15);\n",
              "      fill: #174EA6;\n",
              "    }\n",
              "\n",
              "    [theme=dark] .colab-df-convert {\n",
              "      background-color: #3B4455;\n",
              "      fill: #D2E3FC;\n",
              "    }\n",
              "\n",
              "    [theme=dark] .colab-df-convert:hover {\n",
              "      background-color: #434B5C;\n",
              "      box-shadow: 0px 1px 3px 1px rgba(0, 0, 0, 0.15);\n",
              "      filter: drop-shadow(0px 1px 2px rgba(0, 0, 0, 0.3));\n",
              "      fill: #FFFFFF;\n",
              "    }\n",
              "  </style>\n",
              "\n",
              "      <script>\n",
              "        const buttonEl =\n",
              "          document.querySelector('#df-c8372311-2168-4aa7-a5c3-3f21ada7bdc3 button.colab-df-convert');\n",
              "        buttonEl.style.display =\n",
              "          google.colab.kernel.accessAllowed ? 'block' : 'none';\n",
              "\n",
              "        async function convertToInteractive(key) {\n",
              "          const element = document.querySelector('#df-c8372311-2168-4aa7-a5c3-3f21ada7bdc3');\n",
              "          const dataTable =\n",
              "            await google.colab.kernel.invokeFunction('convertToInteractive',\n",
              "                                                     [key], {});\n",
              "          if (!dataTable) return;\n",
              "\n",
              "          const docLinkHtml = 'Like what you see? Visit the ' +\n",
              "            '<a target=\"_blank\" href=https://colab.research.google.com/notebooks/data_table.ipynb>data table notebook</a>'\n",
              "            + ' to learn more about interactive tables.';\n",
              "          element.innerHTML = '';\n",
              "          dataTable['output_type'] = 'display_data';\n",
              "          await google.colab.output.renderOutput(dataTable, element);\n",
              "          const docLink = document.createElement('div');\n",
              "          docLink.innerHTML = docLinkHtml;\n",
              "          element.appendChild(docLink);\n",
              "        }\n",
              "      </script>\n",
              "    </div>\n",
              "  </div>\n",
              "  "
            ]
          },
          "metadata": {},
          "execution_count": 48
        }
      ]
    }
  ]
}