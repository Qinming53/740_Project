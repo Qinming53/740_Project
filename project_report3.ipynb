{
  "cells": [
    {
      "cell_type": "markdown",
      "metadata": {
        "id": "onppqoyundmb"
      },
      "source": [
        "## SEP 740 Project Report - Group 9"
      ]
    },
    {
      "cell_type": "code",
      "execution_count": null,
      "metadata": {
        "colab": {
          "base_uri": "https://localhost:8080/"
        },
        "id": "uWGR0dd3l81K",
        "outputId": "ea4a932c-d69d-4838-dcb2-1a287f3cabb8"
      },
      "outputs": [
        {
          "output_type": "stream",
          "name": "stderr",
          "text": [
            "[nltk_data] Downloading package stopwords to /root/nltk_data...\n",
            "[nltk_data]   Unzipping corpora/stopwords.zip.\n",
            "[nltk_data] Downloading package punkt to /root/nltk_data...\n",
            "[nltk_data]   Unzipping tokenizers/punkt.zip.\n",
            "[nltk_data] Downloading package wordnet to /root/nltk_data...\n",
            "[nltk_data] Downloading package omw-1.4 to /root/nltk_data...\n"
          ]
        },
        {
          "output_type": "execute_result",
          "data": {
            "text/plain": [
              "True"
            ]
          },
          "metadata": {},
          "execution_count": 2
        }
      ],
      "source": [
        "import numpy as np\n",
        "import pandas as pd\n",
        "import matplotlib.pyplot as plt\n",
        "import seaborn as sns\n",
        "from scipy.stats import f_oneway\n",
        "import time\n",
        "import re\n",
        "import nltk.corpus\n",
        "from nltk.tokenize import word_tokenize \n",
        "from nltk.stem import PorterStemmer\n",
        "from nltk.corpus import stopwords\n",
        "from nltk.stem import WordNetLemmatizer\n",
        "\n",
        "import tensorflow as tf\n",
        "from keras import layers\n",
        "from keras import initializers as initializers, regularizers, constraints\n",
        "from keras.utils.np_utils import to_categorical\n",
        "from keras import optimizers\n",
        "from keras.models import Model,Sequential\n",
        "from keras.preprocessing.text import Tokenizer, text_to_word_sequence\n",
        "from tensorflow.keras.preprocessing.sequence import pad_sequences\n",
        "from keras.layers import Embedding, LSTM, Dense, Bidirectional\n",
        "from keras.preprocessing.text import Tokenizer\n",
        "\n",
        "from keras.optimizers import Adam\n",
        "nltk.download('stopwords')\n",
        "nltk.download('punkt')\n",
        "nltk.download('wordnet')\n",
        "nltk.download('omw-1.4')"
      ]
    },
    {
      "cell_type": "code",
      "execution_count": null,
      "metadata": {
        "id": "9NyGUALFwVOS"
      },
      "outputs": [],
      "source": [
        "url = 'https://raw.githubusercontent.com/dashascience/-MBTI-Myers-Briggs-Personality-Type-Dataset/master/mbti_1.csv'\n",
        "df = pd.read_csv(url)"
      ]
    },
    {
      "cell_type": "code",
      "execution_count": null,
      "metadata": {
        "id": "1kHNiOZYoiNn"
      },
      "outputs": [],
      "source": [
        "# normalize, remove stop words and url links.\n",
        "lemmatizer = WordNetLemmatizer()\n",
        "stop_words = set(stopwords.words('english')) \n",
        "clean_text1=[]\n",
        "for i in df.posts[0].split('|||'):\n",
        "  i=i.lower()\n",
        "  i = re.sub(r\"(@\\[A-Za-z0-9]+)|([^0-9A-Za-z \\t])|(\\w+:\\/\\/\\S+)|^rt|http.+?\", \"\", i)\n",
        "  i_tokens = word_tokenize(i)\n",
        "  filtered_i = [w for w in i_tokens if not w in stop_words]\n",
        "  clean_text1.append(filtered_i)"
      ]
    },
    {
      "cell_type": "code",
      "execution_count": null,
      "metadata": {
        "id": "5X8o52Mton_Q"
      },
      "outputs": [],
      "source": [
        "#lemmatization ensure that only words that mean similar things are consolidated into a single token\n",
        "for j in clean_text1:\n",
        "  for p in range(len(j)):\n",
        "    j[p]=lemmatizer.lemmatize(j[p])\n"
      ]
    },
    {
      "cell_type": "code",
      "execution_count": null,
      "metadata": {
        "id": "8vXSjFoztpY3"
      },
      "outputs": [],
      "source": [
        "# Clean methods for dataframe cleaning\n",
        "def clean_data(str):\n",
        "  clean_text1=[]\n",
        "  for i in str.split('|||'):\n",
        "    i=i.lower()\n",
        "    i = re.sub(r\"(@\\[A-Za-z0-9]+)|([^0-9A-Za-z \\t])|(\\w+:\\/\\/\\S+)|^rt|http.+?\", \"\", i)\n",
        "    i_tokens = word_tokenize(i)\n",
        "    filtered_i = [w for w in i_tokens if not w in stop_words]\n",
        "    clean_text1.append(filtered_i)\n",
        "  return clean_text1\n",
        "\n",
        "def lemmatized_data(strList):\n",
        "  for j in strList:\n",
        "    for p in range(len(j)):\n",
        "      j[p]=lemmatizer.lemmatize(j[p])\n",
        "  return strList"
      ]
    },
    {
      "cell_type": "code",
      "execution_count": null,
      "metadata": {
        "colab": {
          "base_uri": "https://localhost:8080/"
        },
        "id": "8M1sSQDOybkx",
        "outputId": "42244f40-111d-4b64-ac5a-5a7c0a5cb805"
      },
      "outputs": [
        {
          "output_type": "stream",
          "name": "stderr",
          "text": [
            "[nltk_data] Downloading package stopwords to /root/nltk_data...\n",
            "[nltk_data]   Package stopwords is already up-to-date!\n"
          ]
        }
      ],
      "source": [
        "stopwords = nltk.corpus.stopwords.words('english')\n",
        "lemmatizer = WordNetLemmatizer()\n",
        "nltk.download('stopwords')\n",
        "#MBTI related words\n",
        "mbti = [\"intj\",\"intp\",\"infj\", \"infp\",\"istj\",\"istp\",\"isfj\",\"isfp\",\"entj\",\"entp\", \"enfj\", \"enfp\",\"estj\", \"estp\",\"esfj\",\"esfp\",\"si\",\"ni\",\"ti\",\"fi\",\"se\",\n",
        "        \"ne\",\"te\",\"fe\",\"nt\",\"nf\",\"le\",\"mbti\",\"sp\",\"sj\",\"sf\",\"st\",\"in\",\"is\",\"en\",\"es\"]\n",
        "data_length=[]\n",
        "lemmatizer=WordNetLemmatizer()\n",
        "clean_text1=[]\n",
        "for i in range(0,len(df.posts)):\n",
        "  doc = re.sub(r\"(@\\[A-Za-z0-9]+)|([^0-9A-Za-z \\t])|(\\w+:\\/\\/\\S+)|^rt|http.+?\", \"\", df.posts[i])\n",
        "  doc = doc.lower()\n",
        "  doc = doc.split()\n",
        "  #Remove MBTI related words and lemmatize the rest words\n",
        "  for w in doc:\n",
        "    if w in mbti:\n",
        "      doc.remove(w)\n",
        "    elif not w in set(stopwords):\n",
        "        lemmatizer.lemmatize(w) \n",
        "\n",
        "      \n",
        "  doc = ' '.join(doc)\n",
        "  clean_text1.append(doc)"
      ]
    },
    {
      "cell_type": "code",
      "execution_count": null,
      "metadata": {
        "id": "eRdJqLXboxx1"
      },
      "outputs": [],
      "source": [
        "types = np.unique(df.type.values)\n",
        "\n",
        "def get_type_index(string):\n",
        "    return list(types).index(string)\n",
        "\n",
        "df['type_index'] = df['type'].apply(get_type_index)\n",
        "# Find the original posts column\n",
        "n = df.columns[1]\n",
        "# Drop that column\n",
        "df.drop(n, axis = 1, inplace = True)\n",
        "# Put cleaned posts in place\n",
        "df[n] = clean_text1"
      ]
    },
    {
      "cell_type": "code",
      "execution_count": null,
      "metadata": {
        "id": "SY6QW_XWbuIu",
        "colab": {
          "base_uri": "https://localhost:8080/",
          "height": 433
        },
        "outputId": "dbcd8e08-67ad-4d81-8f6d-6432f731ca6f"
      },
      "outputs": [
        {
          "output_type": "execute_result",
          "data": {
            "text/plain": [
              "      type  type_index                                              posts\n",
              "0     INFJ           8  and moments sportscenter not top ten plays pra...\n",
              "1     ENTP           3  im finding the lack of me these posts very ala...\n",
              "2     INTP          11  good one course to which i say i know thats my...\n",
              "3     INTJ          10  dear i enjoyed our conversation the other day ...\n",
              "4     ENTJ           2  youre firedthats another silly misconception t...\n",
              "...    ...         ...                                                ...\n",
              "8670  ISFP          13  just because i always think of cats as doms fo...\n",
              "8671  ENFP           1  soif this thread already exists someplace else...\n",
              "8672  INTP          11  so many questions when i do these things i wou...\n",
              "8673  INFP           9  i am very conflicted right now when it comes t...\n",
              "8674  INFP           9  it has been too long since i have been on pers...\n",
              "\n",
              "[8675 rows x 3 columns]"
            ],
            "text/html": [
              "\n",
              "  <div id=\"df-220f49f3-2cf1-45ed-b0a2-13a51c4b81c7\">\n",
              "    <div class=\"colab-df-container\">\n",
              "      <div>\n",
              "<style scoped>\n",
              "    .dataframe tbody tr th:only-of-type {\n",
              "        vertical-align: middle;\n",
              "    }\n",
              "\n",
              "    .dataframe tbody tr th {\n",
              "        vertical-align: top;\n",
              "    }\n",
              "\n",
              "    .dataframe thead th {\n",
              "        text-align: right;\n",
              "    }\n",
              "</style>\n",
              "<table border=\"1\" class=\"dataframe\">\n",
              "  <thead>\n",
              "    <tr style=\"text-align: right;\">\n",
              "      <th></th>\n",
              "      <th>type</th>\n",
              "      <th>type_index</th>\n",
              "      <th>posts</th>\n",
              "    </tr>\n",
              "  </thead>\n",
              "  <tbody>\n",
              "    <tr>\n",
              "      <th>0</th>\n",
              "      <td>INFJ</td>\n",
              "      <td>8</td>\n",
              "      <td>and moments sportscenter not top ten plays pra...</td>\n",
              "    </tr>\n",
              "    <tr>\n",
              "      <th>1</th>\n",
              "      <td>ENTP</td>\n",
              "      <td>3</td>\n",
              "      <td>im finding the lack of me these posts very ala...</td>\n",
              "    </tr>\n",
              "    <tr>\n",
              "      <th>2</th>\n",
              "      <td>INTP</td>\n",
              "      <td>11</td>\n",
              "      <td>good one course to which i say i know thats my...</td>\n",
              "    </tr>\n",
              "    <tr>\n",
              "      <th>3</th>\n",
              "      <td>INTJ</td>\n",
              "      <td>10</td>\n",
              "      <td>dear i enjoyed our conversation the other day ...</td>\n",
              "    </tr>\n",
              "    <tr>\n",
              "      <th>4</th>\n",
              "      <td>ENTJ</td>\n",
              "      <td>2</td>\n",
              "      <td>youre firedthats another silly misconception t...</td>\n",
              "    </tr>\n",
              "    <tr>\n",
              "      <th>...</th>\n",
              "      <td>...</td>\n",
              "      <td>...</td>\n",
              "      <td>...</td>\n",
              "    </tr>\n",
              "    <tr>\n",
              "      <th>8670</th>\n",
              "      <td>ISFP</td>\n",
              "      <td>13</td>\n",
              "      <td>just because i always think of cats as doms fo...</td>\n",
              "    </tr>\n",
              "    <tr>\n",
              "      <th>8671</th>\n",
              "      <td>ENFP</td>\n",
              "      <td>1</td>\n",
              "      <td>soif this thread already exists someplace else...</td>\n",
              "    </tr>\n",
              "    <tr>\n",
              "      <th>8672</th>\n",
              "      <td>INTP</td>\n",
              "      <td>11</td>\n",
              "      <td>so many questions when i do these things i wou...</td>\n",
              "    </tr>\n",
              "    <tr>\n",
              "      <th>8673</th>\n",
              "      <td>INFP</td>\n",
              "      <td>9</td>\n",
              "      <td>i am very conflicted right now when it comes t...</td>\n",
              "    </tr>\n",
              "    <tr>\n",
              "      <th>8674</th>\n",
              "      <td>INFP</td>\n",
              "      <td>9</td>\n",
              "      <td>it has been too long since i have been on pers...</td>\n",
              "    </tr>\n",
              "  </tbody>\n",
              "</table>\n",
              "<p>8675 rows × 3 columns</p>\n",
              "</div>\n",
              "      <button class=\"colab-df-convert\" onclick=\"convertToInteractive('df-220f49f3-2cf1-45ed-b0a2-13a51c4b81c7')\"\n",
              "              title=\"Convert this dataframe to an interactive table.\"\n",
              "              style=\"display:none;\">\n",
              "        \n",
              "  <svg xmlns=\"http://www.w3.org/2000/svg\" height=\"24px\"viewBox=\"0 0 24 24\"\n",
              "       width=\"24px\">\n",
              "    <path d=\"M0 0h24v24H0V0z\" fill=\"none\"/>\n",
              "    <path d=\"M18.56 5.44l.94 2.06.94-2.06 2.06-.94-2.06-.94-.94-2.06-.94 2.06-2.06.94zm-11 1L8.5 8.5l.94-2.06 2.06-.94-2.06-.94L8.5 2.5l-.94 2.06-2.06.94zm10 10l.94 2.06.94-2.06 2.06-.94-2.06-.94-.94-2.06-.94 2.06-2.06.94z\"/><path d=\"M17.41 7.96l-1.37-1.37c-.4-.4-.92-.59-1.43-.59-.52 0-1.04.2-1.43.59L10.3 9.45l-7.72 7.72c-.78.78-.78 2.05 0 2.83L4 21.41c.39.39.9.59 1.41.59.51 0 1.02-.2 1.41-.59l7.78-7.78 2.81-2.81c.8-.78.8-2.07 0-2.86zM5.41 20L4 18.59l7.72-7.72 1.47 1.35L5.41 20z\"/>\n",
              "  </svg>\n",
              "      </button>\n",
              "      \n",
              "  <style>\n",
              "    .colab-df-container {\n",
              "      display:flex;\n",
              "      flex-wrap:wrap;\n",
              "      gap: 12px;\n",
              "    }\n",
              "\n",
              "    .colab-df-convert {\n",
              "      background-color: #E8F0FE;\n",
              "      border: none;\n",
              "      border-radius: 50%;\n",
              "      cursor: pointer;\n",
              "      display: none;\n",
              "      fill: #1967D2;\n",
              "      height: 32px;\n",
              "      padding: 0 0 0 0;\n",
              "      width: 32px;\n",
              "    }\n",
              "\n",
              "    .colab-df-convert:hover {\n",
              "      background-color: #E2EBFA;\n",
              "      box-shadow: 0px 1px 2px rgba(60, 64, 67, 0.3), 0px 1px 3px 1px rgba(60, 64, 67, 0.15);\n",
              "      fill: #174EA6;\n",
              "    }\n",
              "\n",
              "    [theme=dark] .colab-df-convert {\n",
              "      background-color: #3B4455;\n",
              "      fill: #D2E3FC;\n",
              "    }\n",
              "\n",
              "    [theme=dark] .colab-df-convert:hover {\n",
              "      background-color: #434B5C;\n",
              "      box-shadow: 0px 1px 3px 1px rgba(0, 0, 0, 0.15);\n",
              "      filter: drop-shadow(0px 1px 2px rgba(0, 0, 0, 0.3));\n",
              "      fill: #FFFFFF;\n",
              "    }\n",
              "  </style>\n",
              "\n",
              "      <script>\n",
              "        const buttonEl =\n",
              "          document.querySelector('#df-220f49f3-2cf1-45ed-b0a2-13a51c4b81c7 button.colab-df-convert');\n",
              "        buttonEl.style.display =\n",
              "          google.colab.kernel.accessAllowed ? 'block' : 'none';\n",
              "\n",
              "        async function convertToInteractive(key) {\n",
              "          const element = document.querySelector('#df-220f49f3-2cf1-45ed-b0a2-13a51c4b81c7');\n",
              "          const dataTable =\n",
              "            await google.colab.kernel.invokeFunction('convertToInteractive',\n",
              "                                                     [key], {});\n",
              "          if (!dataTable) return;\n",
              "\n",
              "          const docLinkHtml = 'Like what you see? Visit the ' +\n",
              "            '<a target=\"_blank\" href=https://colab.research.google.com/notebooks/data_table.ipynb>data table notebook</a>'\n",
              "            + ' to learn more about interactive tables.';\n",
              "          element.innerHTML = '';\n",
              "          dataTable['output_type'] = 'display_data';\n",
              "          await google.colab.output.renderOutput(dataTable, element);\n",
              "          const docLink = document.createElement('div');\n",
              "          docLink.innerHTML = docLinkHtml;\n",
              "          element.appendChild(docLink);\n",
              "        }\n",
              "      </script>\n",
              "    </div>\n",
              "  </div>\n",
              "  "
            ]
          },
          "metadata": {},
          "execution_count": 9
        }
      ],
      "source": [
        "df"
      ]
    },
    {
      "cell_type": "code",
      "execution_count": null,
      "metadata": {
        "id": "nFU9OgSlX_y9",
        "colab": {
          "base_uri": "https://localhost:8080/"
        },
        "outputId": "d27706c9-c066-4d12-a9de-7488c4bd015d"
      },
      "outputs": [
        {
          "output_type": "stream",
          "name": "stdout",
          "text": [
            "type_index    542.1875\n",
            "posts         542.1875\n",
            "dtype: float64\n",
            "      type_index  posts\n",
            "type                   \n",
            "ENFJ         190    190\n",
            "ENFP         675    675\n",
            "ENTJ         231    231\n",
            "ENTP         685    685\n",
            "ESFJ          42     42\n",
            "ESFP          48     48\n",
            "ESTJ          39     39\n",
            "ESTP          89     89\n",
            "INFJ        1470   1470\n",
            "INFP        1832   1832\n",
            "INTJ        1091   1091\n",
            "INTP        1304   1304\n",
            "ISFJ         166    166\n",
            "ISFP         271    271\n",
            "ISTJ         205    205\n",
            "ISTP         337    337\n"
          ]
        }
      ],
      "source": [
        "#Shows posts by group, we can see that the distribution is unbalanced\n",
        "#ESTJ has the lowest number of posts which is 39\n",
        "print(df.groupby(['type']).count().mean())\n",
        "print(df.groupby(['type']).count())"
      ]
    },
    {
      "cell_type": "code",
      "execution_count": null,
      "metadata": {
        "id": "Ulwm1Z-3Ci3N",
        "colab": {
          "base_uri": "https://localhost:8080/"
        },
        "outputId": "02bd30d2-fcdf-4631-f0c5-157ef6d7d2dd"
      },
      "outputs": [
        {
          "output_type": "stream",
          "name": "stdout",
          "text": [
            "Training set shape: (23449, 500)\n",
            "Testing set shape: (5863, 500)\n"
          ]
        }
      ],
      "source": [
        "from sklearn.model_selection import train_test_split\n",
        "import tensorflow as tf\n",
        "from tensorflow.keras.preprocessing.text import Tokenizer\n",
        "from tensorflow.keras.preprocessing.sequence import pad_sequences\n",
        "\n",
        "\n",
        "#specify the amount of features\n",
        "vocab_size = 10000\n",
        "\n",
        "tokenizer = Tokenizer(num_words = vocab_size)\n",
        "tokenizer.fit_on_texts(df.posts)\n",
        "\n",
        "import imblearn\n",
        "from imblearn.over_sampling import RandomOverSampler\n",
        "ros = RandomOverSampler(random_state=39) # fit predictor and target variable\n",
        "\n",
        "\n",
        "maxlen = 500\n",
        "#Transform text into sequence and pad posts with size of 500\n",
        "train_sequences = tokenizer.texts_to_sequences(df.posts.values)\n",
        "train_padded = pad_sequences(train_sequences, maxlen = maxlen)\n",
        "labels= tf.keras.utils.to_categorical(df.type_index.values, num_classes=16)\n",
        "x_rus, y_rus = ros.fit_resample(train_padded, labels)\n",
        "x_train,x_test,y_train,y_test=train_test_split(x_rus, y_rus, test_size=0.2, random_state=42)\n",
        "\n",
        "#Transform text into sequence and pad posts with size of 500 for validation set\n",
        "\n",
        "#show shape of different sets                            \n",
        "print(\"Training set shape:\",x_train.shape)\n",
        "print(\"Testing set shape:\",x_test.shape)\n"
      ]
    },
    {
      "cell_type": "markdown",
      "metadata": {
        "id": "koyTnYFLrrjH"
      },
      "source": [
        "##DNN"
      ]
    },
    {
      "cell_type": "code",
      "execution_count": null,
      "metadata": {
        "colab": {
          "base_uri": "https://localhost:8080/"
        },
        "id": "aF1u6ks4qswa",
        "outputId": "20ec1053-377e-4b71-d8c7-eebbf8553dda"
      },
      "outputs": [
        {
          "output_type": "stream",
          "name": "stdout",
          "text": [
            "Epoch 1/40\n",
            "733/733 [==============================] - 7s 5ms/step - loss: 1.4835 - accuracy: 0.4743 - val_loss: 0.6823 - val_accuracy: 0.7205\n",
            "Epoch 2/40\n",
            "733/733 [==============================] - 4s 5ms/step - loss: 0.6302 - accuracy: 0.7564 - val_loss: 0.4829 - val_accuracy: 0.8190\n",
            "Epoch 3/40\n",
            "733/733 [==============================] - 4s 5ms/step - loss: 0.4020 - accuracy: 0.8569 - val_loss: 0.4194 - val_accuracy: 0.8494\n",
            "Epoch 4/40\n",
            "733/733 [==============================] - 3s 5ms/step - loss: 0.2666 - accuracy: 0.9162 - val_loss: 0.4408 - val_accuracy: 0.8622\n",
            "Epoch 5/40\n",
            "733/733 [==============================] - 4s 5ms/step - loss: 0.1894 - accuracy: 0.9437 - val_loss: 0.4419 - val_accuracy: 0.8699\n",
            "Epoch 6/40\n",
            "733/733 [==============================] - 4s 5ms/step - loss: 0.1387 - accuracy: 0.9604 - val_loss: 0.5259 - val_accuracy: 0.8733\n",
            "Epoch 7/40\n",
            "733/733 [==============================] - 4s 5ms/step - loss: 0.1174 - accuracy: 0.9690 - val_loss: 0.5521 - val_accuracy: 0.8745\n",
            "Epoch 8/40\n",
            "733/733 [==============================] - 4s 5ms/step - loss: 0.0913 - accuracy: 0.9759 - val_loss: 0.5920 - val_accuracy: 0.8716\n",
            "Epoch 9/40\n",
            "733/733 [==============================] - 3s 5ms/step - loss: 0.0858 - accuracy: 0.9768 - val_loss: 0.6975 - val_accuracy: 0.8743\n",
            "Epoch 10/40\n",
            "733/733 [==============================] - 3s 5ms/step - loss: 0.0760 - accuracy: 0.9809 - val_loss: 0.6818 - val_accuracy: 0.8719\n",
            "Epoch 11/40\n",
            "733/733 [==============================] - 3s 5ms/step - loss: 0.0751 - accuracy: 0.9811 - val_loss: 0.7173 - val_accuracy: 0.8728\n",
            "Epoch 12/40\n",
            "733/733 [==============================] - 3s 5ms/step - loss: 0.0749 - accuracy: 0.9817 - val_loss: 0.6692 - val_accuracy: 0.8748\n",
            "Epoch 13/40\n",
            "733/733 [==============================] - 3s 5ms/step - loss: 0.0614 - accuracy: 0.9842 - val_loss: 0.6852 - val_accuracy: 0.8688\n",
            "Epoch 14/40\n",
            "733/733 [==============================] - 4s 5ms/step - loss: 0.0597 - accuracy: 0.9849 - val_loss: 0.7582 - val_accuracy: 0.8709\n",
            "Epoch 15/40\n",
            "733/733 [==============================] - 4s 5ms/step - loss: 0.0572 - accuracy: 0.9854 - val_loss: 0.7730 - val_accuracy: 0.8666\n",
            "Epoch 16/40\n",
            "733/733 [==============================] - 4s 5ms/step - loss: 0.0617 - accuracy: 0.9843 - val_loss: 0.7527 - val_accuracy: 0.8653\n",
            "Epoch 17/40\n",
            "733/733 [==============================] - 4s 5ms/step - loss: 0.0480 - accuracy: 0.9880 - val_loss: 0.7369 - val_accuracy: 0.8676\n",
            "Epoch 18/40\n",
            "733/733 [==============================] - 4s 5ms/step - loss: 0.0527 - accuracy: 0.9883 - val_loss: 0.8749 - val_accuracy: 0.8709\n",
            "Epoch 19/40\n",
            "733/733 [==============================] - 4s 5ms/step - loss: 0.0575 - accuracy: 0.9887 - val_loss: 0.7917 - val_accuracy: 0.8694\n",
            "Epoch 20/40\n",
            "733/733 [==============================] - 3s 5ms/step - loss: 0.0447 - accuracy: 0.9894 - val_loss: 0.7809 - val_accuracy: 0.8687\n",
            "Epoch 21/40\n",
            "733/733 [==============================] - 3s 5ms/step - loss: 0.0524 - accuracy: 0.9885 - val_loss: 0.8121 - val_accuracy: 0.8680\n",
            "Epoch 22/40\n",
            "733/733 [==============================] - 3s 5ms/step - loss: 0.0619 - accuracy: 0.9882 - val_loss: 0.8510 - val_accuracy: 0.8704\n",
            "Epoch 23/40\n",
            "733/733 [==============================] - 3s 5ms/step - loss: 0.0496 - accuracy: 0.9899 - val_loss: 0.8237 - val_accuracy: 0.8673\n",
            "Epoch 24/40\n",
            "733/733 [==============================] - 3s 5ms/step - loss: 0.0447 - accuracy: 0.9902 - val_loss: 0.8540 - val_accuracy: 0.8685\n",
            "Epoch 25/40\n",
            "733/733 [==============================] - 4s 5ms/step - loss: 0.0419 - accuracy: 0.9909 - val_loss: 0.8564 - val_accuracy: 0.8692\n",
            "Epoch 26/40\n",
            "733/733 [==============================] - 3s 5ms/step - loss: 0.0374 - accuracy: 0.9920 - val_loss: 0.8244 - val_accuracy: 0.8680\n",
            "Epoch 27/40\n",
            "733/733 [==============================] - 4s 5ms/step - loss: 0.0332 - accuracy: 0.9925 - val_loss: 0.8584 - val_accuracy: 0.8665\n",
            "Epoch 28/40\n",
            "733/733 [==============================] - 4s 5ms/step - loss: 0.0394 - accuracy: 0.9915 - val_loss: 0.8239 - val_accuracy: 0.8659\n",
            "Epoch 29/40\n",
            "733/733 [==============================] - 4s 5ms/step - loss: 0.0387 - accuracy: 0.9919 - val_loss: 0.9451 - val_accuracy: 0.8671\n",
            "Epoch 30/40\n",
            "733/733 [==============================] - 3s 5ms/step - loss: 0.0465 - accuracy: 0.9903 - val_loss: 0.8422 - val_accuracy: 0.8654\n",
            "Epoch 31/40\n",
            "733/733 [==============================] - 3s 5ms/step - loss: 0.0414 - accuracy: 0.9920 - val_loss: 0.8421 - val_accuracy: 0.8656\n",
            "Epoch 32/40\n",
            "733/733 [==============================] - 4s 5ms/step - loss: 0.0321 - accuracy: 0.9924 - val_loss: 0.8917 - val_accuracy: 0.8651\n",
            "Epoch 33/40\n",
            "733/733 [==============================] - 3s 5ms/step - loss: 0.0311 - accuracy: 0.9932 - val_loss: 0.8618 - val_accuracy: 0.8675\n",
            "Epoch 34/40\n",
            "733/733 [==============================] - 4s 5ms/step - loss: 0.0298 - accuracy: 0.9933 - val_loss: 1.0021 - val_accuracy: 0.8647\n",
            "Epoch 35/40\n",
            "733/733 [==============================] - 4s 5ms/step - loss: 0.0383 - accuracy: 0.9926 - val_loss: 0.8823 - val_accuracy: 0.8644\n",
            "Epoch 36/40\n",
            "733/733 [==============================] - 4s 5ms/step - loss: 0.0365 - accuracy: 0.9925 - val_loss: 0.9002 - val_accuracy: 0.8632\n",
            "Epoch 37/40\n",
            "733/733 [==============================] - 4s 5ms/step - loss: 0.0357 - accuracy: 0.9931 - val_loss: 0.8773 - val_accuracy: 0.8688\n",
            "Epoch 38/40\n",
            "733/733 [==============================] - 4s 5ms/step - loss: 0.0272 - accuracy: 0.9937 - val_loss: 0.9983 - val_accuracy: 0.8694\n",
            "Epoch 39/40\n",
            "733/733 [==============================] - 3s 5ms/step - loss: 0.0348 - accuracy: 0.9932 - val_loss: 0.9176 - val_accuracy: 0.8659\n",
            "Epoch 40/40\n",
            "733/733 [==============================] - 3s 5ms/step - loss: 0.0282 - accuracy: 0.9942 - val_loss: 0.8155 - val_accuracy: 0.8690\n",
            "        loss  accuracy  val_loss  val_accuracy\n",
            "0   1.483476  0.474349  0.682281      0.720450\n",
            "1   0.630159  0.756407  0.482933      0.819035\n",
            "2   0.402049  0.856881  0.419392      0.849395\n",
            "3   0.266574  0.916201  0.440840      0.862187\n",
            "4   0.189440  0.943708  0.441908      0.869862\n",
            "5   0.138690  0.960425  0.525925      0.873273\n",
            "6   0.117377  0.969039  0.552142      0.874467\n",
            "7   0.091307  0.975948  0.591966      0.871567\n",
            "8   0.085818  0.976843  0.697456      0.874296\n",
            "9   0.075979  0.980852  0.681797      0.871909\n",
            "10  0.075067  0.981108  0.717258      0.872761\n",
            "11  0.074922  0.981748  0.669205      0.874808\n",
            "12  0.061395  0.984178  0.685207      0.868838\n",
            "13  0.059721  0.984903  0.758221      0.870885\n",
            "14  0.057180  0.985372  0.772960      0.866621\n",
            "15  0.061716  0.984349  0.752727      0.865257\n",
            "16  0.047968  0.987974  0.736871      0.867645\n",
            "17  0.052738  0.988272  0.874885      0.870885\n",
            "18  0.057507  0.988742  0.791672      0.869350\n",
            "19  0.044750  0.989424  0.780855      0.868668\n",
            "20  0.052400  0.988528  0.812074      0.867986\n",
            "21  0.061944  0.988187  0.851040      0.870374\n",
            "22  0.049567  0.989893  0.823692      0.867303\n",
            "23  0.044683  0.990191  0.854025      0.868497\n",
            "24  0.041941  0.990916  0.856431      0.869180\n",
            "25  0.037361  0.991983  0.824449      0.867986\n",
            "26  0.033224  0.992537  0.858444      0.866451\n",
            "27  0.039392  0.991471  0.823878      0.865939\n",
            "28  0.038683  0.991855  0.945149      0.867133\n",
            "29  0.046539  0.990319  0.842191      0.865427\n",
            "30  0.041396  0.992025  0.842149      0.865598\n",
            "31  0.032081  0.992409  0.891714      0.865086\n",
            "32  0.031088  0.993177  0.861788      0.867474\n",
            "33  0.029841  0.993305  1.002109      0.864745\n",
            "34  0.038338  0.992580  0.882301      0.864404\n",
            "35  0.036473  0.992494  0.900170      0.863210\n",
            "36  0.035729  0.993134  0.877304      0.868838\n",
            "37  0.027156  0.993688  0.998345      0.869350\n",
            "38  0.034804  0.993177  0.917554      0.865939\n",
            "39  0.028229  0.994158  0.815498      0.869009\n"
          ]
        }
      ],
      "source": [
        "from tensorflow.keras.models import Sequential\n",
        "from tensorflow.keras.layers import Embedding, Dense, Bidirectional, Flatten, Dropout, Conv1D, GlobalMaxPooling1D\n",
        "#Build a regular cnn model and run on embedded text for 20 epoches\n",
        "def create_model_NN():\n",
        "    model = Sequential()\n",
        "    model.add(Embedding(vocab_size,64,input_length=len(train_padded[0])))\n",
        "    model.add(Flatten())\n",
        "    model.add(Dense(32, activation='relu'))\n",
        "    model.add(Dense(32, activation='relu'))\n",
        "    model.add(Dropout(0.25))\n",
        "    model.add(Dense(64, activation='relu'))\n",
        "    model.add(Dense(64, activation='relu'))\n",
        "    model.add(Dropout(0.25))\n",
        "    model.add(Dense(16, activation='softmax'))\n",
        "    model.compile(loss='categorical_crossentropy', optimizer = tf.optimizers.Adam(), metrics=['accuracy'])\n",
        "    return model\n",
        "model = create_model_NN()\n",
        "history = model.fit(x_train,y_train, epochs = 40, verbose = 1, validation_data = (x_test, y_test))\n",
        "hist = pd.DataFrame(history.history)\n",
        "print(hist)"
      ]
    },
    {
      "cell_type": "code",
      "execution_count": null,
      "metadata": {
        "colab": {
          "base_uri": "https://localhost:8080/",
          "height": 316
        },
        "id": "ciG2emK3rimx",
        "outputId": "2d9cd8dd-265c-423b-f30f-5fe0e0864a87"
      },
      "outputs": [
        {
          "output_type": "display_data",
          "data": {
            "text/plain": [
              "<Figure size 432x288 with 1 Axes>"
            ],
            "image/png": "[encoded data removed]"
          },
          "metadata": {
            "needs_background": "light"
          }
        }
      ],
      "source": [
        "plt.plot(history.history['loss'], label='training')\n",
        "plt.plot(history.history['val_loss'], label='testing')\n",
        "plt.title('Model Loss')\n",
        "plt.xlabel('Epoch')\n",
        "plt.ylabel('Loss')\n",
        "\n",
        "plt.legend(loc='lower right')\n",
        "plt.show()"
      ]
    },
    {
      "cell_type": "markdown",
      "metadata": {
        "id": "Yk-BwYmQ0fio"
      },
      "source": [
        "##CNN"
      ]
    },
    {
      "cell_type": "code",
      "execution_count": null,
      "metadata": {
        "id": "uLopEC4L0g0s"
      },
      "outputs": [],
      "source": [
        "from tensorflow.keras.layers import MaxPooling1D\n",
        "def create_model_CNN():\n",
        "    model = Sequential()\n",
        "    model.add(Embedding(vocab_size,64,input_length=len(train_padded[0])))\n",
        "\n",
        "    model.add(Conv1D(64,5,activation = \"relu\"))\n",
        "    model.add(Dropout(0.25))\n",
        "    model.add(MaxPooling1D())\n",
        "\n",
        "    model.add(Conv1D(64,5,activation = \"relu\"))\n",
        "    model.add(Dropout(0.25))\n",
        "\n",
        "    model.add(Flatten())\n",
        "    model.add(Dense(64, activation='relu'))\n",
        "    model.add(Dropout(0.25))\n",
        "    model.add(Dense(16, activation='softmax'))\n",
        "    model.compile(loss='categorical_crossentropy', optimizer = tf.optimizers.Adam(), metrics=['accuracy'])\n",
        "    return model"
      ]
    },
    {
      "cell_type": "code",
      "execution_count": null,
      "metadata": {
        "colab": {
          "base_uri": "https://localhost:8080/"
        },
        "id": "YKzwMITi0lDu",
        "outputId": "4bff0824-e0a4-4ffc-8e75-07df68a05bc5"
      },
      "outputs": [
        {
          "output_type": "stream",
          "name": "stdout",
          "text": [
            "Epoch 1/40\n",
            "733/733 [==============================] - 12s 7ms/step - loss: 1.7610 - accuracy: 0.4314 - val_loss: 0.7509 - val_accuracy: 0.7525\n",
            "Epoch 2/40\n",
            "733/733 [==============================] - 5s 6ms/step - loss: 0.6918 - accuracy: 0.7549 - val_loss: 0.4910 - val_accuracy: 0.8327\n",
            "Epoch 3/40\n",
            "733/733 [==============================] - 5s 6ms/step - loss: 0.4353 - accuracy: 0.8397 - val_loss: 0.4326 - val_accuracy: 0.8504\n",
            "Epoch 4/40\n",
            "733/733 [==============================] - 5s 6ms/step - loss: 0.3338 - accuracy: 0.8765 - val_loss: 0.4494 - val_accuracy: 0.8595\n",
            "Epoch 5/40\n",
            "733/733 [==============================] - 5s 7ms/step - loss: 0.2741 - accuracy: 0.8996 - val_loss: 0.4672 - val_accuracy: 0.8634\n",
            "Epoch 6/40\n",
            "733/733 [==============================] - 5s 6ms/step - loss: 0.2411 - accuracy: 0.9123 - val_loss: 0.4908 - val_accuracy: 0.8663\n",
            "Epoch 7/40\n",
            "733/733 [==============================] - 5s 6ms/step - loss: 0.2028 - accuracy: 0.9264 - val_loss: 0.4936 - val_accuracy: 0.8700\n",
            "Epoch 8/40\n",
            "733/733 [==============================] - 5s 6ms/step - loss: 0.1757 - accuracy: 0.9390 - val_loss: 0.5424 - val_accuracy: 0.8675\n",
            "Epoch 9/40\n",
            "733/733 [==============================] - 5s 6ms/step - loss: 0.1679 - accuracy: 0.9417 - val_loss: 0.5958 - val_accuracy: 0.8721\n",
            "Epoch 10/40\n",
            "733/733 [==============================] - 5s 6ms/step - loss: 0.1555 - accuracy: 0.9464 - val_loss: 0.5950 - val_accuracy: 0.8724\n",
            "Epoch 11/40\n",
            "733/733 [==============================] - 5s 6ms/step - loss: 0.1470 - accuracy: 0.9495 - val_loss: 0.6500 - val_accuracy: 0.8712\n",
            "Epoch 12/40\n",
            "733/733 [==============================] - 5s 6ms/step - loss: 0.1456 - accuracy: 0.9489 - val_loss: 0.6514 - val_accuracy: 0.8675\n",
            "Epoch 13/40\n",
            "733/733 [==============================] - 5s 6ms/step - loss: 0.1317 - accuracy: 0.9555 - val_loss: 0.7087 - val_accuracy: 0.8702\n",
            "Epoch 14/40\n",
            "733/733 [==============================] - 5s 6ms/step - loss: 0.1221 - accuracy: 0.9592 - val_loss: 0.6724 - val_accuracy: 0.8695\n",
            "Epoch 15/40\n",
            "733/733 [==============================] - 5s 6ms/step - loss: 0.1204 - accuracy: 0.9590 - val_loss: 0.7133 - val_accuracy: 0.8651\n",
            "Epoch 16/40\n",
            "733/733 [==============================] - 5s 6ms/step - loss: 0.1269 - accuracy: 0.9579 - val_loss: 0.7418 - val_accuracy: 0.8695\n",
            "Epoch 17/40\n",
            "733/733 [==============================] - 5s 6ms/step - loss: 0.1118 - accuracy: 0.9615 - val_loss: 0.7359 - val_accuracy: 0.8702\n",
            "Epoch 18/40\n",
            "733/733 [==============================] - 5s 6ms/step - loss: 0.1010 - accuracy: 0.9661 - val_loss: 0.7143 - val_accuracy: 0.8682\n",
            "Epoch 19/40\n",
            "733/733 [==============================] - 5s 6ms/step - loss: 0.1005 - accuracy: 0.9671 - val_loss: 0.7960 - val_accuracy: 0.8685\n",
            "Epoch 20/40\n",
            "733/733 [==============================] - 5s 6ms/step - loss: 0.1059 - accuracy: 0.9642 - val_loss: 0.7420 - val_accuracy: 0.8659\n",
            "Epoch 21/40\n",
            "733/733 [==============================] - 5s 6ms/step - loss: 0.1006 - accuracy: 0.9672 - val_loss: 0.7959 - val_accuracy: 0.8705\n",
            "Epoch 22/40\n",
            "733/733 [==============================] - 5s 6ms/step - loss: 0.1021 - accuracy: 0.9659 - val_loss: 0.7340 - val_accuracy: 0.8678\n",
            "Epoch 23/40\n",
            "733/733 [==============================] - 5s 6ms/step - loss: 0.0907 - accuracy: 0.9704 - val_loss: 0.7924 - val_accuracy: 0.8685\n",
            "Epoch 24/40\n",
            "733/733 [==============================] - 5s 6ms/step - loss: 0.0984 - accuracy: 0.9670 - val_loss: 0.7913 - val_accuracy: 0.8692\n",
            "Epoch 25/40\n",
            "733/733 [==============================] - 5s 6ms/step - loss: 0.0988 - accuracy: 0.9677 - val_loss: 0.8306 - val_accuracy: 0.8690\n",
            "Epoch 26/40\n",
            "733/733 [==============================] - 5s 6ms/step - loss: 0.0981 - accuracy: 0.9684 - val_loss: 0.7739 - val_accuracy: 0.8733\n",
            "Epoch 27/40\n",
            "733/733 [==============================] - 5s 6ms/step - loss: 0.1004 - accuracy: 0.9671 - val_loss: 0.7560 - val_accuracy: 0.8653\n",
            "Epoch 28/40\n",
            "733/733 [==============================] - 5s 6ms/step - loss: 0.0866 - accuracy: 0.9721 - val_loss: 0.8073 - val_accuracy: 0.8719\n",
            "Epoch 29/40\n",
            "733/733 [==============================] - 5s 7ms/step - loss: 0.0815 - accuracy: 0.9726 - val_loss: 0.7897 - val_accuracy: 0.8687\n",
            "Epoch 30/40\n",
            "733/733 [==============================] - 5s 7ms/step - loss: 0.0895 - accuracy: 0.9704 - val_loss: 0.8762 - val_accuracy: 0.8709\n",
            "Epoch 31/40\n",
            "733/733 [==============================] - 5s 6ms/step - loss: 0.0910 - accuracy: 0.9709 - val_loss: 0.8682 - val_accuracy: 0.8671\n",
            "Epoch 32/40\n",
            "733/733 [==============================] - 5s 6ms/step - loss: 0.0841 - accuracy: 0.9726 - val_loss: 0.8390 - val_accuracy: 0.8748\n",
            "Epoch 33/40\n",
            "733/733 [==============================] - 5s 6ms/step - loss: 0.0800 - accuracy: 0.9750 - val_loss: 0.8218 - val_accuracy: 0.8774\n",
            "Epoch 34/40\n",
            "733/733 [==============================] - 5s 6ms/step - loss: 0.0821 - accuracy: 0.9754 - val_loss: 0.8019 - val_accuracy: 0.8687\n",
            "Epoch 35/40\n",
            "733/733 [==============================] - 5s 6ms/step - loss: 0.0741 - accuracy: 0.9766 - val_loss: 0.9406 - val_accuracy: 0.8704\n",
            "Epoch 36/40\n",
            "733/733 [==============================] - 5s 6ms/step - loss: 0.0791 - accuracy: 0.9752 - val_loss: 0.7813 - val_accuracy: 0.8683\n",
            "Epoch 37/40\n",
            "733/733 [==============================] - 5s 6ms/step - loss: 0.0763 - accuracy: 0.9749 - val_loss: 0.7929 - val_accuracy: 0.8704\n",
            "Epoch 38/40\n",
            "733/733 [==============================] - 5s 6ms/step - loss: 0.0706 - accuracy: 0.9780 - val_loss: 0.8856 - val_accuracy: 0.8746\n",
            "Epoch 39/40\n",
            "733/733 [==============================] - 5s 6ms/step - loss: 0.0719 - accuracy: 0.9786 - val_loss: 0.8648 - val_accuracy: 0.8704\n",
            "Epoch 40/40\n",
            "733/733 [==============================] - 5s 6ms/step - loss: 0.0750 - accuracy: 0.9776 - val_loss: 0.8154 - val_accuracy: 0.8721\n",
            "        loss  accuracy  val_loss  val_accuracy\n",
            "0   1.760988  0.431362  0.750936      0.752516\n",
            "1   0.691790  0.754872  0.490983      0.832680\n",
            "2   0.435348  0.839652  0.432575      0.850418\n",
            "3   0.333778  0.876498  0.449391      0.859458\n",
            "4   0.274072  0.899569  0.467219      0.863381\n",
            "5   0.241050  0.912278  0.490811      0.866280\n",
            "6   0.202760  0.926436  0.493566      0.870032\n",
            "7   0.175747  0.939017  0.542432      0.867474\n",
            "8   0.167915  0.941746  0.595822      0.872079\n",
            "9   0.155451  0.946437  0.594962      0.872420\n",
            "10  0.146987  0.949507  0.650000      0.871226\n",
            "11  0.145583  0.948868  0.651388      0.867474\n",
            "12  0.131718  0.955478  0.708738      0.870203\n",
            "13  0.122119  0.959231  0.672360      0.869521\n",
            "14  0.120444  0.958975  0.713286      0.865086\n",
            "15  0.126892  0.957866  0.741799      0.869521\n",
            "16  0.111767  0.961491  0.735927      0.870203\n",
            "17  0.100967  0.966054  0.714285      0.868156\n",
            "18  0.100538  0.967120  0.796020      0.868497\n",
            "19  0.105883  0.964220  0.741951      0.865939\n",
            "20  0.100636  0.967248  0.795906      0.870544\n",
            "21  0.102087  0.965926  0.734023      0.867815\n",
            "22  0.090666  0.970404  0.792401      0.868497\n",
            "23  0.098377  0.967035  0.791348      0.869180\n",
            "24  0.098835  0.967675  0.830565      0.869009\n",
            "25  0.098129  0.968400  0.773893      0.873273\n",
            "26  0.100382  0.967120  0.756004      0.865257\n",
            "27  0.086574  0.972110  0.807338      0.871909\n",
            "28  0.081475  0.972621  0.789664      0.868668\n",
            "29  0.089503  0.970361  0.876193      0.870885\n",
            "30  0.091022  0.970873  0.868220      0.867133\n",
            "31  0.084115  0.972621  0.838966      0.874808\n",
            "32  0.080018  0.974967  0.821751      0.877367\n",
            "33  0.082142  0.975351  0.801930      0.868668\n",
            "34  0.074138  0.976630  0.940627      0.870374\n",
            "35  0.079106  0.975180  0.781278      0.868327\n",
            "36  0.076348  0.974924  0.792899      0.870374\n",
            "37  0.070556  0.977952  0.885563      0.874638\n",
            "38  0.071902  0.978634  0.864807      0.870374\n",
            "39  0.075040  0.977611  0.815428      0.872079\n"
          ]
        }
      ],
      "source": [
        "model = create_model_CNN()\n",
        "history = model.fit(x_train,y_train, epochs = 40, verbose = 1, validation_data = (x_test, y_test))\n",
        "hist = pd.DataFrame(history.history)\n",
        "print(hist)"
      ]
    },
    {
      "cell_type": "code",
      "execution_count": null,
      "metadata": {
        "colab": {
          "base_uri": "https://localhost:8080/",
          "height": 316
        },
        "id": "_1tICcNG0rny",
        "outputId": "13eecf84-c045-4a07-92ea-ec81a34c610f"
      },
      "outputs": [
        {
          "output_type": "display_data",
          "data": {
            "text/plain": [
              "<Figure size 432x288 with 1 Axes>"
            ],
            "image/png": "[encoded data removed]"
          },
          "metadata": {
            "needs_background": "light"
          }
        }
      ],
      "source": [
        "plt.plot(history.history['loss'], label='training')\n",
        "plt.plot(history.history['val_loss'], label='testing')\n",
        "plt.title('Model Loss')\n",
        "plt.xlabel('Epoch')\n",
        "plt.ylabel('Loss')\n",
        "\n",
        "plt.legend(loc='lower right')\n",
        "plt.show()"
      ]
    },
    {
      "cell_type": "markdown",
      "metadata": {
        "id": "oVyZjvx5nEJj"
      },
      "source": [
        "##LSTMs"
      ]
    },
    {
      "cell_type": "code",
      "execution_count": null,
      "metadata": {
        "id": "r5OZI1ZKce15"
      },
      "outputs": [],
      "source": [
        "#Build a RNN model\n",
        "from tensorflow.keras.models import Sequential\n",
        "from tensorflow.keras.layers import Embedding, Dense, Bidirectional, Flatten, Dropout, Conv1D, GlobalMaxPooling1D\n",
        "def create_model():\n",
        "    model = Sequential()\n",
        "    #apply embedding\n",
        "    model.add(Embedding(vocab_size,80,input_length=maxlen))\n",
        "    \n",
        "    model.add(Bidirectional(LSTM(230)))\n",
        "\n",
        "    model.add(Dense(32, activation='relu'))\n",
        "    model.add(Dense(32, activation='relu'))\n",
        "    model.add(Dropout(0.25))\n",
        "    model.add(Dense(64, activation='relu'))\n",
        "    model.add(Dropout(0.25))\n",
        "    model.add(Dense(64, activation='relu'))\n",
        "    \n",
        "    model.add(Dense(16, activation='softmax'))\n",
        "    model.compile(loss='categorical_crossentropy', optimizer = tf.optimizers.Adam(), metrics=['accuracy'])\n",
        "    return model"
      ]
    },
    {
      "cell_type": "code",
      "execution_count": null,
      "metadata": {
        "colab": {
          "base_uri": "https://localhost:8080/"
        },
        "id": "3GxWrh6LB72J",
        "outputId": "3ef36d7f-0b33-4fa0-ed9b-0dec57f1d5e1"
      },
      "outputs": [
        {
          "output_type": "stream",
          "name": "stdout",
          "text": [
            "Epoch 1/60\n",
            "733/733 [==============================] - 47s 59ms/step - loss: 2.5709 - accuracy: 0.1287 - val_loss: 2.1050 - val_accuracy: 0.2627\n",
            "Epoch 2/60\n",
            "733/733 [==============================] - 42s 57ms/step - loss: 1.7424 - accuracy: 0.3453 - val_loss: 1.3993 - val_accuracy: 0.4573\n",
            "Epoch 3/60\n",
            "733/733 [==============================] - 43s 58ms/step - loss: 1.3411 - accuracy: 0.4589 - val_loss: 1.3813 - val_accuracy: 0.4551\n",
            "Epoch 4/60\n",
            "733/733 [==============================] - 43s 59ms/step - loss: 1.1350 - accuracy: 0.5250 - val_loss: 1.0827 - val_accuracy: 0.5854\n",
            "Epoch 5/60\n",
            "733/733 [==============================] - 43s 59ms/step - loss: 1.0006 - accuracy: 0.5749 - val_loss: 0.9995 - val_accuracy: 0.6338\n",
            "Epoch 6/60\n",
            "733/733 [==============================] - 42s 58ms/step - loss: 0.8769 - accuracy: 0.6284 - val_loss: 0.9314 - val_accuracy: 0.6903\n",
            "Epoch 7/60\n",
            "733/733 [==============================] - 42s 58ms/step - loss: 0.7905 - accuracy: 0.6606 - val_loss: 0.9359 - val_accuracy: 0.6964\n",
            "Epoch 8/60\n",
            "733/733 [==============================] - 43s 59ms/step - loss: 0.7099 - accuracy: 0.6917 - val_loss: 0.9908 - val_accuracy: 0.6695\n",
            "Epoch 9/60\n",
            "733/733 [==============================] - 42s 58ms/step - loss: 0.6571 - accuracy: 0.7142 - val_loss: 0.9482 - val_accuracy: 0.7280\n",
            "Epoch 10/60\n",
            "733/733 [==============================] - 44s 59ms/step - loss: 0.6177 - accuracy: 0.7316 - val_loss: 0.8940 - val_accuracy: 0.7266\n",
            "Epoch 11/60\n",
            "733/733 [==============================] - 42s 58ms/step - loss: 0.5922 - accuracy: 0.7477 - val_loss: 0.8987 - val_accuracy: 0.7416\n",
            "Epoch 12/60\n",
            "733/733 [==============================] - 42s 58ms/step - loss: 0.5561 - accuracy: 0.7636 - val_loss: 0.8514 - val_accuracy: 0.7377\n",
            "Epoch 13/60\n",
            "733/733 [==============================] - 43s 59ms/step - loss: 0.5244 - accuracy: 0.7850 - val_loss: 0.8591 - val_accuracy: 0.7675\n",
            "Epoch 14/60\n",
            "733/733 [==============================] - 43s 59ms/step - loss: 0.4868 - accuracy: 0.7987 - val_loss: 0.9222 - val_accuracy: 0.7641\n",
            "Epoch 15/60\n",
            "733/733 [==============================] - 43s 58ms/step - loss: 0.4429 - accuracy: 0.8220 - val_loss: 0.9469 - val_accuracy: 0.7839\n",
            "Epoch 16/60\n",
            "733/733 [==============================] - 43s 58ms/step - loss: 0.4337 - accuracy: 0.8274 - val_loss: 0.9190 - val_accuracy: 0.8020\n",
            "Epoch 17/60\n",
            "733/733 [==============================] - 43s 59ms/step - loss: 0.3994 - accuracy: 0.8443 - val_loss: 0.9390 - val_accuracy: 0.7914\n",
            "Epoch 18/60\n",
            "733/733 [==============================] - 43s 58ms/step - loss: 0.3637 - accuracy: 0.8570 - val_loss: 0.9495 - val_accuracy: 0.7970\n",
            "Epoch 19/60\n",
            "733/733 [==============================] - 43s 59ms/step - loss: 0.3597 - accuracy: 0.8666 - val_loss: 0.9513 - val_accuracy: 0.7779\n",
            "Epoch 20/60\n",
            "733/733 [==============================] - 43s 59ms/step - loss: 0.3238 - accuracy: 0.8786 - val_loss: 1.0534 - val_accuracy: 0.7786\n",
            "Epoch 21/60\n",
            "733/733 [==============================] - 43s 58ms/step - loss: 0.3184 - accuracy: 0.8805 - val_loss: 1.0378 - val_accuracy: 0.8050\n",
            "Epoch 22/60\n",
            "733/733 [==============================] - 43s 59ms/step - loss: 0.2889 - accuracy: 0.8956 - val_loss: 1.0652 - val_accuracy: 0.7999\n",
            "Epoch 23/60\n",
            "733/733 [==============================] - 43s 58ms/step - loss: 0.2638 - accuracy: 0.9059 - val_loss: 1.0621 - val_accuracy: 0.8156\n",
            "Epoch 24/60\n",
            "733/733 [==============================] - 44s 59ms/step - loss: 0.2543 - accuracy: 0.9113 - val_loss: 1.0597 - val_accuracy: 0.8078\n",
            "Epoch 25/60\n",
            "733/733 [==============================] - 43s 58ms/step - loss: 0.2360 - accuracy: 0.9202 - val_loss: 1.1351 - val_accuracy: 0.8207\n",
            "Epoch 26/60\n",
            "733/733 [==============================] - 43s 59ms/step - loss: 0.2312 - accuracy: 0.9210 - val_loss: 1.1208 - val_accuracy: 0.8124\n",
            "Epoch 27/60\n",
            "733/733 [==============================] - 43s 58ms/step - loss: 0.2069 - accuracy: 0.9371 - val_loss: 1.1231 - val_accuracy: 0.7977\n",
            "Epoch 28/60\n",
            "733/733 [==============================] - 43s 59ms/step - loss: 0.1920 - accuracy: 0.9373 - val_loss: 1.1715 - val_accuracy: 0.8320\n",
            "Epoch 29/60\n",
            "733/733 [==============================] - 43s 58ms/step - loss: 0.1828 - accuracy: 0.9393 - val_loss: 1.1543 - val_accuracy: 0.8291\n",
            "Epoch 30/60\n",
            "733/733 [==============================] - 43s 58ms/step - loss: 0.1706 - accuracy: 0.9463 - val_loss: 1.2266 - val_accuracy: 0.7819\n",
            "Epoch 31/60\n",
            "733/733 [==============================] - 43s 59ms/step - loss: 0.1610 - accuracy: 0.9519 - val_loss: 1.2989 - val_accuracy: 0.8320\n",
            "Epoch 32/60\n",
            "733/733 [==============================] - 43s 58ms/step - loss: 0.1474 - accuracy: 0.9550 - val_loss: 1.2337 - val_accuracy: 0.8235\n",
            "Epoch 33/60\n",
            "733/733 [==============================] - 43s 59ms/step - loss: 0.1414 - accuracy: 0.9571 - val_loss: 1.2102 - val_accuracy: 0.8274\n",
            "Epoch 34/60\n",
            "733/733 [==============================] - 42s 58ms/step - loss: 0.1406 - accuracy: 0.9580 - val_loss: 1.2108 - val_accuracy: 0.8259\n",
            "Epoch 35/60\n",
            "733/733 [==============================] - 42s 58ms/step - loss: 0.1322 - accuracy: 0.9617 - val_loss: 1.2498 - val_accuracy: 0.8206\n",
            "Epoch 36/60\n",
            "733/733 [==============================] - 43s 59ms/step - loss: 0.1217 - accuracy: 0.9655 - val_loss: 1.2815 - val_accuracy: 0.8272\n",
            "Epoch 37/60\n",
            "733/733 [==============================] - 43s 58ms/step - loss: 0.1139 - accuracy: 0.9672 - val_loss: 1.2448 - val_accuracy: 0.8475\n",
            "Epoch 38/60\n",
            "733/733 [==============================] - 43s 59ms/step - loss: 0.1098 - accuracy: 0.9681 - val_loss: 1.2521 - val_accuracy: 0.8392\n",
            "Epoch 39/60\n",
            "733/733 [==============================] - 43s 58ms/step - loss: 0.0969 - accuracy: 0.9705 - val_loss: 1.2988 - val_accuracy: 0.8305\n",
            "Epoch 40/60\n",
            "733/733 [==============================] - 45s 61ms/step - loss: 0.1031 - accuracy: 0.9701 - val_loss: 1.3634 - val_accuracy: 0.8282\n",
            "Epoch 41/60\n",
            "733/733 [==============================] - 43s 58ms/step - loss: 0.1025 - accuracy: 0.9687 - val_loss: 1.2711 - val_accuracy: 0.8438\n",
            "Epoch 42/60\n",
            "733/733 [==============================] - 43s 59ms/step - loss: 0.0918 - accuracy: 0.9741 - val_loss: 1.3133 - val_accuracy: 0.8214\n",
            "Epoch 43/60\n",
            "733/733 [==============================] - 42s 58ms/step - loss: 0.0898 - accuracy: 0.9740 - val_loss: 1.3674 - val_accuracy: 0.8108\n",
            "Epoch 44/60\n",
            "733/733 [==============================] - 43s 58ms/step - loss: 0.0911 - accuracy: 0.9741 - val_loss: 1.2814 - val_accuracy: 0.8308\n",
            "Epoch 45/60\n",
            "733/733 [==============================] - 43s 59ms/step - loss: 0.0808 - accuracy: 0.9791 - val_loss: 1.3285 - val_accuracy: 0.8467\n",
            "Epoch 46/60\n",
            "733/733 [==============================] - 43s 58ms/step - loss: 0.0644 - accuracy: 0.9808 - val_loss: 1.4563 - val_accuracy: 0.8555\n",
            "Epoch 47/60\n",
            "733/733 [==============================] - 43s 59ms/step - loss: 0.0724 - accuracy: 0.9795 - val_loss: 1.4815 - val_accuracy: 0.8250\n",
            "Epoch 48/60\n",
            "733/733 [==============================] - 43s 58ms/step - loss: 0.0713 - accuracy: 0.9801 - val_loss: 1.3955 - val_accuracy: 0.8407\n",
            "Epoch 49/60\n",
            "733/733 [==============================] - 43s 58ms/step - loss: 0.0673 - accuracy: 0.9814 - val_loss: 1.4212 - val_accuracy: 0.8325\n",
            "Epoch 50/60\n",
            "733/733 [==============================] - 43s 59ms/step - loss: 0.0959 - accuracy: 0.9752 - val_loss: 1.4322 - val_accuracy: 0.8001\n",
            "Epoch 51/60\n",
            "733/733 [==============================] - 43s 59ms/step - loss: 0.0610 - accuracy: 0.9839 - val_loss: 1.4569 - val_accuracy: 0.8446\n",
            "Epoch 52/60\n",
            "733/733 [==============================] - 43s 58ms/step - loss: 0.0475 - accuracy: 0.9865 - val_loss: 1.5401 - val_accuracy: 0.8487\n",
            "Epoch 53/60\n",
            "733/733 [==============================] - 43s 59ms/step - loss: 0.0626 - accuracy: 0.9835 - val_loss: 1.4610 - val_accuracy: 0.8392\n",
            "Epoch 54/60\n",
            "733/733 [==============================] - 43s 59ms/step - loss: 0.0700 - accuracy: 0.9821 - val_loss: 1.3210 - val_accuracy: 0.8412\n",
            "Epoch 55/60\n",
            "733/733 [==============================] - 43s 59ms/step - loss: 0.0576 - accuracy: 0.9839 - val_loss: 1.3782 - val_accuracy: 0.8400\n",
            "Epoch 56/60\n",
            "733/733 [==============================] - 44s 59ms/step - loss: 0.0569 - accuracy: 0.9850 - val_loss: 1.4198 - val_accuracy: 0.8496\n",
            "Epoch 57/60\n",
            "733/733 [==============================] - 43s 58ms/step - loss: 0.0626 - accuracy: 0.9823 - val_loss: 1.4281 - val_accuracy: 0.8303\n",
            "Epoch 58/60\n",
            "733/733 [==============================] - 43s 58ms/step - loss: 0.0563 - accuracy: 0.9853 - val_loss: 1.3552 - val_accuracy: 0.8581\n",
            "Epoch 59/60\n",
            "733/733 [==============================] - 44s 60ms/step - loss: 0.0468 - accuracy: 0.9878 - val_loss: 1.4833 - val_accuracy: 0.8388\n",
            "Epoch 60/60\n",
            "733/733 [==============================] - 43s 59ms/step - loss: 0.0438 - accuracy: 0.9880 - val_loss: 1.4356 - val_accuracy: 0.8424\n"
          ]
        }
      ],
      "source": [
        "model = create_model()\n",
        "history = model.fit(x_train,y_train, epochs = 60, verbose = 1, validation_data = (x_test, y_test))\n",
        "hist = pd.DataFrame(history.history)"
      ]
    },
    {
      "cell_type": "code",
      "execution_count": null,
      "metadata": {
        "id": "95kBOAu1B-ag",
        "colab": {
          "base_uri": "https://localhost:8080/"
        },
        "outputId": "5df8c3af-d912-4bce-a034-666eac9486a7"
      },
      "outputs": [
        {
          "output_type": "stream",
          "name": "stdout",
          "text": [
            "        loss  accuracy  val_loss  val_accuracy\n",
            "0   2.570888  0.128662  2.105042      0.262664\n",
            "1   1.742422  0.345345  1.399342      0.457274\n",
            "2   1.341090  0.458868  1.381315      0.455057\n",
            "3   1.135030  0.525012  1.082728      0.585366\n",
            "4   1.000567  0.574950  0.999494      0.633805\n",
            "5   0.876912  0.628385  0.931444      0.690261\n",
            "6   0.790516  0.660583  0.935891      0.696401\n",
            "7   0.709935  0.691714  0.990790      0.669452\n",
            "8   0.657064  0.714188  0.948216      0.727955\n",
            "9   0.617666  0.731630  0.894043      0.726590\n",
            "10  0.592198  0.747708  0.898698      0.741600\n",
            "11  0.556125  0.763572  0.851421      0.737677\n",
            "12  0.524389  0.784980  0.859125      0.767525\n",
            "13  0.486796  0.798669  0.922195      0.764114\n",
            "14  0.442911  0.821954  0.946918      0.783899\n",
            "15  0.433742  0.827370  0.919034      0.801979\n",
            "16  0.399357  0.844258  0.938973      0.791404\n",
            "17  0.363714  0.856966  0.949513      0.797032\n",
            "18  0.359667  0.866647  0.951254      0.777929\n",
            "19  0.323767  0.878588  1.053440      0.778612\n",
            "20  0.318369  0.880464  1.037785      0.805049\n",
            "21  0.288906  0.895561  1.065210      0.799932\n",
            "22  0.263836  0.905923  1.062139      0.815623\n",
            "23  0.254335  0.911340  1.059679      0.807778\n",
            "24  0.236007  0.920167  1.135066      0.820740\n",
            "25  0.231234  0.921020  1.120824      0.812383\n",
            "26  0.206922  0.937140  1.123134      0.797714\n",
            "27  0.192006  0.937268  1.171539      0.831997\n",
            "28  0.182849  0.939272  1.154339      0.829098\n",
            "29  0.170610  0.946309  1.226560      0.781852\n",
            "30  0.161006  0.951896  1.298936      0.831997\n",
            "31  0.147354  0.954966  1.233663      0.823469\n",
            "32  0.141386  0.957098  1.210192      0.827392\n",
            "33  0.140591  0.957994  1.210816      0.825857\n",
            "34  0.132208  0.961747  1.249787      0.820570\n",
            "35  0.121665  0.965457  1.281541      0.827222\n",
            "36  0.113858  0.967205  1.244753      0.847518\n",
            "37  0.109759  0.968058  1.252120      0.839161\n",
            "38  0.096890  0.970532  1.298810      0.830462\n",
            "39  0.103087  0.970105  1.363362      0.828245\n",
            "40  0.102549  0.968741  1.271117      0.843766\n",
            "41  0.091841  0.974114  1.313291      0.821422\n",
            "42  0.089799  0.974029  1.367438      0.810848\n",
            "43  0.091125  0.974071  1.281438      0.830803\n",
            "44  0.080834  0.979146  1.328470      0.846666\n",
            "45  0.064401  0.980767  1.456346      0.855535\n",
            "46  0.072351  0.979487  1.481493      0.825004\n",
            "47  0.071348  0.980127  1.395501      0.840696\n",
            "48  0.067282  0.981449  1.421162      0.832509\n",
            "49  0.095909  0.975223  1.432172      0.800102\n",
            "50  0.060955  0.983923  1.456881      0.844619\n",
            "51  0.047455  0.986524  1.540067      0.848712\n",
            "52  0.062635  0.983539  1.460951      0.839161\n",
            "53  0.070001  0.982131  1.320971      0.841208\n",
            "54  0.057649  0.983923  1.378229      0.840014\n",
            "55  0.056950  0.985031  1.419774      0.849565\n",
            "56  0.062632  0.982302  1.428064      0.830292\n",
            "57  0.056326  0.985330  1.355229      0.858093\n",
            "58  0.046832  0.987803  1.483256      0.838820\n",
            "59  0.043814  0.987974  1.435610      0.842402\n"
          ]
        }
      ],
      "source": [
        "print(hist)"
      ]
    },
    {
      "cell_type": "code",
      "execution_count": null,
      "metadata": {
        "id": "vap1JEqfnvVR",
        "colab": {
          "base_uri": "https://localhost:8080/",
          "height": 316
        },
        "outputId": "33db1c3b-e830-4824-d302-7da712f30df7"
      },
      "outputs": [
        {
          "output_type": "display_data",
          "data": {
            "text/plain": [
              "<Figure size 432x288 with 1 Axes>"
            ],
            "image/png": "[encoded data removed]"
          },
          "metadata": {
            "needs_background": "light"
          }
        }
      ],
      "source": [
        "plt.plot(history.history['loss'], label='training')\n",
        "plt.plot(history.history['val_loss'], label='testing')\n",
        "plt.title('Model Loss')\n",
        "plt.xlabel('Epoch')\n",
        "plt.ylabel('Loss')\n",
        "\n",
        "plt.legend(loc='lower right')\n",
        "plt.show()"
      ]
    }
  ],
  "metadata": {
    "colab": {
      "provenance": []
    },
    "gpuClass": "standard",
    "kernelspec": {
      "display_name": "Python 3",
      "name": "python3"
    },
    "language_info": {
      "name": "python"
    },
    "accelerator": "GPU"
  },
  "nbformat": 4,
  "nbformat_minor": 0
}