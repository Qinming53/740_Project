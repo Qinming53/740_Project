{
  "cells": [
    {
      "cell_type": "code",
      "execution_count": null,
      "metadata": {
        "id": "LlUPIjh6Bext"
      },
      "outputs": [],
      "source": [
        "import numpy as np\n",
        "import pandas as pd\n",
        "import matplotlib.pyplot as plt\n",
        "import seaborn as sns\n",
        "from scipy.stats import f_oneway\n",
        "import time\n",
        "\n",
        "from os import path\n",
        "from PIL import Image\n",
        "import numpy as np\n",
        "import matplotlib.pyplot as plt\n",
        "from wordcloud import WordCloud, STOPWORDS\n",
        "\n",
        "import re\n",
        "import nltk.corpus\n",
        "from nltk.tokenize import word_tokenize\n",
        "from nltk.stem import PorterStemmer\n",
        "from nltk.corpus import stopwords\n",
        "from nltk.stem import WordNetLemmatizer"
      ]
    },
    {
      "cell_type": "code",
      "execution_count": null,
      "metadata": {
        "colab": {
          "base_uri": "https://localhost:8080/"
        },
        "id": "RVS01oy3Ee7Z",
        "outputId": "e5da63b1-e19a-43ec-d87e-13a48a4c65f1"
      },
      "outputs": [
        {
          "name": "stderr",
          "output_type": "stream",
          "text": [
            "[nltk_data] Downloading package stopwords to /root/nltk_data...\n",
            "[nltk_data]   Package stopwords is already up-to-date!\n",
            "[nltk_data] Downloading package punkt to /root/nltk_data...\n",
            "[nltk_data]   Package punkt is already up-to-date!\n",
            "[nltk_data] Downloading package wordnet to /root/nltk_data...\n",
            "[nltk_data]   Package wordnet is already up-to-date!\n",
            "[nltk_data] Downloading package omw-1.4 to /root/nltk_data...\n",
            "[nltk_data]   Package omw-1.4 is already up-to-date!\n"
          ]
        },
        {
          "data": {
            "text/plain": [
              "True"
            ]
          },
          "execution_count": 35,
          "metadata": {},
          "output_type": "execute_result"
        }
      ],
      "source": [
        "# Clean dataset\n",
        "nltk.download('stopwords')\n",
        "nltk.download('punkt')\n",
        "nltk.download('wordnet')\n",
        "nltk.download('omw-1.4')"
      ]
    },
    {
      "cell_type": "code",
      "execution_count": null,
      "metadata": {
        "id": "rG4_1qrNBgO4"
      },
      "outputs": [],
      "source": [
        "url = 'https://raw.githubusercontent.com/dashascience/-MBTI-Myers-Briggs-Personality-Type-Dataset/master/mbti_1.csv'\n",
        "df = pd.read_csv(url)"
      ]
    },
    {
      "cell_type": "code",
      "execution_count": null,
      "metadata": {
        "colab": {
          "base_uri": "https://localhost:8080/",
          "height": 206
        },
        "id": "j3djy1RgBhh5",
        "outputId": "e0d74525-765f-4838-cca5-5a0c8f4ce5fc"
      },
      "outputs": [
        {
          "data": {
            "text/html": [
              "\n",
              "  <div id=\"df-13e6ea56-b6cf-483b-9e45-e5f60a70e531\">\n",
              "    <div class=\"colab-df-container\">\n",
              "      <div>\n",
              "<style scoped>\n",
              "    .dataframe tbody tr th:only-of-type {\n",
              "        vertical-align: middle;\n",
              "    }\n",
              "\n",
              "    .dataframe tbody tr th {\n",
              "        vertical-align: top;\n",
              "    }\n",
              "\n",
              "    .dataframe thead th {\n",
              "        text-align: right;\n",
              "    }\n",
              "</style>\n",
              "<table border=\"1\" class=\"dataframe\">\n",
              "  <thead>\n",
              "    <tr style=\"text-align: right;\">\n",
              "      <th></th>\n",
              "      <th>type</th>\n",
              "      <th>posts</th>\n",
              "    </tr>\n",
              "  </thead>\n",
              "  <tbody>\n",
              "    <tr>\n",
              "      <th>0</th>\n",
              "      <td>INFJ</td>\n",
              "      <td>'http://www.youtube.com/watch?v=qsXHcwe3krw|||...</td>\n",
              "    </tr>\n",
              "    <tr>\n",
              "      <th>1</th>\n",
              "      <td>ENTP</td>\n",
              "      <td>'I'm finding the lack of me in these posts ver...</td>\n",
              "    </tr>\n",
              "    <tr>\n",
              "      <th>2</th>\n",
              "      <td>INTP</td>\n",
              "      <td>'Good one  _____   https://www.youtube.com/wat...</td>\n",
              "    </tr>\n",
              "    <tr>\n",
              "      <th>3</th>\n",
              "      <td>INTJ</td>\n",
              "      <td>'Dear INTP,   I enjoyed our conversation the o...</td>\n",
              "    </tr>\n",
              "    <tr>\n",
              "      <th>4</th>\n",
              "      <td>ENTJ</td>\n",
              "      <td>'You're fired.|||That's another silly misconce...</td>\n",
              "    </tr>\n",
              "  </tbody>\n",
              "</table>\n",
              "</div>\n",
              "      <button class=\"colab-df-convert\" onclick=\"convertToInteractive('df-13e6ea56-b6cf-483b-9e45-e5f60a70e531')\"\n",
              "              title=\"Convert this dataframe to an interactive table.\"\n",
              "              style=\"display:none;\">\n",
              "        \n",
              "  <svg xmlns=\"http://www.w3.org/2000/svg\" height=\"24px\"viewBox=\"0 0 24 24\"\n",
              "       width=\"24px\">\n",
              "    <path d=\"M0 0h24v24H0V0z\" fill=\"none\"/>\n",
              "    <path d=\"M18.56 5.44l.94 2.06.94-2.06 2.06-.94-2.06-.94-.94-2.06-.94 2.06-2.06.94zm-11 1L8.5 8.5l.94-2.06 2.06-.94-2.06-.94L8.5 2.5l-.94 2.06-2.06.94zm10 10l.94 2.06.94-2.06 2.06-.94-2.06-.94-.94-2.06-.94 2.06-2.06.94z\"/><path d=\"M17.41 7.96l-1.37-1.37c-.4-.4-.92-.59-1.43-.59-.52 0-1.04.2-1.43.59L10.3 9.45l-7.72 7.72c-.78.78-.78 2.05 0 2.83L4 21.41c.39.39.9.59 1.41.59.51 0 1.02-.2 1.41-.59l7.78-7.78 2.81-2.81c.8-.78.8-2.07 0-2.86zM5.41 20L4 18.59l7.72-7.72 1.47 1.35L5.41 20z\"/>\n",
              "  </svg>\n",
              "      </button>\n",
              "      \n",
              "  <style>\n",
              "    .colab-df-container {\n",
              "      display:flex;\n",
              "      flex-wrap:wrap;\n",
              "      gap: 12px;\n",
              "    }\n",
              "\n",
              "    .colab-df-convert {\n",
              "      background-color: #E8F0FE;\n",
              "      border: none;\n",
              "      border-radius: 50%;\n",
              "      cursor: pointer;\n",
              "      display: none;\n",
              "      fill: #1967D2;\n",
              "      height: 32px;\n",
              "      padding: 0 0 0 0;\n",
              "      width: 32px;\n",
              "    }\n",
              "\n",
              "    .colab-df-convert:hover {\n",
              "      background-color: #E2EBFA;\n",
              "      box-shadow: 0px 1px 2px rgba(60, 64, 67, 0.3), 0px 1px 3px 1px rgba(60, 64, 67, 0.15);\n",
              "      fill: #174EA6;\n",
              "    }\n",
              "\n",
              "    [theme=dark] .colab-df-convert {\n",
              "      background-color: #3B4455;\n",
              "      fill: #D2E3FC;\n",
              "    }\n",
              "\n",
              "    [theme=dark] .colab-df-convert:hover {\n",
              "      background-color: #434B5C;\n",
              "      box-shadow: 0px 1px 3px 1px rgba(0, 0, 0, 0.15);\n",
              "      filter: drop-shadow(0px 1px 2px rgba(0, 0, 0, 0.3));\n",
              "      fill: #FFFFFF;\n",
              "    }\n",
              "  </style>\n",
              "\n",
              "      <script>\n",
              "        const buttonEl =\n",
              "          document.querySelector('#df-13e6ea56-b6cf-483b-9e45-e5f60a70e531 button.colab-df-convert');\n",
              "        buttonEl.style.display =\n",
              "          google.colab.kernel.accessAllowed ? 'block' : 'none';\n",
              "\n",
              "        async function convertToInteractive(key) {\n",
              "          const element = document.querySelector('#df-13e6ea56-b6cf-483b-9e45-e5f60a70e531');\n",
              "          const dataTable =\n",
              "            await google.colab.kernel.invokeFunction('convertToInteractive',\n",
              "                                                     [key], {});\n",
              "          if (!dataTable) return;\n",
              "\n",
              "          const docLinkHtml = 'Like what you see? Visit the ' +\n",
              "            '<a target=\"_blank\" href=https://colab.research.google.com/notebooks/data_table.ipynb>data table notebook</a>'\n",
              "            + ' to learn more about interactive tables.';\n",
              "          element.innerHTML = '';\n",
              "          dataTable['output_type'] = 'display_data';\n",
              "          await google.colab.output.renderOutput(dataTable, element);\n",
              "          const docLink = document.createElement('div');\n",
              "          docLink.innerHTML = docLinkHtml;\n",
              "          element.appendChild(docLink);\n",
              "        }\n",
              "      </script>\n",
              "    </div>\n",
              "  </div>\n",
              "  "
            ],
            "text/plain": [
              "   type                                              posts\n",
              "0  INFJ  'http://www.youtube.com/watch?v=qsXHcwe3krw|||...\n",
              "1  ENTP  'I'm finding the lack of me in these posts ver...\n",
              "2  INTP  'Good one  _____   https://www.youtube.com/wat...\n",
              "3  INTJ  'Dear INTP,   I enjoyed our conversation the o...\n",
              "4  ENTJ  'You're fired.|||That's another silly misconce..."
            ]
          },
          "execution_count": 37,
          "metadata": {},
          "output_type": "execute_result"
        }
      ],
      "source": [
        "df.head()"
      ]
    },
    {
      "cell_type": "code",
      "execution_count": null,
      "metadata": {
        "colab": {
          "base_uri": "https://localhost:8080/",
          "height": 112
        },
        "id": "VV65JsyxBkJB",
        "outputId": "45aea7c2-55c6-433b-d106-f8bc792bea32"
      },
      "outputs": [
        {
          "data": {
            "text/html": [
              "<style type=\"text/css\">\n",
              "#T_c8b76_row0_col1, #T_c8b76_row0_col2, #T_c8b76_row0_col3, #T_c8b76_row1_col2, #T_c8b76_row1_col3 {\n",
              "  background-color: #66c2a5;\n",
              "  color: #000000;\n",
              "}\n",
              "#T_c8b76_row1_col1 {\n",
              "  background-color: #b3b3b3;\n",
              "  color: #000000;\n",
              "}\n",
              "</style>\n",
              "<table id=\"T_c8b76_\" class=\"dataframe\">\n",
              "  <thead>\n",
              "    <tr>\n",
              "      <th class=\"blank level0\" >&nbsp;</th>\n",
              "      <th class=\"col_heading level0 col0\" >Data Type</th>\n",
              "      <th class=\"col_heading level0 col1\" >Unique Values</th>\n",
              "      <th class=\"col_heading level0 col2\" >Null Values</th>\n",
              "      <th class=\"col_heading level0 col3\" >% null Values</th>\n",
              "    </tr>\n",
              "  </thead>\n",
              "  <tbody>\n",
              "    <tr>\n",
              "      <th id=\"T_c8b76_level0_row0\" class=\"row_heading level0 row0\" >type</th>\n",
              "      <td id=\"T_c8b76_row0_col0\" class=\"data row0 col0\" >object</td>\n",
              "      <td id=\"T_c8b76_row0_col1\" class=\"data row0 col1\" >16</td>\n",
              "      <td id=\"T_c8b76_row0_col2\" class=\"data row0 col2\" >0</td>\n",
              "      <td id=\"T_c8b76_row0_col3\" class=\"data row0 col3\" >0.000000</td>\n",
              "    </tr>\n",
              "    <tr>\n",
              "      <th id=\"T_c8b76_level0_row1\" class=\"row_heading level0 row1\" >posts</th>\n",
              "      <td id=\"T_c8b76_row1_col0\" class=\"data row1 col0\" >object</td>\n",
              "      <td id=\"T_c8b76_row1_col1\" class=\"data row1 col1\" >8675</td>\n",
              "      <td id=\"T_c8b76_row1_col2\" class=\"data row1 col2\" >0</td>\n",
              "      <td id=\"T_c8b76_row1_col3\" class=\"data row1 col3\" >0.000000</td>\n",
              "    </tr>\n",
              "  </tbody>\n",
              "</table>\n"
            ],
            "text/plain": [
              "<pandas.io.formats.style.Styler at 0x7f704a67ef10>"
            ]
          },
          "execution_count": 38,
          "metadata": {},
          "output_type": "execute_result"
        }
      ],
      "source": [
        "# checking the types of varibles in the dataset(int,float,object) and also looking at null values\n",
        "dtypes=pd.DataFrame(df.dtypes,columns=[\"Data Type\"])\n",
        "dtypes[\"Unique Values\"]=df.nunique()\n",
        "dtypes[\"Null Values\"]=df.isnull().sum()\n",
        "dtypes[\"% null Values\"]=df.isnull().sum()/len(df)\n",
        "dtypes.style.background_gradient(cmap='Set2',axis=0)"
      ]
    },
    {
      "cell_type": "code",
      "execution_count": null,
      "metadata": {
        "colab": {
          "base_uri": "https://localhost:8080/"
        },
        "id": "-d5EgvSDB7Z4",
        "outputId": "89a3f4ae-ddc9-42d8-b49c-a5b7a38b1454"
      },
      "outputs": [
        {
          "name": "stdout",
          "output_type": "stream",
          "text": [
            "[]\n",
            "[]\n",
            "['enfp', 'intj', 'moments', 'sportscenter', 'top', 'ten', 'plays', 'pranks']\n",
            "['lifechanging', 'experience', 'life']\n",
            "['repeat', 'today']\n",
            "['may', 'perc', 'experience', 'immerse']\n",
            "['last', 'thing', 'infj', 'friend', 'posted', 'facebook', 'committing', 'suicide', 'next', 'day', 'rest', 'peace']\n",
            "['hello', 'enfj7', 'sorry', 'hear', 'distress', 'natural', 'relationship', 'perfection', 'time', 'every', 'moment', 'existence', 'try', 'figure', 'hard', 'times', 'times', 'growth']\n",
            "['84389', '84390']\n",
            "['welcome', 'stuff']\n",
            "['game', 'set', 'match']\n",
            "['prozac', 'wellbrutin', 'least', 'thirty', 'minutes', 'moving', 'legs', 'dont', 'mean', 'moving', 'sitting', 'desk', 'chair', 'weed', 'moderation', 'maybe', 'try', 'edibles', 'healthier', 'alternative']\n",
            "['basically', 'come', 'three', 'items', 'youve', 'determined', 'type', 'whichever', 'types', 'want', 'would', 'likely', 'use', 'given', 'types', 'cognitive', 'functions', 'whatnot', 'left']\n",
            "['things', 'moderation', 'sims', 'indeed', 'video', 'game', 'good', 'one', 'note', 'good', 'one', 'somewhat', 'subjective', 'completely', 'promoting', 'death', 'given', 'sim']\n",
            "['dear', 'enfp', 'favorite', 'video', 'games', 'growing', 'current', 'favorite', 'video', 'games', 'cool']\n",
            "[]\n",
            "['appears', 'late', 'sad']\n",
            "['theres', 'someone', 'everyone']\n",
            "['wait', 'thought', 'confidence', 'good', 'thing']\n",
            "['cherish', 'time', 'solitude', 'bc', 'revel', 'within', 'inner', 'world', 'whereas', 'time', 'id', 'workin', 'enjoy', 'time', 'dont', 'worry', 'people', 'always', 'around']\n",
            "['yo', 'entp', 'ladies', 'youre', 'complimentary', 'personalitywell', 'hey']\n",
            "['main', 'social', 'outlet', 'xbox', 'live', 'conversations', 'even', 'verbally', 'fatigue', 'quickly']\n",
            "['really', 'dig', 'part', '146', '250']\n",
            "[]\n",
            "['banned', 'thread', 'requires']\n",
            "['get', 'high', 'backyard', 'roast', 'eat', 'marshmellows', 'backyard', 'conversing', 'something', 'intellectual', 'followed', 'massages', 'kisses']\n",
            "[]\n",
            "[]\n",
            "[]\n",
            "['banned', 'many', 'bs', 'sentence', 'could', 'think', 'b']\n",
            "['banned', 'watching', 'movies', 'corner', 'dunces']\n",
            "['banned', 'health', 'class', 'clearly', 'taught', 'nothing', 'peer', 'pressure']\n",
            "['banned', 'whole', 'host', 'reasons']\n",
            "[]\n",
            "['1', 'two', 'baby', 'deer', 'left', 'right', 'munching', 'beetle', 'middle', '2', 'using', 'blood', 'two', 'cavemen', 'diary', 'todays', 'latest', 'happenings', 'designated', 'cave', 'diary', 'wall', '3', 'see']\n",
            "['pokemon', 'world', 'infj', 'society', 'everyone', 'becomes', 'optimist']\n",
            "['49142']\n",
            "[]\n",
            "[]\n",
            "[]\n",
            "[]\n",
            "['artists', 'artists', 'draw', 'idea', 'counts', 'forming', 'something', 'like', 'signature']\n",
            "['welcome', 'robot', 'ranks', 'person', 'downed', 'selfesteem', 'cuz', 'im', 'avid', 'signature', 'artist', 'like', 'proud']\n",
            "['banned', 'taking', 'room', 'bed', 'ya', 'got', 'ta', 'learn', 'share', 'roaches']\n",
            "[]\n",
            "['banned', 'much', 'thundering', 'grumbling', 'kind', 'storm', 'yep']\n",
            "['ahh', 'old', 'high', 'school', 'music', 'havent', 'heard', 'ages']\n",
            "['failed', 'public', 'speaking', 'class', 'years', 'ago', 'ive', 'sort', 'learned', 'could', 'better', 'position', 'big', 'part', 'failure', 'overloading']\n",
            "['like', 'persons', 'mentality', 'hes', 'confirmed', 'intj', 'way']\n",
            "['move', 'denver', 'area', 'start', 'new', 'life']\n"
          ]
        }
      ],
      "source": [
        "# normalize, remove stop words and url links.\n",
        "lemmatizer = WordNetLemmatizer()\n",
        "stop_words = set(stopwords.words('english'))\n",
        "clean_text1=[]\n",
        "for i in df.posts[0].split('|||'):\n",
        "  i=i.lower()\n",
        "  i = re.sub(r\"(@\\[A-Za-z0-9]+)|([^0-9A-Za-z \\t])|(\\w+:\\/\\/\\S+)|^rt|http.+?\", \"\", i)\n",
        "  i_tokens = word_tokenize(i)\n",
        "  filtered_i = [w for w in i_tokens if not w in stop_words]\n",
        "  clean_text1.append(filtered_i)\n",
        "  print(filtered_i)\n"
      ]
    },
    {
      "cell_type": "code",
      "execution_count": null,
      "metadata": {
        "colab": {
          "base_uri": "https://localhost:8080/"
        },
        "id": "Irivzkw5F5-t",
        "outputId": "7258286e-3a3b-405a-a26f-9dbdd54fef3e"
      },
      "outputs": [
        {
          "name": "stderr",
          "output_type": "stream",
          "text": [
            "[nltk_data] Downloading package stopwords to /root/nltk_data...\n",
            "[nltk_data]   Package stopwords is already up-to-date!\n"
          ]
        }
      ],
      "source": [
        "stopwords = nltk.corpus.stopwords.words('english')\n",
        "lemmatizer = WordNetLemmatizer()\n",
        "nltk.download('stopwords')\n",
        "mbti = [\"intj\",\"intp\",\"infj\", \"infp\",\"istj\",\"istp\",\"isfj\",\"isfp\",\"entj\",\"entp\", \"enfj\", \"enfp\",\"estj\", \"estp\",\"esfj\",\"esfp\",\"si\",\"ni\",\"ti\",\"fi\",\"se\",\n",
        "        \"ne\",\"te\",\"fe\",\"nt\",\"nf\",\"le\",\"mbti\",\"sp\",\"sj\",\"sf\",\"st\",\"in\",\"is\",\"en\",\"es\"]\n",
        "data_length=[]\n",
        "lemmatizer=WordNetLemmatizer()\n",
        "clean_text1=[]\n",
        "for i in range(0,len(df.posts)):\n",
        "  doc = re.sub(r\"(@\\[A-Za-z0-9]+)|([^0-9A-Za-z \\t])|(\\w+:\\/\\/\\S+)|^rt|http.+?\", \"\", df.posts[i])\n",
        "  doc = doc.lower()\n",
        "  doc = doc.split()\n",
        "  doc = [word for word in doc if not word in mbti]\n",
        "  doc = [lemmatizer.lemmatize(word) for word in doc if not word in set(stopwords)]\n",
        "  doc = ' '.join(doc)\n",
        "  clean_text1.append(doc)"
      ]
    },
    {
      "cell_type": "code",
      "execution_count": null,
      "metadata": {
        "id": "sufdYTLydP2G"
      },
      "outputs": [],
      "source": [
        "types = np.unique(df.type.values)\n",
        "\n",
        "def get_type_index(string):\n",
        "    return list(types).index(string)\n",
        "\n",
        "df['type_index'] = df['type'].apply(get_type_index)\n",
        "# Find the original posts column\n",
        "n = df.columns[1]\n",
        "\n",
        "# Drop that column\n",
        "df.drop(n, axis = 1, inplace = True)\n",
        "\n",
        "# Put cleaned posts in place\n",
        "df[n] = clean_text1"
      ]
    },
    {
      "cell_type": "code",
      "execution_count": null,
      "metadata": {
        "id": "N6tZKNpy0DoC"
      },
      "outputs": [],
      "source": [
        "df['tokenized_cleantexts'] = df.apply(lambda row: nltk.word_tokenize(row['posts']), axis=1)"
      ]
    },
    {
      "cell_type": "code",
      "execution_count": null,
      "metadata": {
        "colab": {
          "base_uri": "https://localhost:8080/",
          "height": 424
        },
        "id": "fBA_C48pegIj",
        "outputId": "dde487c9-e01a-499b-acfa-24983d5d99aa"
      },
      "outputs": [
        {
          "data": {
            "text/html": [
              "\n",
              "  <div id=\"df-274b3df2-91d4-4a4f-9698-98a3ca7b69a8\">\n",
              "    <div class=\"colab-df-container\">\n",
              "      <div>\n",
              "<style scoped>\n",
              "    .dataframe tbody tr th:only-of-type {\n",
              "        vertical-align: middle;\n",
              "    }\n",
              "\n",
              "    .dataframe tbody tr th {\n",
              "        vertical-align: top;\n",
              "    }\n",
              "\n",
              "    .dataframe thead th {\n",
              "        text-align: right;\n",
              "    }\n",
              "</style>\n",
              "<table border=\"1\" class=\"dataframe\">\n",
              "  <thead>\n",
              "    <tr style=\"text-align: right;\">\n",
              "      <th></th>\n",
              "      <th>type</th>\n",
              "      <th>type_index</th>\n",
              "      <th>posts</th>\n",
              "      <th>tokenized_cleantexts</th>\n",
              "    </tr>\n",
              "  </thead>\n",
              "  <tbody>\n",
              "    <tr>\n",
              "      <th>0</th>\n",
              "      <td>INFJ</td>\n",
              "      <td>8</td>\n",
              "      <td>moment sportscenter top ten play prankswhat li...</td>\n",
              "      <td>[moment, sportscenter, top, ten, play, pranksw...</td>\n",
              "    </tr>\n",
              "    <tr>\n",
              "      <th>1</th>\n",
              "      <td>ENTP</td>\n",
              "      <td>3</td>\n",
              "      <td>im finding lack post alarmingsex boring positi...</td>\n",
              "      <td>[im, finding, lack, post, alarmingsex, boring,...</td>\n",
              "    </tr>\n",
              "    <tr>\n",
              "      <th>2</th>\n",
              "      <td>INTP</td>\n",
              "      <td>11</td>\n",
              "      <td>good one course say know thats blessing cursed...</td>\n",
              "      <td>[good, one, course, say, know, thats, blessing...</td>\n",
              "    </tr>\n",
              "    <tr>\n",
              "      <th>3</th>\n",
              "      <td>INTJ</td>\n",
              "      <td>10</td>\n",
              "      <td>dear enjoyed conversation day esoteric gabbing...</td>\n",
              "      <td>[dear, enjoyed, conversation, day, esoteric, g...</td>\n",
              "    </tr>\n",
              "    <tr>\n",
              "      <th>4</th>\n",
              "      <td>ENTJ</td>\n",
              "      <td>2</td>\n",
              "      <td>youre firedthats another silly misconception a...</td>\n",
              "      <td>[youre, firedthats, another, silly, misconcept...</td>\n",
              "    </tr>\n",
              "    <tr>\n",
              "      <th>...</th>\n",
              "      <td>...</td>\n",
              "      <td>...</td>\n",
              "      <td>...</td>\n",
              "      <td>...</td>\n",
              "    </tr>\n",
              "    <tr>\n",
              "      <th>8670</th>\n",
              "      <td>ISFP</td>\n",
              "      <td>13</td>\n",
              "      <td>always think cat doms reason website become ne...</td>\n",
              "      <td>[always, think, cat, doms, reason, website, be...</td>\n",
              "    </tr>\n",
              "    <tr>\n",
              "      <th>8671</th>\n",
              "      <td>ENFP</td>\n",
              "      <td>1</td>\n",
              "      <td>soif thread already exists someplace else heck...</td>\n",
              "      <td>[soif, thread, already, exists, someplace, els...</td>\n",
              "    </tr>\n",
              "    <tr>\n",
              "      <th>8672</th>\n",
              "      <td>INTP</td>\n",
              "      <td>11</td>\n",
              "      <td>many question thing would take purple pill pic...</td>\n",
              "      <td>[many, question, thing, would, take, purple, p...</td>\n",
              "    </tr>\n",
              "    <tr>\n",
              "      <th>8673</th>\n",
              "      <td>INFP</td>\n",
              "      <td>9</td>\n",
              "      <td>conflicted right come wanting child honestly m...</td>\n",
              "      <td>[conflicted, right, come, wanting, child, hone...</td>\n",
              "    </tr>\n",
              "    <tr>\n",
              "      <th>8674</th>\n",
              "      <td>INFP</td>\n",
              "      <td>9</td>\n",
              "      <td>long since personalitycafe although doesnt see...</td>\n",
              "      <td>[long, since, personalitycafe, although, doesn...</td>\n",
              "    </tr>\n",
              "  </tbody>\n",
              "</table>\n",
              "<p>8675 rows × 4 columns</p>\n",
              "</div>\n",
              "      <button class=\"colab-df-convert\" onclick=\"convertToInteractive('df-274b3df2-91d4-4a4f-9698-98a3ca7b69a8')\"\n",
              "              title=\"Convert this dataframe to an interactive table.\"\n",
              "              style=\"display:none;\">\n",
              "        \n",
              "  <svg xmlns=\"http://www.w3.org/2000/svg\" height=\"24px\"viewBox=\"0 0 24 24\"\n",
              "       width=\"24px\">\n",
              "    <path d=\"M0 0h24v24H0V0z\" fill=\"none\"/>\n",
              "    <path d=\"M18.56 5.44l.94 2.06.94-2.06 2.06-.94-2.06-.94-.94-2.06-.94 2.06-2.06.94zm-11 1L8.5 8.5l.94-2.06 2.06-.94-2.06-.94L8.5 2.5l-.94 2.06-2.06.94zm10 10l.94 2.06.94-2.06 2.06-.94-2.06-.94-.94-2.06-.94 2.06-2.06.94z\"/><path d=\"M17.41 7.96l-1.37-1.37c-.4-.4-.92-.59-1.43-.59-.52 0-1.04.2-1.43.59L10.3 9.45l-7.72 7.72c-.78.78-.78 2.05 0 2.83L4 21.41c.39.39.9.59 1.41.59.51 0 1.02-.2 1.41-.59l7.78-7.78 2.81-2.81c.8-.78.8-2.07 0-2.86zM5.41 20L4 18.59l7.72-7.72 1.47 1.35L5.41 20z\"/>\n",
              "  </svg>\n",
              "      </button>\n",
              "      \n",
              "  <style>\n",
              "    .colab-df-container {\n",
              "      display:flex;\n",
              "      flex-wrap:wrap;\n",
              "      gap: 12px;\n",
              "    }\n",
              "\n",
              "    .colab-df-convert {\n",
              "      background-color: #E8F0FE;\n",
              "      border: none;\n",
              "      border-radius: 50%;\n",
              "      cursor: pointer;\n",
              "      display: none;\n",
              "      fill: #1967D2;\n",
              "      height: 32px;\n",
              "      padding: 0 0 0 0;\n",
              "      width: 32px;\n",
              "    }\n",
              "\n",
              "    .colab-df-convert:hover {\n",
              "      background-color: #E2EBFA;\n",
              "      box-shadow: 0px 1px 2px rgba(60, 64, 67, 0.3), 0px 1px 3px 1px rgba(60, 64, 67, 0.15);\n",
              "      fill: #174EA6;\n",
              "    }\n",
              "\n",
              "    [theme=dark] .colab-df-convert {\n",
              "      background-color: #3B4455;\n",
              "      fill: #D2E3FC;\n",
              "    }\n",
              "\n",
              "    [theme=dark] .colab-df-convert:hover {\n",
              "      background-color: #434B5C;\n",
              "      box-shadow: 0px 1px 3px 1px rgba(0, 0, 0, 0.15);\n",
              "      filter: drop-shadow(0px 1px 2px rgba(0, 0, 0, 0.3));\n",
              "      fill: #FFFFFF;\n",
              "    }\n",
              "  </style>\n",
              "\n",
              "      <script>\n",
              "        const buttonEl =\n",
              "          document.querySelector('#df-274b3df2-91d4-4a4f-9698-98a3ca7b69a8 button.colab-df-convert');\n",
              "        buttonEl.style.display =\n",
              "          google.colab.kernel.accessAllowed ? 'block' : 'none';\n",
              "\n",
              "        async function convertToInteractive(key) {\n",
              "          const element = document.querySelector('#df-274b3df2-91d4-4a4f-9698-98a3ca7b69a8');\n",
              "          const dataTable =\n",
              "            await google.colab.kernel.invokeFunction('convertToInteractive',\n",
              "                                                     [key], {});\n",
              "          if (!dataTable) return;\n",
              "\n",
              "          const docLinkHtml = 'Like what you see? Visit the ' +\n",
              "            '<a target=\"_blank\" href=https://colab.research.google.com/notebooks/data_table.ipynb>data table notebook</a>'\n",
              "            + ' to learn more about interactive tables.';\n",
              "          element.innerHTML = '';\n",
              "          dataTable['output_type'] = 'display_data';\n",
              "          await google.colab.output.renderOutput(dataTable, element);\n",
              "          const docLink = document.createElement('div');\n",
              "          docLink.innerHTML = docLinkHtml;\n",
              "          element.appendChild(docLink);\n",
              "        }\n",
              "      </script>\n",
              "    </div>\n",
              "  </div>\n",
              "  "
            ],
            "text/plain": [
              "      type  type_index                                              posts  \\\n",
              "0     INFJ           8  moment sportscenter top ten play prankswhat li...   \n",
              "1     ENTP           3  im finding lack post alarmingsex boring positi...   \n",
              "2     INTP          11  good one course say know thats blessing cursed...   \n",
              "3     INTJ          10  dear enjoyed conversation day esoteric gabbing...   \n",
              "4     ENTJ           2  youre firedthats another silly misconception a...   \n",
              "...    ...         ...                                                ...   \n",
              "8670  ISFP          13  always think cat doms reason website become ne...   \n",
              "8671  ENFP           1  soif thread already exists someplace else heck...   \n",
              "8672  INTP          11  many question thing would take purple pill pic...   \n",
              "8673  INFP           9  conflicted right come wanting child honestly m...   \n",
              "8674  INFP           9  long since personalitycafe although doesnt see...   \n",
              "\n",
              "                                   tokenized_cleantexts  \n",
              "0     [moment, sportscenter, top, ten, play, pranksw...  \n",
              "1     [im, finding, lack, post, alarmingsex, boring,...  \n",
              "2     [good, one, course, say, know, thats, blessing...  \n",
              "3     [dear, enjoyed, conversation, day, esoteric, g...  \n",
              "4     [youre, firedthats, another, silly, misconcept...  \n",
              "...                                                 ...  \n",
              "8670  [always, think, cat, doms, reason, website, be...  \n",
              "8671  [soif, thread, already, exists, someplace, els...  \n",
              "8672  [many, question, thing, would, take, purple, p...  \n",
              "8673  [conflicted, right, come, wanting, child, hone...  \n",
              "8674  [long, since, personalitycafe, although, doesn...  \n",
              "\n",
              "[8675 rows x 4 columns]"
            ]
          },
          "execution_count": 43,
          "metadata": {},
          "output_type": "execute_result"
        }
      ],
      "source": [
        "df"
      ]
    },
    {
      "cell_type": "code",
      "execution_count": null,
      "metadata": {
        "colab": {
          "base_uri": "https://localhost:8080/"
        },
        "id": "rSypLhOByBbr",
        "outputId": "02febe5c-cfa0-4b3b-95de-deda28ef037a"
      },
      "outputs": [
        {
          "name": "stdout",
          "output_type": "stream",
          "text": [
            "type_index              542.1875\n",
            "posts                   542.1875\n",
            "tokenized_cleantexts    542.1875\n",
            "dtype: float64\n",
            "      type_index  posts  tokenized_cleantexts\n",
            "type                                         \n",
            "ENFJ         190    190                   190\n",
            "ENFP         675    675                   675\n",
            "ENTJ         231    231                   231\n",
            "ENTP         685    685                   685\n",
            "ESFJ          42     42                    42\n",
            "ESFP          48     48                    48\n",
            "ESTJ          39     39                    39\n",
            "ESTP          89     89                    89\n",
            "INFJ        1470   1470                  1470\n",
            "INFP        1832   1832                  1832\n",
            "INTJ        1091   1091                  1091\n",
            "INTP        1304   1304                  1304\n",
            "ISFJ         166    166                   166\n",
            "ISFP         271    271                   271\n",
            "ISTJ         205    205                   205\n",
            "ISTP         337    337                   337\n"
          ]
        }
      ],
      "source": [
        "#Shows posts by group, we can see that the distribution is unbalanced\n",
        "#ESTJ has the lowest number of posts which is 39\n",
        "print(df.groupby(['type']).count().mean())\n",
        "print(df.groupby(['type']).count())"
      ]
    },
    {
      "cell_type": "code",
      "execution_count": null,
      "metadata": {
        "id": "hmcYYh33sWY_"
      },
      "outputs": [],
      "source": [
        "temp_list=[]\n",
        "for i in df.type:\n",
        "  temp=[]\n",
        "  if i[0]=='I':\n",
        "    temp.append(1)\n",
        "  else:\n",
        "    temp.append(0)\n",
        "\n",
        "  if i[1]=='S':\n",
        "    temp.append(1)\n",
        "  else:\n",
        "    temp.append(0)\n",
        "\n",
        "  if i[2]=='T':\n",
        "    temp.append(1)\n",
        "  else:\n",
        "    temp.append(0)\n",
        "\n",
        "  if i[3]=='P':\n",
        "    temp.append(1)\n",
        "  else:\n",
        "    temp.append(0)\n",
        "\n",
        "  temp_list.append(temp)"
      ]
    },
    {
      "cell_type": "code",
      "execution_count": null,
      "metadata": {
        "id": "jeA_1eZ1w1NW"
      },
      "outputs": [],
      "source": [
        "TempDF=pd.DataFrame(temp_list)\n",
        "TempDF.columns=['I/E','S/N','T/F','P/J']\n",
        "final_df = pd.concat([df, TempDF], axis=1)"
      ]
    },
    {
      "cell_type": "code",
      "execution_count": null,
      "metadata": {
        "colab": {
          "base_uri": "https://localhost:8080/",
          "height": 424
        },
        "id": "hRKaTgc6zCoe",
        "outputId": "13ce58ad-7041-4950-9935-ef243e3c6f13"
      },
      "outputs": [
        {
          "data": {
            "text/html": [
              "\n",
              "  <div id=\"df-8b1fa9a4-08b4-4392-bff5-b1edee430a1a\">\n",
              "    <div class=\"colab-df-container\">\n",
              "      <div>\n",
              "<style scoped>\n",
              "    .dataframe tbody tr th:only-of-type {\n",
              "        vertical-align: middle;\n",
              "    }\n",
              "\n",
              "    .dataframe tbody tr th {\n",
              "        vertical-align: top;\n",
              "    }\n",
              "\n",
              "    .dataframe thead th {\n",
              "        text-align: right;\n",
              "    }\n",
              "</style>\n",
              "<table border=\"1\" class=\"dataframe\">\n",
              "  <thead>\n",
              "    <tr style=\"text-align: right;\">\n",
              "      <th></th>\n",
              "      <th>type</th>\n",
              "      <th>type_index</th>\n",
              "      <th>posts</th>\n",
              "      <th>tokenized_cleantexts</th>\n",
              "      <th>I/E</th>\n",
              "      <th>S/N</th>\n",
              "      <th>T/F</th>\n",
              "      <th>P/J</th>\n",
              "    </tr>\n",
              "  </thead>\n",
              "  <tbody>\n",
              "    <tr>\n",
              "      <th>0</th>\n",
              "      <td>INFJ</td>\n",
              "      <td>8</td>\n",
              "      <td>moment sportscenter top ten play prankswhat li...</td>\n",
              "      <td>[moment, sportscenter, top, ten, play, pranksw...</td>\n",
              "      <td>1</td>\n",
              "      <td>0</td>\n",
              "      <td>0</td>\n",
              "      <td>0</td>\n",
              "    </tr>\n",
              "    <tr>\n",
              "      <th>1</th>\n",
              "      <td>ENTP</td>\n",
              "      <td>3</td>\n",
              "      <td>im finding lack post alarmingsex boring positi...</td>\n",
              "      <td>[im, finding, lack, post, alarmingsex, boring,...</td>\n",
              "      <td>0</td>\n",
              "      <td>0</td>\n",
              "      <td>1</td>\n",
              "      <td>1</td>\n",
              "    </tr>\n",
              "    <tr>\n",
              "      <th>2</th>\n",
              "      <td>INTP</td>\n",
              "      <td>11</td>\n",
              "      <td>good one course say know thats blessing cursed...</td>\n",
              "      <td>[good, one, course, say, know, thats, blessing...</td>\n",
              "      <td>1</td>\n",
              "      <td>0</td>\n",
              "      <td>1</td>\n",
              "      <td>1</td>\n",
              "    </tr>\n",
              "    <tr>\n",
              "      <th>3</th>\n",
              "      <td>INTJ</td>\n",
              "      <td>10</td>\n",
              "      <td>dear enjoyed conversation day esoteric gabbing...</td>\n",
              "      <td>[dear, enjoyed, conversation, day, esoteric, g...</td>\n",
              "      <td>1</td>\n",
              "      <td>0</td>\n",
              "      <td>1</td>\n",
              "      <td>0</td>\n",
              "    </tr>\n",
              "    <tr>\n",
              "      <th>4</th>\n",
              "      <td>ENTJ</td>\n",
              "      <td>2</td>\n",
              "      <td>youre firedthats another silly misconception a...</td>\n",
              "      <td>[youre, firedthats, another, silly, misconcept...</td>\n",
              "      <td>0</td>\n",
              "      <td>0</td>\n",
              "      <td>1</td>\n",
              "      <td>0</td>\n",
              "    </tr>\n",
              "    <tr>\n",
              "      <th>...</th>\n",
              "      <td>...</td>\n",
              "      <td>...</td>\n",
              "      <td>...</td>\n",
              "      <td>...</td>\n",
              "      <td>...</td>\n",
              "      <td>...</td>\n",
              "      <td>...</td>\n",
              "      <td>...</td>\n",
              "    </tr>\n",
              "    <tr>\n",
              "      <th>8670</th>\n",
              "      <td>ISFP</td>\n",
              "      <td>13</td>\n",
              "      <td>always think cat doms reason website become ne...</td>\n",
              "      <td>[always, think, cat, doms, reason, website, be...</td>\n",
              "      <td>1</td>\n",
              "      <td>1</td>\n",
              "      <td>0</td>\n",
              "      <td>1</td>\n",
              "    </tr>\n",
              "    <tr>\n",
              "      <th>8671</th>\n",
              "      <td>ENFP</td>\n",
              "      <td>1</td>\n",
              "      <td>soif thread already exists someplace else heck...</td>\n",
              "      <td>[soif, thread, already, exists, someplace, els...</td>\n",
              "      <td>0</td>\n",
              "      <td>0</td>\n",
              "      <td>0</td>\n",
              "      <td>1</td>\n",
              "    </tr>\n",
              "    <tr>\n",
              "      <th>8672</th>\n",
              "      <td>INTP</td>\n",
              "      <td>11</td>\n",
              "      <td>many question thing would take purple pill pic...</td>\n",
              "      <td>[many, question, thing, would, take, purple, p...</td>\n",
              "      <td>1</td>\n",
              "      <td>0</td>\n",
              "      <td>1</td>\n",
              "      <td>1</td>\n",
              "    </tr>\n",
              "    <tr>\n",
              "      <th>8673</th>\n",
              "      <td>INFP</td>\n",
              "      <td>9</td>\n",
              "      <td>conflicted right come wanting child honestly m...</td>\n",
              "      <td>[conflicted, right, come, wanting, child, hone...</td>\n",
              "      <td>1</td>\n",
              "      <td>0</td>\n",
              "      <td>0</td>\n",
              "      <td>1</td>\n",
              "    </tr>\n",
              "    <tr>\n",
              "      <th>8674</th>\n",
              "      <td>INFP</td>\n",
              "      <td>9</td>\n",
              "      <td>long since personalitycafe although doesnt see...</td>\n",
              "      <td>[long, since, personalitycafe, although, doesn...</td>\n",
              "      <td>1</td>\n",
              "      <td>0</td>\n",
              "      <td>0</td>\n",
              "      <td>1</td>\n",
              "    </tr>\n",
              "  </tbody>\n",
              "</table>\n",
              "<p>8675 rows × 8 columns</p>\n",
              "</div>\n",
              "      <button class=\"colab-df-convert\" onclick=\"convertToInteractive('df-8b1fa9a4-08b4-4392-bff5-b1edee430a1a')\"\n",
              "              title=\"Convert this dataframe to an interactive table.\"\n",
              "              style=\"display:none;\">\n",
              "        \n",
              "  <svg xmlns=\"http://www.w3.org/2000/svg\" height=\"24px\"viewBox=\"0 0 24 24\"\n",
              "       width=\"24px\">\n",
              "    <path d=\"M0 0h24v24H0V0z\" fill=\"none\"/>\n",
              "    <path d=\"M18.56 5.44l.94 2.06.94-2.06 2.06-.94-2.06-.94-.94-2.06-.94 2.06-2.06.94zm-11 1L8.5 8.5l.94-2.06 2.06-.94-2.06-.94L8.5 2.5l-.94 2.06-2.06.94zm10 10l.94 2.06.94-2.06 2.06-.94-2.06-.94-.94-2.06-.94 2.06-2.06.94z\"/><path d=\"M17.41 7.96l-1.37-1.37c-.4-.4-.92-.59-1.43-.59-.52 0-1.04.2-1.43.59L10.3 9.45l-7.72 7.72c-.78.78-.78 2.05 0 2.83L4 21.41c.39.39.9.59 1.41.59.51 0 1.02-.2 1.41-.59l7.78-7.78 2.81-2.81c.8-.78.8-2.07 0-2.86zM5.41 20L4 18.59l7.72-7.72 1.47 1.35L5.41 20z\"/>\n",
              "  </svg>\n",
              "      </button>\n",
              "      \n",
              "  <style>\n",
              "    .colab-df-container {\n",
              "      display:flex;\n",
              "      flex-wrap:wrap;\n",
              "      gap: 12px;\n",
              "    }\n",
              "\n",
              "    .colab-df-convert {\n",
              "      background-color: #E8F0FE;\n",
              "      border: none;\n",
              "      border-radius: 50%;\n",
              "      cursor: pointer;\n",
              "      display: none;\n",
              "      fill: #1967D2;\n",
              "      height: 32px;\n",
              "      padding: 0 0 0 0;\n",
              "      width: 32px;\n",
              "    }\n",
              "\n",
              "    .colab-df-convert:hover {\n",
              "      background-color: #E2EBFA;\n",
              "      box-shadow: 0px 1px 2px rgba(60, 64, 67, 0.3), 0px 1px 3px 1px rgba(60, 64, 67, 0.15);\n",
              "      fill: #174EA6;\n",
              "    }\n",
              "\n",
              "    [theme=dark] .colab-df-convert {\n",
              "      background-color: #3B4455;\n",
              "      fill: #D2E3FC;\n",
              "    }\n",
              "\n",
              "    [theme=dark] .colab-df-convert:hover {\n",
              "      background-color: #434B5C;\n",
              "      box-shadow: 0px 1px 3px 1px rgba(0, 0, 0, 0.15);\n",
              "      filter: drop-shadow(0px 1px 2px rgba(0, 0, 0, 0.3));\n",
              "      fill: #FFFFFF;\n",
              "    }\n",
              "  </style>\n",
              "\n",
              "      <script>\n",
              "        const buttonEl =\n",
              "          document.querySelector('#df-8b1fa9a4-08b4-4392-bff5-b1edee430a1a button.colab-df-convert');\n",
              "        buttonEl.style.display =\n",
              "          google.colab.kernel.accessAllowed ? 'block' : 'none';\n",
              "\n",
              "        async function convertToInteractive(key) {\n",
              "          const element = document.querySelector('#df-8b1fa9a4-08b4-4392-bff5-b1edee430a1a');\n",
              "          const dataTable =\n",
              "            await google.colab.kernel.invokeFunction('convertToInteractive',\n",
              "                                                     [key], {});\n",
              "          if (!dataTable) return;\n",
              "\n",
              "          const docLinkHtml = 'Like what you see? Visit the ' +\n",
              "            '<a target=\"_blank\" href=https://colab.research.google.com/notebooks/data_table.ipynb>data table notebook</a>'\n",
              "            + ' to learn more about interactive tables.';\n",
              "          element.innerHTML = '';\n",
              "          dataTable['output_type'] = 'display_data';\n",
              "          await google.colab.output.renderOutput(dataTable, element);\n",
              "          const docLink = document.createElement('div');\n",
              "          docLink.innerHTML = docLinkHtml;\n",
              "          element.appendChild(docLink);\n",
              "        }\n",
              "      </script>\n",
              "    </div>\n",
              "  </div>\n",
              "  "
            ],
            "text/plain": [
              "      type  type_index                                              posts  \\\n",
              "0     INFJ           8  moment sportscenter top ten play prankswhat li...   \n",
              "1     ENTP           3  im finding lack post alarmingsex boring positi...   \n",
              "2     INTP          11  good one course say know thats blessing cursed...   \n",
              "3     INTJ          10  dear enjoyed conversation day esoteric gabbing...   \n",
              "4     ENTJ           2  youre firedthats another silly misconception a...   \n",
              "...    ...         ...                                                ...   \n",
              "8670  ISFP          13  always think cat doms reason website become ne...   \n",
              "8671  ENFP           1  soif thread already exists someplace else heck...   \n",
              "8672  INTP          11  many question thing would take purple pill pic...   \n",
              "8673  INFP           9  conflicted right come wanting child honestly m...   \n",
              "8674  INFP           9  long since personalitycafe although doesnt see...   \n",
              "\n",
              "                                   tokenized_cleantexts  I/E  S/N  T/F  P/J  \n",
              "0     [moment, sportscenter, top, ten, play, pranksw...    1    0    0    0  \n",
              "1     [im, finding, lack, post, alarmingsex, boring,...    0    0    1    1  \n",
              "2     [good, one, course, say, know, thats, blessing...    1    0    1    1  \n",
              "3     [dear, enjoyed, conversation, day, esoteric, g...    1    0    1    0  \n",
              "4     [youre, firedthats, another, silly, misconcept...    0    0    1    0  \n",
              "...                                                 ...  ...  ...  ...  ...  \n",
              "8670  [always, think, cat, doms, reason, website, be...    1    1    0    1  \n",
              "8671  [soif, thread, already, exists, someplace, els...    0    0    0    1  \n",
              "8672  [many, question, thing, would, take, purple, p...    1    0    1    1  \n",
              "8673  [conflicted, right, come, wanting, child, hone...    1    0    0    1  \n",
              "8674  [long, since, personalitycafe, although, doesn...    1    0    0    1  \n",
              "\n",
              "[8675 rows x 8 columns]"
            ]
          },
          "execution_count": 47,
          "metadata": {},
          "output_type": "execute_result"
        }
      ],
      "source": [
        "final_df"
      ]
    },
    {
      "cell_type": "code",
      "execution_count": null,
      "metadata": {
        "id": "nYRdatYSSMK8"
      },
      "outputs": [],
      "source": [
        "from gensim.models import Word2Vec\n",
        "from gensim.models import KeyedVectors\n",
        "from sklearn.decomposition import PCA\n"
      ]
    },
    {
      "cell_type": "code",
      "execution_count": null,
      "metadata": {
        "id": "kF_fuoiKZu2U"
      },
      "outputs": [],
      "source": [
        "#nlp = [nltk.word_tokenize(i) for i in final_df['posts']]\n",
        "nlp=final_df['tokenized_cleantexts']"
      ]
    },
    {
      "cell_type": "code",
      "execution_count": null,
      "metadata": {
        "colab": {
          "base_uri": "https://localhost:8080/"
        },
        "id": "hV10osS2F9KG",
        "outputId": "47ce40c2-3dd3-4f8b-c0ee-1790d7e3b5ef"
      },
      "outputs": [
        {
          "data": {
            "text/plain": [
              "0       [moment, sportscenter, top, ten, play, pranksw...\n",
              "1       [im, finding, lack, post, alarmingsex, boring,...\n",
              "2       [good, one, course, say, know, thats, blessing...\n",
              "3       [dear, enjoyed, conversation, day, esoteric, g...\n",
              "4       [youre, firedthats, another, silly, misconcept...\n",
              "                              ...                        \n",
              "8670    [always, think, cat, doms, reason, website, be...\n",
              "8671    [soif, thread, already, exists, someplace, els...\n",
              "8672    [many, question, thing, would, take, purple, p...\n",
              "8673    [conflicted, right, come, wanting, child, hone...\n",
              "8674    [long, since, personalitycafe, although, doesn...\n",
              "Name: tokenized_cleantexts, Length: 8675, dtype: object"
            ]
          },
          "execution_count": 51,
          "metadata": {},
          "output_type": "execute_result"
        }
      ],
      "source": [
        "nlp"
      ]
    },
    {
      "cell_type": "code",
      "execution_count": null,
      "metadata": {
        "id": "6YJGbAvb1omi"
      },
      "outputs": [],
      "source": [
        "import gensim\n",
        "#Dimension of vectors we are generating\n",
        "EMBEDDING_DIM = 100\n",
        "\n",
        "#Creating Word Vectors by Word2Vec Method (takes time...)\n",
        "w2v_model = gensim.models.Word2Vec(sentences=nlp, size=EMBEDDING_DIM, window=5, min_count=1)"
      ]
    },
    {
      "cell_type": "code",
      "execution_count": 2,
      "metadata": {
        "id": "eO7s2wY22415"
      },
      "outputs": [],
      "source": [
        "import tensorflow as tf\n",
        "from keras.preprocessing.text import Tokenizer\n",
        "from keras_preprocessing.sequence import pad_sequences\n",
        "from keras.models import Sequential\n",
        "from keras.layers import Dense, Embedding, LSTM, Conv1D, MaxPool1D,Dropout\n",
        "from sklearn.model_selection import train_test_split\n",
        "from sklearn.metrics import classification_report, accuracy_score"
      ]
    },
    {
      "cell_type": "code",
      "execution_count": null,
      "metadata": {
        "id": "wrrDnRIc2-dy"
      },
      "outputs": [],
      "source": [
        "from keras.preprocessing.text import Tokenizer\n",
        "\n",
        "# Tokenizing Text -> Repsesenting each word by a number\n",
        "# Mapping of orginal word to number is preserved in word_index property of tokenizer\n",
        "\n",
        "#Tokenized applies basic processing like changing it yo lower case, explicitely setting that as False\n",
        "tokenizer = Tokenizer()\n",
        "tokenizer.fit_on_texts(nlp)\n",
        "\n",
        "clean_text1 = tokenizer.texts_to_sequences(nlp)"
      ]
    },
    {
      "cell_type": "code",
      "execution_count": null,
      "metadata": {
        "colab": {
          "base_uri": "https://localhost:8080/"
        },
        "id": "_NB86UM43-N0",
        "outputId": "db6d4f42-d22e-4334-91af-dfde27a80acc"
      },
      "outputs": [
        {
          "name": "stdout",
          "output_type": "stream",
          "text": [
            "like -> 1\n",
            "im -> 2\n",
            "dont -> 3\n",
            "think -> 4\n",
            "people -> 5\n",
            "know -> 6\n",
            "one -> 7\n",
            "really -> 8\n",
            "would -> 9\n",
            "get -> 10\n"
          ]
        }
      ],
      "source": [
        "#Lets check few word to numerical replesentation\n",
        "#Mapping is preserved in dictionary -> word_index property of instance\n",
        "word_index = tokenizer.word_index\n",
        "for word, num in word_index.items():\n",
        "    print(f\"{word} -> {num}\")\n",
        "    if num == 10:\n",
        "        break"
      ]
    },
    {
      "cell_type": "code",
      "execution_count": null,
      "metadata": {
        "colab": {
          "base_uri": "https://localhost:8080/",
          "height": 265
        },
        "id": "QayVpKU54AJ3",
        "outputId": "7e9d6305-a96e-4adb-a303-ada5bec929d1"
      },
      "outputs": [
        {
          "data": {
            "image/png": "[encoded data removed]",
            "text/plain": [
              "<Figure size 432x288 with 1 Axes>"
            ]
          },
          "metadata": {},
          "output_type": "display_data"
        }
      ],
      "source": [
        "# Determining size of input\n",
        "# Making histogram for no of words in news shows that most news article are under 700 words.\n",
        "# Lets keep each news small and truncate all news to 700 while tokenizing\n",
        "plt.hist([len(x) for x in clean_text1], bins=500, color = \"skyblue\",ec=\"skyblue\")\n",
        "plt.show()"
      ]
    },
    {
      "cell_type": "code",
      "execution_count": null,
      "metadata": {
        "colab": {
          "base_uri": "https://localhost:8080/"
        },
        "id": "DM99Ao-y4HFK",
        "outputId": "9c0a79da-630e-4032-bd4e-dbe6cea2f529"
      },
      "outputs": [
        {
          "data": {
            "text/plain": [
              "12917"
            ]
          },
          "execution_count": 28,
          "metadata": {},
          "output_type": "execute_result"
        }
      ],
      "source": [
        "nos = np.array([len(x) for x in clean_text1])\n",
        "len(nos[nos  < 900])"
      ]
    },
    {
      "cell_type": "code",
      "execution_count": null,
      "metadata": {
        "id": "pgdbZdUR4jdC"
      },
      "outputs": [],
      "source": [
        "from keras_preprocessing.sequence import pad_sequences\n",
        "#Lets keep all posts to 900, add padding to posts with less than 900 words and truncating long ones\n",
        "maxlen = 900\n",
        "\n",
        "#Making all news of size maxlen defined above\n",
        "X = pad_sequences(clean_text1, maxlen=maxlen)"
      ]
    },
    {
      "cell_type": "code",
      "execution_count": null,
      "metadata": {
        "id": "aThT3Cbn4wk_"
      },
      "outputs": [],
      "source": [
        "# Adding 1 because of reserved 0 index\n",
        "# Embedding Layer creates one more vector for \"UNKNOWN\" words, or padded words (0s). This Vector is filled with zeros.\n",
        "# Thus our vocab size inceeases by 1\n",
        "vocab_size = len(tokenizer.word_index) + 1"
      ]
    },
    {
      "cell_type": "code",
      "execution_count": null,
      "metadata": {
        "id": "2eNw0uQO437F"
      },
      "outputs": [],
      "source": [
        "# Function to create weight matrix from word2vec gensim model\n",
        "def get_weight_matrix(model, vocab):\n",
        "    # total vocabulary size plus 0 for unknown words\n",
        "    vocab_size = len(vocab) + 1\n",
        "    # define weight matrix dimensions with all 0\n",
        "    weight_matrix = np.zeros((vocab_size, EMBEDDING_DIM))\n",
        "    # step vocab, store vectors using the Tokenizer's integer mapping\n",
        "    for word, i in vocab.items():\n",
        "        weight_matrix[i] = model[word]\n",
        "    return weight_matrix"
      ]
    },
    {
      "cell_type": "code",
      "execution_count": null,
      "metadata": {
        "colab": {
          "base_uri": "https://localhost:8080/"
        },
        "id": "tY0Sp_Ae44pa",
        "outputId": "a78bf8b2-35e0-4453-e500-10dee6f5393d"
      },
      "outputs": [
        {
          "name": "stderr",
          "output_type": "stream",
          "text": [
            "/usr/local/lib/python3.7/dist-packages/ipykernel_launcher.py:9: DeprecationWarning: Call to deprecated `__getitem__` (Method will be removed in 4.0.0, use self.wv.__getitem__() instead).\n",
            "  if __name__ == '__main__':\n"
          ]
        }
      ],
      "source": [
        "#Getting embedding vectors from word2vec and usings it as weights of non-trainable keras embedding layer\n",
        "embedding_vectors = get_weight_matrix(w2v_model, word_index)"
      ]
    },
    {
      "cell_type": "code",
      "execution_count": null,
      "metadata": {
        "id": "VxBK3SC_Aq8u"
      },
      "outputs": [],
      "source": [
        "MAX_NB_WORDS = 50000"
      ]
    },
    {
      "cell_type": "code",
      "execution_count": null,
      "metadata": {
        "id": "qmlu6bHS49E3"
      },
      "outputs": [],
      "source": [
        "#Defining Neural Network\n",
        "model = Sequential()\n",
        "#Non-trainable embeddidng layer\n",
        "model.add(Embedding(vocab_size, output_dim=EMBEDDING_DIM, weights=[embedding_vectors], input_length=maxlen, trainable=False))\n",
        "model.add(Dropout(0.5))\n",
        "#LSTM\n",
        "model.add(LSTM(units=128))\n",
        "model.add(Dense(512,activation='relu'))\n",
        "model.add(Dropout(0.2))\n",
        "model.add(Dense(16, activation='softmax'))\n",
        "model.compile(optimizer='adam', loss='binary_crossentropy', metrics=['acc'])\n",
        "\n",
        "del embedding_vectors"
      ]
    },
    {
      "cell_type": "code",
      "execution_count": null,
      "metadata": {
        "id": "b5M53l625Nsj"
      },
      "outputs": [],
      "source": [
        "#Train test split\n",
        "y = pd.get_dummies(df['type']).values\n",
        "X_train, X_test, y_train, y_test = train_test_split(X, y)"
      ]
    },
    {
      "cell_type": "code",
      "execution_count": null,
      "metadata": {
        "colab": {
          "base_uri": "https://localhost:8080/"
        },
        "id": "n0G5w0Ft_KNv",
        "outputId": "91dc7a2d-9c5b-4be0-c778-7920a6bec929"
      },
      "outputs": [
        {
          "name": "stdout",
          "output_type": "stream",
          "text": [
            "(9721, 900) (9721, 16)\n",
            "(3241, 900) (3241, 16)\n"
          ]
        }
      ],
      "source": [
        "print(X_train.shape,y_train.shape)\n",
        "print(X_test.shape,y_test.shape)"
      ]
    },
    {
      "cell_type": "code",
      "execution_count": null,
      "metadata": {
        "colab": {
          "base_uri": "https://localhost:8080/"
        },
        "id": "Zk177nvQ5SRa",
        "outputId": "ee721151-de07-475a-edbe-497e7be056c5"
      },
      "outputs": [
        {
          "name": "stdout",
          "output_type": "stream",
          "text": [
            "Epoch 1/40\n",
            "213/213 [==============================] - 12s 50ms/step - loss: 0.2446 - acc: 0.1308 - val_loss: 0.2265 - val_acc: 0.1358\n",
            "Epoch 2/40\n",
            "213/213 [==============================] - 10s 49ms/step - loss: 0.2240 - acc: 0.1486 - val_loss: 0.2184 - val_acc: 0.1615\n",
            "Epoch 3/40\n",
            "213/213 [==============================] - 10s 48ms/step - loss: 0.2165 - acc: 0.1792 - val_loss: 0.2142 - val_acc: 0.1796\n",
            "Epoch 4/40\n",
            "213/213 [==============================] - 10s 49ms/step - loss: 0.2094 - acc: 0.2163 - val_loss: 0.2016 - val_acc: 0.2585\n",
            "Epoch 5/40\n",
            "213/213 [==============================] - 10s 49ms/step - loss: 0.1962 - acc: 0.2694 - val_loss: 0.1881 - val_acc: 0.2921\n",
            "Epoch 6/40\n",
            "213/213 [==============================] - 10s 48ms/step - loss: 0.1832 - acc: 0.3178 - val_loss: 0.1747 - val_acc: 0.3411\n",
            "Epoch 7/40\n",
            "213/213 [==============================] - 10s 49ms/step - loss: 0.1716 - acc: 0.3674 - val_loss: 0.1704 - val_acc: 0.3682\n",
            "Epoch 8/40\n",
            "213/213 [==============================] - 11s 50ms/step - loss: 0.1606 - acc: 0.4048 - val_loss: 0.1578 - val_acc: 0.4248\n",
            "Epoch 9/40\n",
            "213/213 [==============================] - 10s 49ms/step - loss: 0.1507 - acc: 0.4550 - val_loss: 0.1469 - val_acc: 0.4535\n",
            "Epoch 10/40\n",
            "213/213 [==============================] - 12s 54ms/step - loss: 0.1435 - acc: 0.4800 - val_loss: 0.1413 - val_acc: 0.4803\n",
            "Epoch 11/40\n",
            "213/213 [==============================] - 11s 53ms/step - loss: 0.1349 - acc: 0.5159 - val_loss: 0.1386 - val_acc: 0.5036\n",
            "Epoch 12/40\n",
            "213/213 [==============================] - 11s 53ms/step - loss: 0.1286 - acc: 0.5488 - val_loss: 0.1276 - val_acc: 0.5430\n",
            "Epoch 13/40\n",
            "213/213 [==============================] - 10s 49ms/step - loss: 0.1201 - acc: 0.5885 - val_loss: 0.1160 - val_acc: 0.6184\n",
            "Epoch 14/40\n",
            "213/213 [==============================] - 11s 53ms/step - loss: 0.1101 - acc: 0.6486 - val_loss: 0.1090 - val_acc: 0.6730\n",
            "Epoch 15/40\n",
            "213/213 [==============================] - 10s 49ms/step - loss: 0.1036 - acc: 0.6770 - val_loss: 0.1037 - val_acc: 0.6918\n",
            "Epoch 16/40\n",
            "213/213 [==============================] - 10s 49ms/step - loss: 0.0968 - acc: 0.7052 - val_loss: 0.1067 - val_acc: 0.6774\n",
            "Epoch 17/40\n",
            "213/213 [==============================] - 10s 48ms/step - loss: 0.0939 - acc: 0.7096 - val_loss: 0.1019 - val_acc: 0.6921\n",
            "Epoch 18/40\n",
            "213/213 [==============================] - 10s 48ms/step - loss: 0.0884 - acc: 0.7250 - val_loss: 0.0972 - val_acc: 0.7117\n",
            "Epoch 19/40\n",
            "213/213 [==============================] - 10s 49ms/step - loss: 0.0857 - acc: 0.7343 - val_loss: 0.0960 - val_acc: 0.7127\n",
            "Epoch 20/40\n",
            "213/213 [==============================] - 10s 49ms/step - loss: 0.0835 - acc: 0.7422 - val_loss: 0.0965 - val_acc: 0.7185\n",
            "Epoch 21/40\n",
            "213/213 [==============================] - 10s 49ms/step - loss: 0.0795 - acc: 0.7560 - val_loss: 0.0932 - val_acc: 0.7288\n",
            "Epoch 22/40\n",
            "213/213 [==============================] - 10s 49ms/step - loss: 0.0775 - acc: 0.7665 - val_loss: 0.0928 - val_acc: 0.7240\n",
            "Epoch 23/40\n",
            "213/213 [==============================] - 10s 49ms/step - loss: 0.0758 - acc: 0.7628 - val_loss: 0.0937 - val_acc: 0.7360\n",
            "Epoch 24/40\n",
            "213/213 [==============================] - 10s 49ms/step - loss: 0.0781 - acc: 0.7626 - val_loss: 0.0899 - val_acc: 0.7405\n",
            "Epoch 25/40\n",
            "213/213 [==============================] - 11s 51ms/step - loss: 0.0741 - acc: 0.7697 - val_loss: 0.0897 - val_acc: 0.7347\n",
            "Epoch 26/40\n",
            "213/213 [==============================] - 11s 53ms/step - loss: 0.0705 - acc: 0.7822 - val_loss: 0.0921 - val_acc: 0.7350\n",
            "Epoch 27/40\n",
            "213/213 [==============================] - 11s 50ms/step - loss: 0.0712 - acc: 0.7832 - val_loss: 0.0891 - val_acc: 0.7419\n",
            "Epoch 28/40\n",
            "213/213 [==============================] - 11s 50ms/step - loss: 0.0683 - acc: 0.7931 - val_loss: 0.0902 - val_acc: 0.7436\n",
            "Epoch 29/40\n",
            "213/213 [==============================] - 11s 49ms/step - loss: 0.0655 - acc: 0.7966 - val_loss: 0.0921 - val_acc: 0.7422\n",
            "Epoch 30/40\n",
            "213/213 [==============================] - 12s 55ms/step - loss: 0.0648 - acc: 0.8016 - val_loss: 0.0875 - val_acc: 0.7446\n",
            "Epoch 31/40\n",
            "213/213 [==============================] - 11s 53ms/step - loss: 0.0630 - acc: 0.8095 - val_loss: 0.0900 - val_acc: 0.7429\n",
            "Epoch 32/40\n",
            "213/213 [==============================] - 10s 49ms/step - loss: 0.0628 - acc: 0.8067 - val_loss: 0.0886 - val_acc: 0.7432\n",
            "Epoch 33/40\n",
            "213/213 [==============================] - 10s 48ms/step - loss: 0.0622 - acc: 0.8088 - val_loss: 0.0897 - val_acc: 0.7497\n",
            "Epoch 34/40\n",
            "213/213 [==============================] - 10s 49ms/step - loss: 0.0611 - acc: 0.8166 - val_loss: 0.0902 - val_acc: 0.7508\n",
            "Epoch 35/40\n",
            "213/213 [==============================] - 10s 48ms/step - loss: 0.0582 - acc: 0.8210 - val_loss: 0.0897 - val_acc: 0.7463\n",
            "Epoch 36/40\n",
            "213/213 [==============================] - 10s 49ms/step - loss: 0.0581 - acc: 0.8251 - val_loss: 0.0917 - val_acc: 0.7436\n",
            "Epoch 37/40\n",
            "213/213 [==============================] - 11s 50ms/step - loss: 0.0560 - acc: 0.8330 - val_loss: 0.0889 - val_acc: 0.7463\n",
            "Epoch 38/40\n",
            "213/213 [==============================] - 11s 49ms/step - loss: 0.0558 - acc: 0.8308 - val_loss: 0.0924 - val_acc: 0.7470\n",
            "Epoch 39/40\n",
            "213/213 [==============================] - 11s 50ms/step - loss: 0.0539 - acc: 0.8355 - val_loss: 0.0901 - val_acc: 0.7446\n",
            "Epoch 40/40\n",
            "213/213 [==============================] - 11s 49ms/step - loss: 0.0559 - acc: 0.8329 - val_loss: 0.0925 - val_acc: 0.7422\n"
          ]
        }
      ],
      "source": [
        "history=model.fit(X_train, y_train, validation_split=0.3, epochs=40)"
      ]
    },
    {
      "cell_type": "code",
      "execution_count": null,
      "metadata": {
        "colab": {
          "base_uri": "https://localhost:8080/",
          "height": 573
        },
        "id": "Jxh-LfTwZWza",
        "outputId": "fd173450-0277-4f94-e048-855c59a95c3b"
      },
      "outputs": [
        {
          "data": {
            "image/png": "[encoded data removed]",
            "text/plain": [
              "<Figure size 432x288 with 1 Axes>"
            ]
          },
          "metadata": {},
          "output_type": "display_data"
        },
        {
          "data": {
            "image/png": "[encoded data removed]",
            "text/plain": [
              "<Figure size 432x288 with 1 Axes>"
            ]
          },
          "metadata": {},
          "output_type": "display_data"
        }
      ],
      "source": [
        "import matplotlib.pyplot as plt\n",
        "\n",
        "# summarize history for accuracy\n",
        "plt.plot(history.history['acc'])\n",
        "plt.plot(history.history['val_acc'])\n",
        "plt.title('model accuracy')\n",
        "plt.ylabel('accuracy')\n",
        "plt.xlabel('epoch')\n",
        "plt.legend(['Train', 'Validation'], loc='upper left')\n",
        "plt.show()\n",
        "# summarize history for loss\n",
        "plt.plot(history.history['loss'])\n",
        "plt.plot(history.history['val_loss'])\n",
        "plt.title('model loss')\n",
        "plt.ylabel('loss')\n",
        "plt.xlabel('epoch')\n",
        "plt.legend(['Train', 'Validation'], loc='upper left')\n",
        "plt.show()"
      ]
    },
    {
      "cell_type": "code",
      "execution_count": null,
      "metadata": {
        "colab": {
          "base_uri": "https://localhost:8080/"
        },
        "id": "xCK-CiJvCEt3",
        "outputId": "6ee334ff-1f15-4a84-c4e3-4df0766345c5"
      },
      "outputs": [
        {
          "name": "stdout",
          "output_type": "stream",
          "text": [
            "102/102 [==============================] - 2s 18ms/step\n"
          ]
        }
      ],
      "source": [
        "#Prediction is in probability of news being real, so converting into classes\n",
        "# Class 0 (Fake) if predicted prob < 0.5, else class 1 (Real)\n",
        "y_pred = (model.predict(X_test) >= 0.5).astype(\"int\")"
      ]
    },
    {
      "cell_type": "code",
      "execution_count": null,
      "metadata": {
        "colab": {
          "base_uri": "https://localhost:8080/"
        },
        "id": "etkitU8LfB7I",
        "outputId": "949a06ce-7933-49ab-86d8-6117071671d5"
      },
      "outputs": [
        {
          "data": {
            "text/plain": [
              "0.7371181734032706"
            ]
          },
          "execution_count": 77,
          "metadata": {},
          "output_type": "execute_result"
        }
      ],
      "source": [
        "accuracy_score(y_test, y_pred)"
      ]
    }
  ],
  "metadata": {
    "accelerator": "GPU",
    "colab": {
      "provenance": []
    },
    "gpuClass": "standard",
    "kernelspec": {
      "display_name": "Python 3",
      "name": "python3"
    },
    "language_info": {
      "name": "python"
    }
  },
  "nbformat": 4,
  "nbformat_minor": 0
}